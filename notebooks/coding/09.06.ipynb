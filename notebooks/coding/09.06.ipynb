{
 "cells": [
  {
   "cell_type": "markdown",
   "id": "5d6b44dd",
   "metadata": {},
   "source": [
    "Give a binary tree, write a function to determine whether the tree is a mirror image of itself. \n",
    "\n",
    "Two trees are a mirror image of each other if their root values are the same and the left subtree is a mirror image of the rght subtree."
   ]
  },
  {
   "cell_type": "code",
   "execution_count": 135,
   "id": "4ffd5b6d",
   "metadata": {
    "ExecuteTime": {
     "end_time": "2024-01-11T19:50:20.065410Z",
     "start_time": "2024-01-11T19:50:20.047814Z"
    }
   },
   "outputs": [],
   "source": [
    "class Node():\n",
    "    def __init__(self, val, parent=None):\n",
    "        self.key = val\n",
    "        self._left = None\n",
    "        self._right = None\n",
    "        self.parent = parent\n",
    "\n",
    "    def _get_left(self):\n",
    "        return self._left\n",
    "    def _set_left(self, val):\n",
    "        self._left = Node(val, self)\n",
    "    def _get_right(self):\n",
    "        return self._right\n",
    "    def _set_right(self, val):\n",
    "        self._right = Node(val, self)\n",
    "    left  = property(_get_left, _set_left)\n",
    "    right = property(_get_right, _set_right)\n",
    "    \n",
    "    \n",
    "    def display(self):\n",
    "        # https://stackoverflow.com/questions/34012886/print-binary-tree-level-by-level-in-python\n",
    "        lines, *_ = self._display_aux()\n",
    "        for line in lines:\n",
    "            print(line)\n",
    "\n",
    "    def _display_aux(self):\n",
    "        # https://stackoverflow.com/questions/34012886/print-binary-tree-level-by-level-in-python\n",
    "        \"\"\"Returns list of strings, width, height, and horizontal coordinate of the root.\"\"\"\n",
    "        # No child.\n",
    "        if self.right is None and self.left is None:\n",
    "            line = '%s' % self.key\n",
    "            width = len(line)\n",
    "            height = 1\n",
    "            middle = width // 2\n",
    "            return [line], width, height, middle\n",
    "\n",
    "        # Only left child.\n",
    "        if self.right is None:\n",
    "            lines, n, p, x = self.left._display_aux()\n",
    "            s = '%s' % self.key\n",
    "            u = len(s)\n",
    "            first_line = (x + 1) * ' ' + (n - x - 1) * '_' + s\n",
    "            second_line = x * ' ' + '/' + (n - x - 1 + u) * ' '\n",
    "            shifted_lines = [line + u * ' ' for line in lines]\n",
    "            return [first_line, second_line] + shifted_lines, n + u, p + 2, n + u // 2\n",
    "\n",
    "        # Only right child.\n",
    "        if self.left is None:\n",
    "            lines, n, p, x = self.right._display_aux()\n",
    "            s = '%s' % self.key\n",
    "            u = len(s)\n",
    "            first_line = s + x * '_' + (n - x) * ' '\n",
    "            second_line = (u + x) * ' ' + '\\\\' + (n - x - 1) * ' '\n",
    "            shifted_lines = [u * ' ' + line for line in lines]\n",
    "            return [first_line, second_line] + shifted_lines, n + u, p + 2, u // 2\n",
    "\n",
    "        # Two children.\n",
    "        left, n, p, x = self.left._display_aux()\n",
    "        right, m, q, y = self.right._display_aux()\n",
    "        s = '%s' % self.key\n",
    "        u = len(s)\n",
    "        first_line = (x + 1) * ' ' + (n - x - 1) * '_' + s + y * '_' + (m - y) * ' '\n",
    "        second_line = x * ' ' + '/' + (n - x - 1 + u + y) * ' ' + '\\\\' + (m - y - 1) * ' '\n",
    "        if p < q:\n",
    "            left += [n * ' '] * (q - p)\n",
    "        elif q < p:\n",
    "            right += [m * ' '] * (p - q)\n",
    "        zipped_lines = zip(left, right)\n",
    "        lines = [first_line, second_line] + [a + u * ' ' + b for a, b in zipped_lines]\n",
    "        return lines, n + m + u, max(p, q) + 2, n + u // 2\n"
   ]
  },
  {
   "cell_type": "code",
   "execution_count": 136,
   "id": "5d55c6d6",
   "metadata": {
    "ExecuteTime": {
     "end_time": "2024-01-11T19:50:24.631640Z",
     "start_time": "2024-01-11T19:50:24.624502Z"
    }
   },
   "outputs": [
    {
     "name": "stdout",
     "output_type": "stream",
     "text": [
      "  _7_   \n",
      " /   \\  \n",
      " 5   5_ \n",
      "/ \\ /  \\\n",
      "4 3 3  4\n",
      "      / \n",
      "      3 \n"
     ]
    }
   ],
   "source": [
    "root = Node(7)\n",
    "\n",
    "root.left = 5\n",
    "root.right = 5\n",
    "root.left.left = 4\n",
    "root.left.right = 3\n",
    "root.right.left = 3\n",
    "root.right.right = 4\n",
    "root.right.right.left = 3\n",
    "\n",
    "root.display()"
   ]
  },
  {
   "cell_type": "code",
   "execution_count": 137,
   "id": "0a4067ed",
   "metadata": {
    "ExecuteTime": {
     "end_time": "2024-01-11T19:50:27.767931Z",
     "start_time": "2024-01-11T19:50:27.763537Z"
    }
   },
   "outputs": [],
   "source": [
    "q = []"
   ]
  },
  {
   "cell_type": "code",
   "execution_count": 161,
   "id": "d8e64d59",
   "metadata": {
    "ExecuteTime": {
     "end_time": "2024-01-11T19:53:41.695753Z",
     "start_time": "2024-01-11T19:53:41.683494Z"
    }
   },
   "outputs": [],
   "source": [
    "def symmetry_check(root):\n",
    "\n",
    "    if root.left == None or root.right == None:\n",
    "        print('NO - one or two child nodes missing')\n",
    "        return \n",
    "    q = []\n",
    "    q.insert(0,root.left)\n",
    "    q.insert(0,root.right)\n",
    "    failed = False\n",
    "    while len(q)!=0:\n",
    "        l = q.pop()\n",
    "        r = q.pop()\n",
    "        if l.key != r.key:\n",
    "            print('NO - not same key')\n",
    "            failed = True\n",
    "            break\n",
    "\n",
    "        if (((l.left == None) and (r.right!=None)) \n",
    "            or ((l.left != None) and (r.right==None))) or \\\n",
    "            (((l.right == None) and (r.left!=None)) \n",
    "            or ((l.right != None) and (r.left==None))):\n",
    "            failed = True\n",
    "            print('NO - missing node')\n",
    "\n",
    "        if (l.left != None):\n",
    "            q.insert(0, l.left)\n",
    "            q.insert(0, r.right)\n",
    "        if (l.right != None):\n",
    "            q.insert(0, l.right)\n",
    "            q.insert(0, r.left)\n",
    "    if not failed and (len(q)==0):\n",
    "        print('YES')"
   ]
  },
  {
   "cell_type": "code",
   "execution_count": 162,
   "id": "0d74851d",
   "metadata": {
    "ExecuteTime": {
     "end_time": "2024-01-11T19:53:41.853668Z",
     "start_time": "2024-01-11T19:53:41.848128Z"
    }
   },
   "outputs": [
    {
     "name": "stdout",
     "output_type": "stream",
     "text": [
      "  _7_   \n",
      " /   \\  \n",
      " 5   5_ \n",
      "/ \\ /  \\\n",
      "4 3 3  4\n",
      "      / \n",
      "      3 \n",
      "NO - missing node\n"
     ]
    }
   ],
   "source": [
    "root = Node(7)\n",
    "\n",
    "root.left = 5\n",
    "root.right = 5\n",
    "root.left.left = 4\n",
    "root.left.right = 3\n",
    "root.right.left = 3\n",
    "root.right.right = 4\n",
    "root.right.right.left = 3\n",
    "\n",
    "root.display()\n",
    "symmetry_check(root)"
   ]
  },
  {
   "cell_type": "code",
   "execution_count": 163,
   "id": "12db5ca7",
   "metadata": {
    "ExecuteTime": {
     "end_time": "2024-01-11T19:53:42.013289Z",
     "start_time": "2024-01-11T19:53:42.007903Z"
    }
   },
   "outputs": [
    {
     "name": "stdout",
     "output_type": "stream",
     "text": [
      "  _7_  \n",
      " /   \\ \n",
      " 5   5 \n",
      "/ \\ / \\\n",
      "4 3 4 3\n",
      "NO - not same key\n"
     ]
    }
   ],
   "source": [
    "root = Node(7)\n",
    "\n",
    "root.left = 5\n",
    "root.right = 5\n",
    "root.left.left = 4\n",
    "root.left.right = 3\n",
    "root.right.left = 4\n",
    "root.right.right = 3\n",
    "# root.right.right.left = 3\n",
    "\n",
    "root.display()\n",
    "symmetry_check(root)"
   ]
  },
  {
   "cell_type": "code",
   "execution_count": 164,
   "id": "c0e8b727",
   "metadata": {
    "ExecuteTime": {
     "end_time": "2024-01-11T19:53:43.076890Z",
     "start_time": "2024-01-11T19:53:43.072455Z"
    }
   },
   "outputs": [
    {
     "name": "stdout",
     "output_type": "stream",
     "text": [
      "7\n",
      "NO - one or two child nodes missing\n"
     ]
    }
   ],
   "source": [
    "root = Node(7)\n",
    "root.display()\n",
    "symmetry_check(root)"
   ]
  },
  {
   "cell_type": "code",
   "execution_count": 175,
   "id": "4fd5621b",
   "metadata": {
    "ExecuteTime": {
     "end_time": "2024-01-11T19:56:34.870490Z",
     "start_time": "2024-01-11T19:56:34.860816Z"
    }
   },
   "outputs": [
    {
     "name": "stdout",
     "output_type": "stream",
     "text": [
      "    ___7___    \n",
      "   /       \\   \n",
      "  _5_     _5_  \n",
      " /   \\   /   \\ \n",
      " 4   3   3   4 \n",
      "/ \\ / \\ / \\ / \\\n",
      "8 7 6 5 5 6 6 8\n",
      "NO - not same key\n"
     ]
    }
   ],
   "source": [
    "root = Node(7)\n",
    "\n",
    "root.left = 5\n",
    "root.right = 5\n",
    "root.left.left = 4\n",
    "root.left.right = 3\n",
    "root.right.left = 3\n",
    "root.right.right = 4\n",
    "\n",
    "\n",
    "root.left.left.left = 8\n",
    "root.left.left.right = 7\n",
    "root.left.right.left = 6\n",
    "root.left.right.right = 5\n",
    "root.right.left.left = 5\n",
    "root.right.left.right = 6\n",
    "root.right.right.left = 6\n",
    "root.right.right.right = 8\n",
    "\n",
    "\n",
    "\n",
    "root.display()\n",
    "symmetry_check(root)"
   ]
  },
  {
   "cell_type": "code",
   "execution_count": 176,
   "id": "6fddffa1",
   "metadata": {
    "ExecuteTime": {
     "end_time": "2024-01-11T19:56:46.696756Z",
     "start_time": "2024-01-11T19:56:46.687951Z"
    }
   },
   "outputs": [
    {
     "name": "stdout",
     "output_type": "stream",
     "text": [
      "    ___7___    \n",
      "   /       \\   \n",
      "  _5_     _5_  \n",
      " /   \\   /   \\ \n",
      " 4   3   3   4 \n",
      "/ \\ / \\ / \\ / \\\n",
      "8 7 6 5 5 6 7 8\n",
      "YES\n"
     ]
    }
   ],
   "source": [
    "root = Node(7)\n",
    "\n",
    "root.left = 5\n",
    "root.right = 5\n",
    "root.left.left = 4\n",
    "root.left.right = 3\n",
    "root.right.left = 3\n",
    "root.right.right = 4\n",
    "\n",
    "\n",
    "root.left.left.left = 8\n",
    "root.left.left.right = 7\n",
    "root.left.right.left = 6\n",
    "root.left.right.right = 5\n",
    "root.right.left.left = 5\n",
    "root.right.left.right = 6\n",
    "root.right.right.left = 7\n",
    "root.right.right.right = 8\n",
    "\n",
    "\n",
    "\n",
    "root.display()\n",
    "symmetry_check(root)"
   ]
  }
 ],
 "metadata": {
  "kernelspec": {
   "display_name": "py310",
   "language": "python",
   "name": "py310"
  },
  "language_info": {
   "codemirror_mode": {
    "name": "ipython",
    "version": 3
   },
   "file_extension": ".py",
   "mimetype": "text/x-python",
   "name": "python",
   "nbconvert_exporter": "python",
   "pygments_lexer": "ipython3",
   "version": "3.10.11"
  }
 },
 "nbformat": 4,
 "nbformat_minor": 5
}
