{
 "cells": [
  {
   "cell_type": "markdown",
   "id": "c0de124d",
   "metadata": {},
   "source": [
    "Given a list of coordinates, write a function to find the k closest points (measured by Euclidean distance) to the **origin**.\n",
    "For example if k=3 and the points are: [[2,-1],[3,2],[4,1],[-1,-1],[-2,2]], then return [[-1,-1],[2,-1],[-2,2]]"
   ]
  },
  {
   "cell_type": "code",
   "execution_count": 4,
   "id": "24f06040",
   "metadata": {
    "ExecuteTime": {
     "end_time": "2024-01-08T20:44:05.440832Z",
     "start_time": "2024-01-08T20:44:05.436272Z"
    }
   },
   "outputs": [],
   "source": [
    "from matplotlib import pyplot as plt\n",
    "\n",
    "import numpy as np"
   ]
  },
  {
   "cell_type": "code",
   "execution_count": 2,
   "id": "8fcacf6e",
   "metadata": {
    "ExecuteTime": {
     "end_time": "2024-01-08T20:43:54.590188Z",
     "start_time": "2024-01-08T20:43:54.584965Z"
    }
   },
   "outputs": [],
   "source": [
    "a = [[2,-1],[3,2],[4,1],[-1,-1],[-2,2]]"
   ]
  },
  {
   "cell_type": "markdown",
   "id": "c4820285",
   "metadata": {},
   "source": [
    "eclidian distance - square root of something"
   ]
  },
  {
   "cell_type": "code",
   "execution_count": null,
   "id": "31f30ede",
   "metadata": {},
   "outputs": [],
   "source": []
  },
  {
   "cell_type": "code",
   "execution_count": 6,
   "id": "7b4f9781",
   "metadata": {
    "ExecuteTime": {
     "end_time": "2024-01-08T20:44:29.654283Z",
     "start_time": "2024-01-08T20:44:29.434830Z"
    }
   },
   "outputs": [
    {
     "data": {
      "text/plain": [
       "<matplotlib.collections.PathCollection at 0x7f00effe2110>"
      ]
     },
     "execution_count": 6,
     "metadata": {},
     "output_type": "execute_result"
    },
    {
     "data": {
      "image/png": "[encoded data removed]",
      "text/plain": [
       "<Figure size 640x480 with 1 Axes>"
      ]
     },
     "metadata": {},
     "output_type": "display_data"
    }
   ],
   "source": [
    "_a = np.array(a)\n",
    "plt.scatter(_a[::,0],_a[::,1])"
   ]
  },
  {
   "cell_type": "code",
   "execution_count": 8,
   "id": "464ad01a",
   "metadata": {
    "ExecuteTime": {
     "end_time": "2024-01-08T20:55:01.767270Z",
     "start_time": "2024-01-08T20:55:01.761594Z"
    }
   },
   "outputs": [],
   "source": [
    "a = list(sorted(a, key=lambda x: np.sqrt(x[0]**2+x[1]**2)))"
   ]
  },
  {
   "cell_type": "code",
   "execution_count": 9,
   "id": "8b6654ff",
   "metadata": {
    "ExecuteTime": {
     "end_time": "2024-01-08T20:55:07.303810Z",
     "start_time": "2024-01-08T20:55:07.299122Z"
    }
   },
   "outputs": [],
   "source": [
    "k=3"
   ]
  },
  {
   "cell_type": "code",
   "execution_count": 10,
   "id": "981d345e",
   "metadata": {
    "ExecuteTime": {
     "end_time": "2024-01-08T20:55:07.567110Z",
     "start_time": "2024-01-08T20:55:07.560885Z"
    }
   },
   "outputs": [
    {
     "data": {
      "text/plain": [
       "[[-1, -1], [2, -1], [-2, 2]]"
      ]
     },
     "execution_count": 10,
     "metadata": {},
     "output_type": "execute_result"
    }
   ],
   "source": [
    "a[:k]"
   ]
  },
  {
   "cell_type": "code",
   "execution_count": 11,
   "id": "9f2d71cd",
   "metadata": {
    "ExecuteTime": {
     "end_time": "2024-01-08T20:55:37.887721Z",
     "start_time": "2024-01-08T20:55:37.882346Z"
    }
   },
   "outputs": [],
   "source": [
    "def closest(a, k):\n",
    "    a = list(sorted(a, key=lambda x: np.sqrt(x[0]**2+x[1]**2)))\n",
    "    return a[:k]"
   ]
  },
  {
   "cell_type": "code",
   "execution_count": 19,
   "id": "ed334a10",
   "metadata": {
    "ExecuteTime": {
     "end_time": "2024-01-08T21:09:48.360249Z",
     "start_time": "2024-01-08T21:09:48.355661Z"
    }
   },
   "outputs": [],
   "source": [
    "from heapq import heappush, heappop"
   ]
  },
  {
   "cell_type": "code",
   "execution_count": 27,
   "id": "7a6a32ea",
   "metadata": {
    "ExecuteTime": {
     "end_time": "2024-01-08T21:11:28.390738Z",
     "start_time": "2024-01-08T21:11:28.383661Z"
    }
   },
   "outputs": [],
   "source": [
    "def lala(a, k):\n",
    "    def dist(x,y):\n",
    "        return np.sqrt(x**2+y**2)\n",
    "    min_heap = []\n",
    "    for i in range(len(a)):\n",
    "        x,y = a[i]\n",
    "        heappush(min_heap, (dist(x,y), a[i]))\n",
    "    return [xy for (d, xy) in min_heap[:k]]"
   ]
  },
  {
   "cell_type": "code",
   "execution_count": 28,
   "id": "60f2af1b",
   "metadata": {
    "ExecuteTime": {
     "end_time": "2024-01-08T21:11:28.822464Z",
     "start_time": "2024-01-08T21:11:28.815362Z"
    }
   },
   "outputs": [
    {
     "data": {
      "text/plain": [
       "[[-1, -1], [2, -1], [-2, 2]]"
      ]
     },
     "execution_count": 28,
     "metadata": {},
     "output_type": "execute_result"
    }
   ],
   "source": [
    "lala(a, 3)"
   ]
  },
  {
   "cell_type": "code",
   "execution_count": 13,
   "id": "d5556427",
   "metadata": {
    "ExecuteTime": {
     "end_time": "2024-01-08T20:55:44.132573Z",
     "start_time": "2024-01-08T20:55:44.126324Z"
    }
   },
   "outputs": [
    {
     "data": {
      "text/plain": [
       "[[-1, -1], [2, -1], [-2, 2]]"
      ]
     },
     "execution_count": 13,
     "metadata": {},
     "output_type": "execute_result"
    }
   ],
   "source": [
    "closest(a, 3)"
   ]
  },
  {
   "cell_type": "markdown",
   "id": "513f0981",
   "metadata": {
    "ExecuteTime": {
     "end_time": "2024-01-08T21:12:44.843891Z",
     "start_time": "2024-01-08T21:12:44.822036Z"
    }
   },
   "source": [
    "# test"
   ]
  },
  {
   "cell_type": "code",
   "execution_count": 35,
   "id": "88371ea6",
   "metadata": {
    "ExecuteTime": {
     "end_time": "2024-01-08T21:15:01.828118Z",
     "start_time": "2024-01-08T21:15:01.821020Z"
    }
   },
   "outputs": [
    {
     "data": {
      "text/plain": [
       "0.4445211157798714"
      ]
     },
     "execution_count": 35,
     "metadata": {},
     "output_type": "execute_result"
    }
   ],
   "source": [
    "np.random.rand()"
   ]
  },
  {
   "cell_type": "code",
   "execution_count": 37,
   "id": "3590e683",
   "metadata": {
    "ExecuteTime": {
     "end_time": "2024-01-08T21:15:33.946573Z",
     "start_time": "2024-01-08T21:15:33.719497Z"
    }
   },
   "outputs": [],
   "source": []
  },
  {
   "cell_type": "code",
   "execution_count": 46,
   "id": "beb25891",
   "metadata": {
    "ExecuteTime": {
     "end_time": "2024-01-08T21:22:01.228057Z",
     "start_time": "2024-01-08T21:20:10.562319Z"
    }
   },
   "outputs": [
    {
     "name": "stdout",
     "output_type": "stream",
     "text": [
      "132 ms ± 272 µs per loop (mean ± std. dev. of 7 runs, 10 loops each)\n",
      "132 ms ± 199 µs per loop (mean ± std. dev. of 7 runs, 10 loops each)\n",
      "134 ms ± 245 µs per loop (mean ± std. dev. of 7 runs, 10 loops each)\n",
      "134 ms ± 173 µs per loop (mean ± std. dev. of 7 runs, 10 loops each)\n",
      "134 ms ± 446 µs per loop (mean ± std. dev. of 7 runs, 10 loops each)\n",
      "136 ms ± 1.8 ms per loop (mean ± std. dev. of 7 runs, 10 loops each)\n",
      "135 ms ± 382 µs per loop (mean ± std. dev. of 7 runs, 10 loops each)\n",
      "135 ms ± 421 µs per loop (mean ± std. dev. of 7 runs, 10 loops each)\n",
      "135 ms ± 591 µs per loop (mean ± std. dev. of 7 runs, 10 loops each)\n",
      "135 ms ± 683 µs per loop (mean ± std. dev. of 7 runs, 10 loops each)\n"
     ]
    }
   ],
   "source": [
    "for _ in range(10):\n",
    "    a = [[np.random.rand(), np.random.rand()]for i in range(10**5)]\n",
    "    %timeit lala(a, 5)"
   ]
  },
  {
   "cell_type": "code",
   "execution_count": 47,
   "id": "841c4a73",
   "metadata": {
    "ExecuteTime": {
     "end_time": "2024-01-08T21:23:55.059827Z",
     "start_time": "2024-01-08T21:22:01.230729Z"
    }
   },
   "outputs": [
    {
     "name": "stdout",
     "output_type": "stream",
     "text": [
      "139 ms ± 275 µs per loop (mean ± std. dev. of 7 runs, 10 loops each)\n",
      "138 ms ± 200 µs per loop (mean ± std. dev. of 7 runs, 10 loops each)\n",
      "139 ms ± 344 µs per loop (mean ± std. dev. of 7 runs, 10 loops each)\n",
      "138 ms ± 238 µs per loop (mean ± std. dev. of 7 runs, 10 loops each)\n",
      "138 ms ± 206 µs per loop (mean ± std. dev. of 7 runs, 10 loops each)\n",
      "138 ms ± 407 µs per loop (mean ± std. dev. of 7 runs, 10 loops each)\n",
      "139 ms ± 192 µs per loop (mean ± std. dev. of 7 runs, 10 loops each)\n",
      "138 ms ± 535 µs per loop (mean ± std. dev. of 7 runs, 10 loops each)\n",
      "139 ms ± 252 µs per loop (mean ± std. dev. of 7 runs, 10 loops each)\n",
      "138 ms ± 552 µs per loop (mean ± std. dev. of 7 runs, 10 loops each)\n"
     ]
    }
   ],
   "source": [
    "for _ in range(10):\n",
    "    a = [[np.random.rand(), np.random.rand()]for i in range(10**5)]\n",
    "    %timeit closest(a, 5)"
   ]
  },
  {
   "cell_type": "code",
   "execution_count": null,
   "id": "f3ec4f99",
   "metadata": {},
   "outputs": [],
   "source": []
  }
 ],
 "metadata": {
  "kernelspec": {
   "display_name": "py310",
   "language": "python",
   "name": "py310"
  },
  "language_info": {
   "codemirror_mode": {
    "name": "ipython",
    "version": 3
   },
   "file_extension": ".py",
   "mimetype": "text/x-python",
   "name": "python",
   "nbconvert_exporter": "python",
   "pygments_lexer": "ipython3",
   "version": "3.10.11"
  }
 },
 "nbformat": 4,
 "nbformat_minor": 5
}
