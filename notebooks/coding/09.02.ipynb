{
 "cells": [
  {
   "cell_type": "markdown",
   "id": "aaba8ae4",
   "metadata": {
    "ExecuteTime": {
     "end_time": "2024-01-08T20:01:18.541807Z",
     "start_time": "2024-01-08T20:01:18.537210Z"
    }
   },
   "source": [
    "```\n",
    "Give an integer array, return the maimum product of any three numbers in the array.\n",
    "\n",
    "For example, for A=[1,3,4,5] you should return 60, while for b=[-2,-4,5,3] you should return 40.\n",
    "```"
   ]
  },
  {
   "cell_type": "code",
   "execution_count": 52,
   "id": "57a1581d",
   "metadata": {
    "ExecuteTime": {
     "end_time": "2024-01-08T20:22:00.783283Z",
     "start_time": "2024-01-08T20:22:00.774547Z"
    }
   },
   "outputs": [],
   "source": [
    "# v1\n",
    "def min_product(a):\n",
    "    ret = a[0]*a[1]*a[2]\n",
    "    for i in range(len(a)-2):\n",
    "        for j in range(i+1, len(a)-1):\n",
    "            for k in range(j+1, len(a)):\n",
    "                print(a[i],a[j],a[k])\n",
    "                if ret < a[i]*a[j]*a[k]:\n",
    "                    ret =  a[i]*a[j]*a[k]\n",
    "    return ret"
   ]
  },
  {
   "cell_type": "code",
   "execution_count": 60,
   "id": "01fa8cee",
   "metadata": {
    "ExecuteTime": {
     "end_time": "2024-01-08T20:26:00.921460Z",
     "start_time": "2024-01-08T20:26:00.913101Z"
    }
   },
   "outputs": [],
   "source": [
    "?sorted"
   ]
  },
  {
   "cell_type": "code",
   "execution_count": 78,
   "id": "bdd84f88",
   "metadata": {
    "ExecuteTime": {
     "end_time": "2024-01-08T20:29:04.636134Z",
     "start_time": "2024-01-08T20:29:04.630295Z"
    }
   },
   "outputs": [],
   "source": [
    "# v2\n",
    "def min_product(a):\n",
    "    a = list(sorted(a, reverse=True))\n",
    "    b = list(sorted(a, reverse=False))\n",
    "    print(a, b)\n",
    "    # only 2 negative numbers can give positive number\n",
    "    return max(a[0]*a[1]*a[2], b[0]*b[1]*a[0])"
   ]
  },
  {
   "cell_type": "code",
   "execution_count": 75,
   "id": "a065e4d9",
   "metadata": {
    "ExecuteTime": {
     "end_time": "2024-01-08T20:28:50.584233Z",
     "start_time": "2024-01-08T20:28:50.560468Z"
    }
   },
   "outputs": [
    {
     "ename": "IndexError",
     "evalue": "list index out of range",
     "output_type": "error",
     "traceback": [
      "\u001b[0;31m---------------------------------------------------------------------------\u001b[0m",
      "\u001b[0;31mIndexError\u001b[0m                                Traceback (most recent call last)",
      "Cell \u001b[0;32mIn[75], line 2\u001b[0m\n\u001b[1;32m      1\u001b[0m a[\u001b[38;5;241m1\u001b[39m]\u001b[38;5;241m*\u001b[39ma[\u001b[38;5;241m2\u001b[39m]\u001b[38;5;241m*\u001b[39ma[\u001b[38;5;241m3\u001b[39m]\n\u001b[0;32m----> 2\u001b[0m a[\u001b[38;5;241m1\u001b[39m]\u001b[38;5;241m*\u001b[39ma[\u001b[38;5;241m2\u001b[39m]\u001b[38;5;241m*\u001b[39m\u001b[43ma\u001b[49m\u001b[43m[\u001b[49m\u001b[38;5;241;43m4\u001b[39;49m\u001b[43m]\u001b[49m\n",
      "\u001b[0;31mIndexError\u001b[0m: list index out of range"
     ]
    }
   ],
   "source": [
    "a[1]*a[2]*a[3]\n",
    "a[1]*a[2]*a[4]"
   ]
  },
  {
   "cell_type": "code",
   "execution_count": 79,
   "id": "f8858400",
   "metadata": {
    "ExecuteTime": {
     "end_time": "2024-01-08T20:29:05.688860Z",
     "start_time": "2024-01-08T20:29:05.682838Z"
    }
   },
   "outputs": [
    {
     "name": "stdout",
     "output_type": "stream",
     "text": [
      "[5, 4, 3, 1] [1, 3, 4, 5]\n"
     ]
    },
    {
     "data": {
      "text/plain": [
       "60"
      ]
     },
     "execution_count": 79,
     "metadata": {},
     "output_type": "execute_result"
    }
   ],
   "source": [
    "a=[1,3,4,5] \n",
    "min_product(a)"
   ]
  },
  {
   "cell_type": "code",
   "execution_count": 80,
   "id": "c0d2bf71",
   "metadata": {
    "ExecuteTime": {
     "end_time": "2024-01-08T20:29:05.854673Z",
     "start_time": "2024-01-08T20:29:05.847211Z"
    }
   },
   "outputs": [
    {
     "name": "stdout",
     "output_type": "stream",
     "text": [
      "[5, 3, -2, -4] [-4, -2, 3, 5]\n"
     ]
    },
    {
     "data": {
      "text/plain": [
       "40"
      ]
     },
     "execution_count": 80,
     "metadata": {},
     "output_type": "execute_result"
    }
   ],
   "source": [
    "a=[-2,-4,5,3]\n",
    "min_product(a)"
   ]
  },
  {
   "cell_type": "code",
   "execution_count": null,
   "id": "91371793",
   "metadata": {},
   "outputs": [],
   "source": []
  }
 ],
 "metadata": {
  "kernelspec": {
   "display_name": "py310",
   "language": "python",
   "name": "py310"
  },
  "language_info": {
   "codemirror_mode": {
    "name": "ipython",
    "version": 3
   },
   "file_extension": ".py",
   "mimetype": "text/x-python",
   "name": "python",
   "nbconvert_exporter": "python",
   "pygments_lexer": "ipython3",
   "version": "3.10.11"
  }
 },
 "nbformat": 4,
 "nbformat_minor": 5
}
