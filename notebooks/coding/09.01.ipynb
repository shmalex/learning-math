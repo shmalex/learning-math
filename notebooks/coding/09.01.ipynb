{
 "cells": [
  {
   "cell_type": "markdown",
   "id": "d82b1223",
   "metadata": {
    "ExecuteTime": {
     "end_time": "2024-01-08T19:52:11.961023Z",
     "start_time": "2024-01-08T19:52:11.956774Z"
    }
   },
   "source": [
    "\n",
    "Given two arrays, write a function to get the entersection of the two. For example if \n",
    "\n",
    "A=[1,2,3,4,5]\n",
    "\n",
    "B=[0,1,3,7]\n",
    "\n",
    "return [1,3]"
   ]
  },
  {
   "cell_type": "code",
   "execution_count": 10,
   "id": "35948fc8",
   "metadata": {
    "ExecuteTime": {
     "end_time": "2024-01-08T19:54:38.734623Z",
     "start_time": "2024-01-08T19:54:38.728592Z"
    }
   },
   "outputs": [],
   "source": [
    "a=[1,2,3,4,5]\n",
    "b=[0,1,3,7]\n",
    "\n",
    "def intersection(a,b):\n",
    "    a=set(a)\n",
    "    b=set(b)\n",
    "    return set(a).intersection(b)"
   ]
  },
  {
   "cell_type": "code",
   "execution_count": 13,
   "id": "291e4a87",
   "metadata": {
    "ExecuteTime": {
     "end_time": "2024-01-08T19:58:38.522888Z",
     "start_time": "2024-01-08T19:58:38.516052Z"
    }
   },
   "outputs": [],
   "source": [
    "# without sets\n",
    "\n",
    "def intersectionv2(a,b):\n",
    "    a=list(sorted(a))\n",
    "    b=list(sorted(b))\n",
    "    _a, _b = (b,a) if len(a)<len(b) else (a,b)\n",
    "    ret = []\n",
    "    for i in _a:\n",
    "        if (i in _b) and(i not in ret): ret.append(i)\n",
    "    return ret"
   ]
  },
  {
   "cell_type": "code",
   "execution_count": 11,
   "id": "c2756276",
   "metadata": {
    "ExecuteTime": {
     "end_time": "2024-01-08T19:54:47.538767Z",
     "start_time": "2024-01-08T19:54:47.531943Z"
    }
   },
   "outputs": [
    {
     "data": {
      "text/plain": [
       "{1, 3}"
      ]
     },
     "execution_count": 11,
     "metadata": {},
     "output_type": "execute_result"
    }
   ],
   "source": [
    "intersection(a,b)"
   ]
  },
  {
   "cell_type": "code",
   "execution_count": 15,
   "id": "d71e3a46",
   "metadata": {
    "ExecuteTime": {
     "end_time": "2024-01-08T19:58:49.723790Z",
     "start_time": "2024-01-08T19:58:49.716873Z"
    }
   },
   "outputs": [
    {
     "data": {
      "text/plain": [
       "[1, 3]"
      ]
     },
     "execution_count": 15,
     "metadata": {},
     "output_type": "execute_result"
    }
   ],
   "source": [
    "intersectionv2(b,a)"
   ]
  }
 ],
 "metadata": {
  "kernelspec": {
   "display_name": "py310",
   "language": "python",
   "name": "py310"
  },
  "language_info": {
   "codemirror_mode": {
    "name": "ipython",
    "version": 3
   },
   "file_extension": ".py",
   "mimetype": "text/x-python",
   "name": "python",
   "nbconvert_exporter": "python",
   "pygments_lexer": "ipython3",
   "version": "3.10.11"
  }
 },
 "nbformat": 4,
 "nbformat_minor": 5
}
