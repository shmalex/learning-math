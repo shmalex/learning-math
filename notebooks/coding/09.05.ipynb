{
 "cells": [
  {
   "cell_type": "markdown",
   "id": "e4b2f95a",
   "metadata": {},
   "source": [
    "Given an integer array, find the sum of the largest contiguous (смежный) subarray within array. \\\n",
    "For example, if the input is [-1, -3, 5, -4,3, -6, 9, 2], then return 11 (becouse of [9,2]).\\\n",
    "Note that if all elements are negative, you should return 0."
   ]
  },
  {
   "cell_type": "code",
   "execution_count": 1,
   "id": "6f5371c5",
   "metadata": {
    "ExecuteTime": {
     "end_time": "2024-01-10T15:24:52.262402Z",
     "start_time": "2024-01-10T15:24:52.257424Z"
    }
   },
   "outputs": [],
   "source": [
    "a = [-1, -3, 5, -4, 3, -6, 9, 2]"
   ]
  },
  {
   "cell_type": "code",
   "execution_count": 20,
   "id": "9c35a460",
   "metadata": {
    "ExecuteTime": {
     "end_time": "2024-01-10T15:48:36.824912Z",
     "start_time": "2024-01-10T15:48:36.818101Z"
    }
   },
   "outputs": [],
   "source": [
    "def find_max_contiguous(a):\n",
    "    found = []\n",
    "    current = 0\n",
    "    for i in a:\n",
    "        if i < 0:\n",
    "            if current != 0:\n",
    "                found.append(current)\n",
    "                current = 0\n",
    "        else:\n",
    "            current += i\n",
    "    if current != 0:\n",
    "        found.append(current)\n",
    "    return max(found) if len(found)>0 else 0"
   ]
  },
  {
   "cell_type": "code",
   "execution_count": 22,
   "id": "74586d63",
   "metadata": {
    "ExecuteTime": {
     "end_time": "2024-01-10T15:48:44.586326Z",
     "start_time": "2024-01-10T15:48:44.579083Z"
    }
   },
   "outputs": [
    {
     "data": {
      "text/plain": [
       "11"
      ]
     },
     "execution_count": 22,
     "metadata": {},
     "output_type": "execute_result"
    }
   ],
   "source": [
    "find_max_contiguous(a)"
   ]
  },
  {
   "cell_type": "code",
   "execution_count": 23,
   "id": "24838e78",
   "metadata": {
    "ExecuteTime": {
     "end_time": "2024-01-10T15:48:54.641705Z",
     "start_time": "2024-01-10T15:48:54.635349Z"
    }
   },
   "outputs": [
    {
     "data": {
      "text/plain": [
       "0"
      ]
     },
     "execution_count": 23,
     "metadata": {},
     "output_type": "execute_result"
    }
   ],
   "source": [
    "find_max_contiguous([-1,-1,-1])"
   ]
  },
  {
   "cell_type": "code",
   "execution_count": 54,
   "id": "4a8b0680",
   "metadata": {
    "ExecuteTime": {
     "end_time": "2024-01-10T15:54:18.227446Z",
     "start_time": "2024-01-10T15:54:18.221185Z"
    }
   },
   "outputs": [
    {
     "data": {
      "text/plain": [
       "0"
      ]
     },
     "execution_count": 54,
     "metadata": {},
     "output_type": "execute_result"
    }
   ],
   "source": [
    "find_max_contiguous([-1])"
   ]
  },
  {
   "cell_type": "code",
   "execution_count": 24,
   "id": "c78cf645",
   "metadata": {
    "ExecuteTime": {
     "end_time": "2024-01-10T15:49:05.493485Z",
     "start_time": "2024-01-10T15:49:05.486391Z"
    }
   },
   "outputs": [
    {
     "data": {
      "text/plain": [
       "1"
      ]
     },
     "execution_count": 24,
     "metadata": {},
     "output_type": "execute_result"
    }
   ],
   "source": [
    "find_max_contiguous([-1,1,-1,1,-1])"
   ]
  },
  {
   "cell_type": "code",
   "execution_count": 25,
   "id": "039d1464",
   "metadata": {
    "ExecuteTime": {
     "end_time": "2024-01-10T15:49:12.296783Z",
     "start_time": "2024-01-10T15:49:12.289411Z"
    }
   },
   "outputs": [
    {
     "data": {
      "text/plain": [
       "5"
      ]
     },
     "execution_count": 25,
     "metadata": {},
     "output_type": "execute_result"
    }
   ],
   "source": [
    "find_max_contiguous([1,1,1,1,1-1,1,-1,1,-1])"
   ]
  },
  {
   "cell_type": "code",
   "execution_count": 26,
   "id": "cefecaa1",
   "metadata": {
    "ExecuteTime": {
     "end_time": "2024-01-10T15:49:22.577293Z",
     "start_time": "2024-01-10T15:49:22.569848Z"
    }
   },
   "outputs": [
    {
     "data": {
      "text/plain": [
       "18"
      ]
     },
     "execution_count": 26,
     "metadata": {},
     "output_type": "execute_result"
    }
   ],
   "source": [
    "find_max_contiguous([1,1,1,1,1-1,1,-1,1,-1,5,6,7])"
   ]
  },
  {
   "cell_type": "code",
   "execution_count": 55,
   "id": "7f3bb2c8",
   "metadata": {
    "ExecuteTime": {
     "end_time": "2024-01-10T15:54:40.584866Z",
     "start_time": "2024-01-10T15:54:40.579059Z"
    }
   },
   "outputs": [],
   "source": [
    "# solution if book - not working properly\n",
    "def find_max_contiguousv2(a):\n",
    "    max_sum = a[0]\n",
    "    current = 0\n",
    "    for i in a:\n",
    "        current += i\n",
    "        max_sum = max(max_sum, current)\n",
    "        \n",
    "        if current < 0:\n",
    "            current = 0\n",
    "    return max_sum"
   ]
  },
  {
   "cell_type": "code",
   "execution_count": 46,
   "id": "cb70faaf",
   "metadata": {
    "ExecuteTime": {
     "end_time": "2024-01-10T15:53:38.649474Z",
     "start_time": "2024-01-10T15:53:38.642699Z"
    }
   },
   "outputs": [
    {
     "data": {
      "text/plain": [
       "11"
      ]
     },
     "execution_count": 46,
     "metadata": {},
     "output_type": "execute_result"
    }
   ],
   "source": [
    "find_max_contiguousv2(a)"
   ]
  },
  {
   "cell_type": "code",
   "execution_count": 52,
   "id": "bae7546b",
   "metadata": {
    "ExecuteTime": {
     "end_time": "2024-01-10T15:54:04.831837Z",
     "start_time": "2024-01-10T15:54:04.824760Z"
    }
   },
   "outputs": [
    {
     "data": {
      "text/plain": [
       "1"
      ]
     },
     "execution_count": 52,
     "metadata": {},
     "output_type": "execute_result"
    }
   ],
   "source": [
    "find_max_contiguousv2([1,-1,-1,-1])"
   ]
  },
  {
   "cell_type": "code",
   "execution_count": 53,
   "id": "50f91eb2",
   "metadata": {
    "ExecuteTime": {
     "end_time": "2024-01-10T15:54:09.380894Z",
     "start_time": "2024-01-10T15:54:09.374049Z"
    }
   },
   "outputs": [
    {
     "data": {
      "text/plain": [
       "-1"
      ]
     },
     "execution_count": 53,
     "metadata": {},
     "output_type": "execute_result"
    }
   ],
   "source": [
    "find_max_contiguousv2([-1])"
   ]
  },
  {
   "cell_type": "code",
   "execution_count": 49,
   "id": "d2c07aa5",
   "metadata": {
    "ExecuteTime": {
     "end_time": "2024-01-10T15:53:39.548993Z",
     "start_time": "2024-01-10T15:53:39.542332Z"
    }
   },
   "outputs": [
    {
     "data": {
      "text/plain": [
       "1"
      ]
     },
     "execution_count": 49,
     "metadata": {},
     "output_type": "execute_result"
    }
   ],
   "source": [
    "find_max_contiguousv2([-1,1,-1,1,-1])"
   ]
  },
  {
   "cell_type": "code",
   "execution_count": 50,
   "id": "038284e0",
   "metadata": {
    "ExecuteTime": {
     "end_time": "2024-01-10T15:53:39.876145Z",
     "start_time": "2024-01-10T15:53:39.869565Z"
    }
   },
   "outputs": [
    {
     "data": {
      "text/plain": [
       "5"
      ]
     },
     "execution_count": 50,
     "metadata": {},
     "output_type": "execute_result"
    }
   ],
   "source": [
    "find_max_contiguousv2([1,1,1,1,1-1,1,-1,1,-1])"
   ]
  },
  {
   "cell_type": "code",
   "execution_count": 51,
   "id": "83002dd0",
   "metadata": {
    "ExecuteTime": {
     "end_time": "2024-01-10T15:53:40.002171Z",
     "start_time": "2024-01-10T15:53:39.995122Z"
    }
   },
   "outputs": [
    {
     "data": {
      "text/plain": [
       "22"
      ]
     },
     "execution_count": 51,
     "metadata": {},
     "output_type": "execute_result"
    }
   ],
   "source": [
    "find_max_contiguousv2([1,1,1,1,1-1,1,-1,1,-1,5,6,7])"
   ]
  },
  {
   "cell_type": "code",
   "execution_count": null,
   "id": "f25f0249",
   "metadata": {},
   "outputs": [],
   "source": []
  }
 ],
 "metadata": {
  "kernelspec": {
   "display_name": "py310",
   "language": "python",
   "name": "py310"
  },
  "language_info": {
   "codemirror_mode": {
    "name": "ipython",
    "version": 3
   },
   "file_extension": ".py",
   "mimetype": "text/x-python",
   "name": "python",
   "nbconvert_exporter": "python",
   "pygments_lexer": "ipython3",
   "version": "3.10.11"
  }
 },
 "nbformat": 4,
 "nbformat_minor": 5
}
