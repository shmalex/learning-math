{
 "cells": [
  {
   "cell_type": "markdown",
   "metadata": {
    "toc": true
   },
   "source": [
    "<h1>Table of Contents<span class=\"tocSkip\"></span></h1>\n",
    "<div class=\"toc\"><ul class=\"toc-item\"><li><span><a href=\"#$\\LaTeX$\" data-toc-modified-id=\"$\\LaTeX$-1\"><span class=\"toc-item-num\">1&nbsp;&nbsp;</span>$\\LaTeX$</a></span><ul class=\"toc-item\"><li><span><a href=\"#Getting-Started\" data-toc-modified-id=\"Getting-Started-1.1\"><span class=\"toc-item-num\">1.1&nbsp;&nbsp;</span>Getting Started</a></span><ul class=\"toc-item\"><li><span><a href=\"#Spacing\" data-toc-modified-id=\"Spacing-1.1.1\"><span class=\"toc-item-num\">1.1.1&nbsp;&nbsp;</span>Spacing</a></span></li><li><span><a href=\"#Justification\" data-toc-modified-id=\"Justification-1.1.2\"><span class=\"toc-item-num\">1.1.2&nbsp;&nbsp;</span>Justification</a></span><ul class=\"toc-item\"><li><span><a href=\"#Centering\" data-toc-modified-id=\"Centering-1.1.2.1\"><span class=\"toc-item-num\">1.1.2.1&nbsp;&nbsp;</span>Centering</a></span></li><li><span><a href=\"#Multiline-formatting-for-math\" data-toc-modified-id=\"Multiline-formatting-for-math-1.1.2.2\"><span class=\"toc-item-num\">1.1.2.2&nbsp;&nbsp;</span>Multiline formatting for math</a></span></li></ul></li></ul></li><li><span><a href=\"#The-Greeks\" data-toc-modified-id=\"The-Greeks-1.2\"><span class=\"toc-item-num\">1.2&nbsp;&nbsp;</span>The Greeks</a></span></li><li><span><a href=\"#Mathematical-Symbols\" data-toc-modified-id=\"Mathematical-Symbols-1.3\"><span class=\"toc-item-num\">1.3&nbsp;&nbsp;</span>Mathematical Symbols</a></span><ul class=\"toc-item\"><li><span><a href=\"#Superscript-and-Subscript\" data-toc-modified-id=\"Superscript-and-Subscript-1.3.1\"><span class=\"toc-item-num\">1.3.1&nbsp;&nbsp;</span>Superscript and Subscript</a></span></li><li><span><a href=\"#Grouping\" data-toc-modified-id=\"Grouping-1.3.2\"><span class=\"toc-item-num\">1.3.2&nbsp;&nbsp;</span>Grouping</a></span></li><li><span><a href=\"#Sets-&amp;-Probability\" data-toc-modified-id=\"Sets-&amp;-Probability-1.3.3\"><span class=\"toc-item-num\">1.3.3&nbsp;&nbsp;</span>Sets &amp; Probability</a></span></li><li><span><a href=\"#Mathematical-comparators\" data-toc-modified-id=\"Mathematical-comparators-1.3.4\"><span class=\"toc-item-num\">1.3.4&nbsp;&nbsp;</span>Mathematical comparators</a></span></li><li><span><a href=\"#Mathematical-operators\" data-toc-modified-id=\"Mathematical-operators-1.3.5\"><span class=\"toc-item-num\">1.3.5&nbsp;&nbsp;</span>Mathematical operators</a></span></li><li><span><a href=\"#Fractions\" data-toc-modified-id=\"Fractions-1.3.6\"><span class=\"toc-item-num\">1.3.6&nbsp;&nbsp;</span>Fractions</a></span></li></ul></li><li><span><a href=\"#A-few-examples-of-using-$\\LaTeX$\" data-toc-modified-id=\"A-few-examples-of-using-$\\LaTeX$-1.4\"><span class=\"toc-item-num\">1.4&nbsp;&nbsp;</span>A few examples of using $\\LaTeX$</a></span><ul class=\"toc-item\"><li><ul class=\"toc-item\"><li><span><a href=\"#Einstein's-mass-energy-equivalence\" data-toc-modified-id=\"Einstein's-mass-energy-equivalence-1.4.0.1\"><span class=\"toc-item-num\">1.4.0.1&nbsp;&nbsp;</span>Einstein's mass-energy equivalence</a></span></li><li><span><a href=\"#Equations-of-motion\" data-toc-modified-id=\"Equations-of-motion-1.4.0.2\"><span class=\"toc-item-num\">1.4.0.2&nbsp;&nbsp;</span>Equations of motion</a></span></li><li><span><a href=\"#Quadratic-Equation\" data-toc-modified-id=\"Quadratic-Equation-1.4.0.3\"><span class=\"toc-item-num\">1.4.0.3&nbsp;&nbsp;</span>Quadratic Equation</a></span></li><li><span><a href=\"#Some-calculus-for-good-measure\" data-toc-modified-id=\"Some-calculus-for-good-measure-1.4.0.4\"><span class=\"toc-item-num\">1.4.0.4&nbsp;&nbsp;</span>Some calculus for good measure</a></span></li></ul></li></ul></li><li><span><a href=\"#Using-in-visualizations\" data-toc-modified-id=\"Using-in-visualizations-1.5\"><span class=\"toc-item-num\">1.5&nbsp;&nbsp;</span>Using in visualizations</a></span></li></ul></li></ul></div>"
   ]
  },
  {
   "cell_type": "markdown",
   "metadata": {},
   "source": [
    "# $\\LaTeX$\n",
    "\n",
    ">_LaTeX, which is pronounced «Lah-tech» or «Lay-tech» (to rhyme with «blech» or «Bertolt Brecht»), is a document preparation system for high-quality typesetting. It is most often used for medium-to-large technical or scientific documents but it can be used for almost any form of publishing.\\\n",
    "    $~~~~$ - https://www.latex-project.org/about/_\n",
    "\n",
    "\n",
    "This git is designed to be a primer in using $\\LaTeX$ in Jupyter notebooks with the intention of improving presentation.\n",
    "\n",
    "$\\LaTeX$ is a powerful tool in making your markdowns cells look more professional and stand out. One can introduce $\\LaTeX$ into the Jupyter Notebooks markdown cells using imported libraries, however, Jupyter Notebook natively leverages JavaScripts library MathJax to allow rendering of special characters and formatting. Its intended to allow for displaying mathematical functions and text in a more legible format and is widely used in academia.\n",
    "\n",
    "This notebook aims to act like a cheat sheet for commonly used formatting examples. As we get progress along in the notebook, explanations will be limited to expounding on usage idiosyncrasies of the function in question. In other words, sections later in the book rely on knowledge of previous sections."
   ]
  },
  {
   "cell_type": "markdown",
   "metadata": {
    "ExecuteTime": {
     "end_time": "2022-03-20T21:58:30.110388Z",
     "start_time": "2022-03-20T21:58:30.105396Z"
    }
   },
   "source": [
    "## Getting Started \n",
    "Lets start with the basics. To insert $\\LaTeX$ formatted text in Jupyter notebook is enclose the text in '$' to get started. Eg: here is the letter 'A' before and after\n",
    "\n",
    "A : A\\\n",
    "\\\\$A\\\\$ : $A$"
   ]
  },
  {
   "cell_type": "markdown",
   "metadata": {},
   "source": [
    "Easy enough. However, if all we wanted to bold and italicize our text, we can do that with builtin markdown shortcuts. The real power of $\\LaTeX$ comes with introducing special characters. This is done using the escape character '\\'. In this example, to get the alpha symbol we prefix it with the backspace character.\n",
    "\n",
    "\\\\$alpha\\\\$ : $alpha$\\\n",
    "\\\\$\\\\alpha\\\\$ : $\\alpha$\n"
   ]
  },
  {
   "cell_type": "markdown",
   "metadata": {},
   "source": [
    "### Spacing\n",
    "\n",
    "$\\LaTeX$ doesn't care for white space and displays text with standardized spacing regardless of how many whitespace characters are there. To allow for better separation and control one can use '~'\n",
    "\n",
    "$A          B$ (10 spaces separating the characters)\\\n",
    "$A~~B$ (2 '~' between characters)"
   ]
  },
  {
   "cell_type": "markdown",
   "metadata": {},
   "source": [
    "### Justification\n",
    "#### Centering\n",
    "By default, Markdowns are left justified and so are $\\LaTeX$ entries. Enclose text in '\\$$' instead of a single '\\$' centers the $\\LaTeX$ text. eg:\n",
    "\n",
    "$$A = B$$"
   ]
  },
  {
   "cell_type": "markdown",
   "metadata": {},
   "source": [
    "#### Multiline formatting for math\n",
    "If you are typing a multi line mathematical process or derivation, it can be convenient to wrap the entire block in a \\\\begin and \\\\end. This allows us to forgo the '$' at the beginning and end of each line. A few things to keep in mind,\n",
    "\n",
    "- Every line should end with a '\\\\\\\\'. \n",
    "- By default the block right aligned, however one can provide an ***&*** at every line to specify point of alignment\n",
    "\n"
   ]
  },
  {
   "cell_type": "markdown",
   "metadata": {},
   "source": [
    "$$\n",
    "\\begin{align}\n",
    "x &= 10 + 5 +2 \\\\\n",
    "x &= 10 + 7\\\\\n",
    "x &= 17\\\\\n",
    "x - 17 &= 0\\\\\n",
    "\\end{align}\n",
    "$$"
   ]
  },
  {
   "cell_type": "markdown",
   "metadata": {},
   "source": [
    "## The Greeks\n",
    "The greek alphabets are all represented. Note that some letters have a capitalized version. Letters exempt are the ones which resemble their alphabet equivalent, such as a capital $\\alpha$ is ***A***. To access the capital variations, capitalize the first letter\n"
   ]
  },
  {
   "cell_type": "markdown",
   "metadata": {},
   "source": [
    "$$\n",
    "\\begin{align}\n",
    "Alpha&: \\alpha\\\\\n",
    "Beta&: \\beta\\\\\n",
    "Gamma&: \\gamma~\\Gamma\\\\\n",
    "Delta&: \\delta~\\Delta\\\\\n",
    "Epsilon&: \\epsilon\\\\\n",
    "Zeta&: \\zeta\\\\\n",
    "Eta&: \\eta\\\\\n",
    "Theta&: \\theta~\\Theta\\\\\n",
    "Iota&: \\iota\\\\\n",
    "Kappa&: \\kappa\\\\\n",
    "Lambda&: \\lambda~\\Lambda\\\\\n",
    "Mu&: \\mu\\\\\n",
    "Nu&: \\nu\\\\\n",
    "Xi&: \\xi~\\Xi\\\\\n",
    "Omicron&: \\omicron\\\\\n",
    "Pi&: \\pi~\\Pi\\\\\n",
    "Sigma&: \\sigma~\\Sigma\\\\\n",
    "Tau&: \\tau\\\\\n",
    "Upsilon&: \\upsilon~\\Upsilon\\\\\n",
    "Phi&: \\phi~\\Phi\\\\\n",
    "Chi&: \\chi\\\\\n",
    "Psi&: \\psi~\\Psi\\\\\n",
    "Omega&: \\omega~\\Omega\n",
    "\\end{align}\n",
    "$$\n"
   ]
  },
  {
   "cell_type": "markdown",
   "metadata": {},
   "source": [
    "## Mathematical Symbols\n",
    "There is a plethora of mathematical symbols available for use as well, however, due to their verbose nature, we won't be going over every single one. Here are a few divided by subsections"
   ]
  },
  {
   "cell_type": "code",
   "execution_count": null,
   "metadata": {
    "ExecuteTime": {
     "end_time": "2024-02-29T15:11:40.851241Z",
     "start_time": "2024-02-29T15:11:40.843915Z"
    }
   },
   "outputs": [],
   "source": [
    "for (a, A) in list(zip(list(range(ord('a'), ord('z'))),list(range(ord('A'), ord('Z'))))):\n",
    "    print('\\mathcal{{{0}}}& \\mathcal{{{1}}} &\\mathbb{{{0}}}& \\mathbb{{{1}}} &\\mathfrak{{{0}}}& \\mathfrak{{{1}}}\\\\\\\\'.format(chr(a), chr(A)))"
   ]
  },
  {
   "cell_type": "markdown",
   "metadata": {},
   "source": [
    "\\mathcal{a} \\mathcal{A} &\\mathbb{a}& \\mathbb{A} &\\mathfrak{a}& \\mathfrak{A}&\\mathsf{a}& \\mathsf{A} &\\alpha\\\n"
   ]
  },
  {
   "cell_type": "markdown",
   "metadata": {},
   "source": [
    "$$\n",
    "\\begin{align}\n",
    "& \\text{blackboard} && \\text{blackboard} && \\text{Fraktur} && \\text{sansserif} && \\text{greek} \\\\\n",
    "& \\text{mathcal} && \\text{mathbb} &&  \\text{mathfrak} && \\text{mathsf} && \\\\\n",
    "\\mathcal{a}& \\mathcal{A} &\\mathbb{a}& \\mathbb{A} &\\mathfrak{a}& \\mathfrak{A}&\\mathsf{a}& \\mathsf{A} &\\alpha\\\\\n",
    "\\mathcal{b}& \\mathcal{B} &\\mathbb{b}& \\mathbb{B} &\\mathfrak{b}& \\mathfrak{B}&\\mathsf{b}& \\mathsf{B} &Beta&: \\beta\\\\\n",
    "\\mathcal{c}& \\mathcal{C} &\\mathbb{c}& \\mathbb{C} &\\mathfrak{c}& \\mathfrak{C}&\\mathsf{c}& \\mathsf{C}&Chi&: \\chi\\\\\n",
    "\\mathcal{d}& \\mathcal{D} &\\mathbb{d}& \\mathbb{D} &\\mathfrak{d}& \\mathfrak{D}&\\mathsf{d}& \\mathsf{D}&Delta&\\delta~\\Delta\\\\\n",
    "\\mathcal{e}& \\mathcal{E} &\\mathbb{e}& \\mathbb{E} &\\mathfrak{e}& \\mathfrak{E}&\\mathsf{e}& \\mathsf{E}&Epsilon&: \\epsilon \\\\\n",
    "& & & & & & & & Eta&: \\eta\\\\\n",
    "\\mathcal{f}& \\mathcal{F} &\\mathbb{f}& \\mathbb{F} &\\mathfrak{f}& \\mathfrak{F}&\\mathsf{f}& \\mathsf{F}\\\\\n",
    "\\mathcal{g}& \\mathcal{G} &\\mathbb{g}& \\mathbb{G} &\\mathfrak{g}& \\mathfrak{G}&\\mathsf{g}& \\mathsf{G}&Gamma&\\gamma~\\Gamma\\\\\n",
    "\\mathcal{h}& \\mathcal{H} &\\mathbb{h}& \\mathbb{H} &\\mathfrak{h}& \\mathfrak{H}&\\mathsf{h}& \\mathsf{H}\\\\\n",
    "\\mathcal{i}& \\mathcal{I} &\\mathbb{i}& \\mathbb{I} &\\mathfrak{i}& \\mathfrak{I}&\\mathsf{i}& \\mathsf{I}&Iota&: \\iota\\\\\n",
    "\\mathcal{j}& \\mathcal{J} &\\mathbb{j}& \\mathbb{J} &\\mathfrak{j}& \\mathfrak{J}&\\mathsf{j}& \\mathsf{J}\\\\\n",
    "\\mathcal{k}& \\mathcal{K} &\\mathbb{k}& \\mathbb{K} &\\mathfrak{k}& \\mathfrak{K}&\\mathsf{k}& \\mathsf{K}&Kappa&: \\kappa\\\\\n",
    "\\mathcal{l}& \\mathcal{L} &\\mathbb{l}& \\mathbb{L} &\\mathfrak{l}& \\mathfrak{L}&\\mathsf{l}& \\mathsf{L}&Lambda&: \\lambda~\\Lambda\\\\\n",
    "\\mathcal{m}& \\mathcal{M} &\\mathbb{m}& \\mathbb{M} &\\mathfrak{m}& \\mathfrak{M}&\\mathsf{m}& \\mathsf{M}&Mu&: \\mu\\\\\n",
    "\\mathcal{n}& \\mathcal{N} &\\mathbb{n}& \\mathbb{N} &\\mathfrak{n}& \\mathfrak{N}&\\mathsf{n}& \\mathsf{N}&Nu&: \\nu\\\\\n",
    "\\mathcal{o}& \\mathcal{O} &\\mathbb{o}& \\mathbb{O} &\\mathfrak{o}& \\mathfrak{O}&\\mathsf{o}& \\mathsf{O}&Omega&: \\omega~\\Omega\\\\\n",
    "& & & & & & & & Omicron&: \\omicron\\\\\n",
    "\\mathcal{p}& \\mathcal{P} &\\mathbb{p}& \\mathbb{P} &\\mathfrak{p}& \\mathfrak{P}&\\mathsf{p}& \\mathsf{P}&Psi&: \\psi~\\Psi\\\\\n",
    "& & & & & & & & Phi&: \\phi~\\Phi\\\\\n",
    "& & & & & & & & Pi&: \\pi~\\Pi\\\\\n",
    "\\mathcal{q}& \\mathcal{Q} &\\mathbb{q}& \\mathbb{Q} &\\mathfrak{q}& \\mathfrak{Q}&\\mathsf{q}& \\mathsf{Q}\\\\\n",
    "\\mathcal{r}& \\mathcal{R} &\\mathbb{r}& \\mathbb{R} &\\mathfrak{r}& \\mathfrak{R}&\\mathsf{r}& \\mathsf{R}\\\\\n",
    "\\mathcal{s}& \\mathcal{S} &\\mathbb{s}& \\mathbb{S} &\\mathfrak{s}& \\mathfrak{S}&\\mathsf{s}& \\mathsf{S}&Sigma&: \\sigma~\\Sigma\\\\\n",
    "\\mathcal{t}& \\mathcal{T} &\\mathbb{t}& \\mathbb{T} &\\mathfrak{t}& \\mathfrak{T}&\\mathsf{t}& \\mathsf{T}&Tau&: \\tau \\\\\n",
    "& & & & & & & & Theta&: \\theta~\\Theta\\\\\n",
    "\\mathcal{u}& \\mathcal{U} &\\mathbb{u}& \\mathbb{U} &\\mathfrak{u}& \\mathfrak{U}&\\mathsf{u}& \\mathsf{U}&Upsilon&: \\upsilon~\\Upsilon\\\\\n",
    "\\mathcal{v}& \\mathcal{V} &\\mathbb{v}& \\mathbb{V} &\\mathfrak{v}& \\mathfrak{V}&\\mathsf{v}& \\mathsf{V}\\\\\n",
    "\\mathcal{w}& \\mathcal{W} &\\mathbb{w}& \\mathbb{W} &\\mathfrak{w}& \\mathfrak{W}&\\mathsf{w}& \\mathsf{W}\\\\\n",
    "\\mathcal{x}& \\mathcal{X} &\\mathbb{x}& \\mathbb{X} &\\mathfrak{x}& \\mathfrak{X}&\\mathsf{x}& \\mathsf{X}&Xi&: \\xi~\\Xi\\\\\n",
    "\\mathcal{y}& \\mathcal{Y} &\\mathbb{y}& \\mathbb{Y} &\\mathfrak{y}& \\mathfrak{Y}&\\mathsf{y}& \\mathsf{Y}\\\\\n",
    "\\mathcal{z}& \\mathcal{Z} &\\mathbb{z}& \\mathbb{Z} &\\mathfrak{z}& \\mathfrak{Z}&\\mathsf{z}& \\mathsf{Z}&Zeta&: \\zeta\\\\\n",
    "\\end{align}\n",
    "$$"
   ]
  },
  {
   "cell_type": "markdown",
   "metadata": {},
   "source": [
    "### Superscript and Subscript\n",
    "Superscipts and Subscripts are easily accessible using the '^' and '\\_' symbols. This symbol needs to be prefixed to the exponent or the subscript. "
   ]
  },
  {
   "cell_type": "markdown",
   "metadata": {},
   "source": [
    "$$ a_b $$ \n",
    "$$ x^2 $$ "
   ]
  },
  {
   "cell_type": "markdown",
   "metadata": {},
   "source": [
    "### Grouping\n",
    "Grouping allows us to group a set of symbols together so they are always presented together. Lets use a superscript to illustrate this example. By default the superscript symbol only captures the first character to superscript. So if I wanted to write anything a little more complicated I'd have to group characters together using the _{ }_ symbols. In the following example we get two very different outcomes depending upon whether we grouped y+z"
   ]
  },
  {
   "cell_type": "markdown",
   "metadata": {},
   "source": [
    "$$\n",
    "\\begin{align}\n",
    "No~grouping &:x ^ y + z\\\\\n",
    "Grouping &:x ^ {y + z}\n",
    "\\end{align}\n",
    "$$"
   ]
  },
  {
   "cell_type": "markdown",
   "metadata": {},
   "source": [
    "### Sets & Probability"
   ]
  },
  {
   "cell_type": "markdown",
   "metadata": {},
   "source": [
    "Operators for showing set relationship"
   ]
  },
  {
   "cell_type": "markdown",
   "metadata": {},
   "source": [
    "$$\n",
    "\\begin{align}\n",
    "Union &: \\cup\\\\\n",
    "Intersection &: \\cap\\\\\n",
    "Subset &: \\subset\\\\\n",
    "Superset &: \\supset\\\\\n",
    "\\end{align}\n",
    "$$"
   ]
  },
  {
   "cell_type": "markdown",
   "metadata": {},
   "source": [
    "### Mathematical comparators\n",
    "These symbols and their usage are fairly self explanatory. Some symbols which have a dedicated spot on the keyboard don't need any special effort. For eg:\n",
    "$$ = ~ < ~ >$$\n",
    "\n",
    "However, for others that do not have a dedicated keyboard spot they can be accessed with the escape character,"
   ]
  },
  {
   "cell_type": "markdown",
   "metadata": {},
   "source": [
    "$$\n",
    "\\begin{align}\n",
    "\\approx ~ \\leq~  \\geq \\\\\n",
    "\\equiv ~  \\ll~   \\gg \\\\\n",
    "\\neq ~    \\leq~  \\geq \\\\\n",
    "\\end{align}\n",
    "$$"
   ]
  },
  {
   "cell_type": "markdown",
   "metadata": {},
   "source": [
    "### Mathematical operators\n",
    "$$\\pm ~\\times~\\cdot$$"
   ]
  },
  {
   "cell_type": "markdown",
   "metadata": {},
   "source": [
    "### Fractions\n",
    "Fractions can be presented using the _'\\\\dfrac'_ or _'\\\\tfrac'_ command. Depending upon need either can be utilized."
   ]
  },
  {
   "cell_type": "markdown",
   "metadata": {},
   "source": [
    "Dfrac: $\\dfrac x y$"
   ]
  },
  {
   "cell_type": "markdown",
   "metadata": {},
   "source": [
    "Tfrac: $\\tfrac x y$"
   ]
  },
  {
   "cell_type": "markdown",
   "metadata": {},
   "source": [
    "This can be combined with grouping to display complex math in a legible form"
   ]
  },
  {
   "cell_type": "markdown",
   "metadata": {
    "ExecuteTime": {
     "end_time": "2022-03-21T05:36:17.557035Z",
     "start_time": "2022-03-21T05:36:17.551033Z"
    }
   },
   "source": [
    "$$ \\dfrac {x^{exp}} {y_{sub}^{exp}} $$"
   ]
  },
  {
   "cell_type": "markdown",
   "metadata": {
    "ExecuteTime": {
     "end_time": "2022-03-21T05:36:17.557035Z",
     "start_time": "2022-03-21T05:36:17.551033Z"
    }
   },
   "source": [
    "$$ \\tfrac {x^{exp}} {y_{sub}^{exp}} $$"
   ]
  },
  {
   "cell_type": "markdown",
   "metadata": {},
   "source": [
    "## A few examples of using $\\LaTeX$\n",
    "Lets use what we've learned so far and write some famous and some more obscure equations"
   ]
  },
  {
   "cell_type": "markdown",
   "metadata": {},
   "source": [
    "#### Einstein's mass-energy equivalence\n"
   ]
  },
  {
   "cell_type": "markdown",
   "metadata": {},
   "source": [
    "$$ E = mc^2$$"
   ]
  },
  {
   "cell_type": "markdown",
   "metadata": {},
   "source": [
    "#### Equations of motion"
   ]
  },
  {
   "cell_type": "markdown",
   "metadata": {},
   "source": [
    "$$\n",
    "\\begin{align}\n",
    "v &= u + at \\\\\n",
    "s &= ut + \\dfrac {a t^2}{2} \\\\\n",
    "s &= \\dfrac {(u+v)t}{2} \\\\\n",
    "v^2 &= u^2 + 2as\n",
    "\\end{align}\n",
    "$$"
   ]
  },
  {
   "cell_type": "markdown",
   "metadata": {},
   "source": [
    "#### Quadratic Equation\n",
    "For, "
   ]
  },
  {
   "cell_type": "markdown",
   "metadata": {},
   "source": [
    "$$\n",
    "\\begin{align}\n",
    "a x^2 + b x + c &= 0 \\\\ \n",
    "x &= \\dfrac {-b \\pm \\sqrt{b^2 - 4 ac}}{2a} \n",
    "\\end{align}\n",
    "$$"
   ]
  },
  {
   "cell_type": "markdown",
   "metadata": {},
   "source": [
    "#### Some calculus for good measure"
   ]
  },
  {
   "cell_type": "markdown",
   "metadata": {},
   "source": [
    "##### Derivation"
   ]
  },
  {
   "cell_type": "markdown",
   "metadata": {},
   "source": [
    "$$\n",
    "\\begin{align}\n",
    "    \\dfrac{d}{dx} x^n &= n x^{n-1} \\\\ \n",
    "    \\dfrac{d}{dx} (f(x)\\cdot g(x)) &= \\dfrac{d}{dx} (f(x))\\cdot g(x) + \\dfrac{d}{dx} (g(x))\\cdot f(x)\\\\\n",
    "\\end{align}\n",
    "$$"
   ]
  },
  {
   "cell_type": "markdown",
   "metadata": {},
   "source": [
    "##### Integration"
   ]
  },
  {
   "cell_type": "markdown",
   "metadata": {},
   "source": [
    "$$\n",
    "\\begin{align}\n",
    "    \\int x^n \\cdot dx &= \\dfrac{x^{n+1}}{n+1} + C \\\\\n",
    "    \\int f(x)\\cdot g'(x)\\cdot dx &= f(x)\\cdot g(x) - \\int g(x)\\cdot f'(x)\\cdot dx\n",
    "\\end{align}\n",
    "$$"
   ]
  },
  {
   "cell_type": "markdown",
   "metadata": {},
   "source": [
    "$\\bar{T}_N \\xrightarrow [n \\to \\infty ]{\\text{a.s.},\\mathbb{P}} \\frac{1}{\\lambda}, \\text{a.s. - amost surely}$\n",
    "\n",
    "$\\mathcal{N}(p,\\frac{p(1-p)}{n})$\n",
    "\n",
    "\n",
    "$\\mathcal{N}(0,1)$\n",
    "\n",
    "\n",
    "$\\displaystyle f(x)=e^{-(x-a)} \\mathbf{1}_{x\\geq a}$\n",
    "\n",
    "\n",
    "$\\Exponential{X}$"
   ]
  },
  {
   "cell_type": "markdown",
   "metadata": {},
   "source": [
    "## Using in visualizations"
   ]
  },
  {
   "cell_type": "markdown",
   "metadata": {},
   "source": [
    "These rules can also be applied to your visualizations if needed. All labels and titles can utilize $\\LaTeX$ formatting as long as they are inserted as _rstrings_. This allows the use of the backslash escape character. As an example, here we plot a sine function and its differentiation cosine. Take note of the title and legend and the x ticks"
   ]
  },
  {
   "cell_type": "code",
   "execution_count": 1,
   "metadata": {
    "ExecuteTime": {
     "end_time": "2022-03-21T06:35:57.269781Z",
     "start_time": "2022-03-21T06:35:56.451626Z"
    }
   },
   "outputs": [
    {
     "data": {
      "image/png": "[encoded data removed]",
      "text/plain": [
       "<Figure size 720x576 with 1 Axes>"
      ]
     },
     "metadata": {
      "needs_background": "light"
     },
     "output_type": "display_data"
    }
   ],
   "source": [
    "import numpy as np\n",
    "import matplotlib.pyplot as plt \n",
    "\n",
    "# Generate x values\n",
    "x = np.arange(0, 4*np.pi, 0.1); \n",
    "\n",
    "# Get y values for sine wave and its differentiation cosine\n",
    "y = np.sin(x) \n",
    "dy = np.cos(x)\n",
    "\n",
    "# Plot waves\n",
    "plt.figure(figsize = (10,8))\n",
    "plt.plot(x, y) \n",
    "plt.plot(x, dy)\n",
    "\n",
    "# Give a title for the sine wave plot\n",
    "plt.title(r'Plot of $sin(x)$ & $\\dfrac {d}{dx} sin(x)$') \n",
    "\n",
    "# Give x axis label for the plot\n",
    "plt.xlabel('x') \n",
    "\n",
    "# Give y axis label for the plot\n",
    "plt.ylabel('f (x)') \n",
    "\n",
    "plt.xticks(np.arange(0, 9*(np.pi/2),(np.pi)),\n",
    "          [r'0$\\pi$', r'$1\\pi$', r'2$\\pi$',r'3$\\pi$', r'4$\\pi$'])\n",
    "\n",
    "\n",
    "plt.grid(True, alpha =0.2)\n",
    "plt.axhline(y=0, color='k')\n",
    "\n",
    "plt.legend([r'$sin(x)$',r'$\\dfrac {d}{dx} sin(x) = cos(x)$'],loc = 1)\n",
    "plt.show();"
   ]
  },
  {
   "cell_type": "markdown",
   "metadata": {},
   "source": [
    "As you can see the possibilities are limitless and learning and leveraging $\\LaTeX$ is a must to improve on your presentations"
   ]
  },
  {
   "cell_type": "markdown",
   "metadata": {
    "ExecuteTime": {
     "end_time": "2024-02-29T15:00:43.605479Z",
     "start_time": "2024-02-29T15:00:43.598368Z"
    }
   },
   "source": [
    "Sources\\\n",
    "https://matplotlib.org/stable/users/explain/text/mathtext.html"
   ]
  },
  {
   "cell_type": "code",
   "execution_count": null,
   "metadata": {},
   "outputs": [],
   "source": []
  }
 ],
 "metadata": {
  "kernelspec": {
   "display_name": "py310",
   "language": "python",
   "name": "py310"
  },
  "language_info": {
   "codemirror_mode": {
    "name": "ipython",
    "version": 3
   },
   "file_extension": ".py",
   "mimetype": "text/x-python",
   "name": "python",
   "nbconvert_exporter": "python",
   "pygments_lexer": "ipython3",
   "version": "3.10.11"
  },
  "toc": {
   "base_numbering": 1,
   "nav_menu": {},
   "number_sections": true,
   "sideBar": true,
   "skip_h1_title": false,
   "title_cell": "Table of Contents",
   "title_sidebar": "Contents",
   "toc_cell": true,
   "toc_position": {},
   "toc_section_display": true,
   "toc_window_display": false
  }
 },
 "nbformat": 4,
 "nbformat_minor": 4
}
