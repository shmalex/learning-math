{
 "cells": [
  {
   "cell_type": "markdown",
   "id": "23d57e8c",
   "metadata": {},
   "source": [
    "# Integrals"
   ]
  },
  {
   "cell_type": "markdown",
   "id": "887ce32a",
   "metadata": {},
   "source": [
    "$$\n",
    "\\begin{align}\n",
    "    &\\int e^x dx=e^x &\\int \\dfrac{dx}{x}=ln|x|+C\\\\\n",
    "    &\\int \\cos(x)dx=\\sin(x) &\\int x^n dx=\\dfrac{x^{n+1}}{n+1} + C, (n\\ne1)\\\\\n",
    "    &\\int e^x dx = e^x + C & \\int (f_{1}\\pm f_{2})\\,dx=\\int f_{1}\\,dx\\pm \\int f_{2}\\,dx+C\\\\\n",
    "    &\\int x^n dx = \\frac{x^{n+1}}{n+1}, n\\ne1 &\\int \\frac{1}{(x+a)^2} dx = -\\frac{1}{x+a}, n\\ne1\\\\\n",
    "    &\\int a\\log(\\frac{a}{b})dx=ax\\log(\\frac{a}{b})\n",
    "\\end{align}\n",
    "$$"
   ]
  },
  {
   "cell_type": "markdown",
   "id": "e9851a9b",
   "metadata": {},
   "source": [
    "$\\log(\\dfrac{a}{b})=\\log(a)-\\log(b)$\\\n",
    "$\\log(b^x)=x\\cdot\\log(b)$"
   ]
  },
  {
   "cell_type": "code",
   "execution_count": 6,
   "id": "48b272fc",
   "metadata": {
    "ExecuteTime": {
     "end_time": "2024-03-30T13:41:52.618489Z",
     "start_time": "2024-03-30T13:41:52.583125Z"
    }
   },
   "outputs": [
    {
     "data": {
      "text/latex": [
       "$\\displaystyle \\frac{\\left(- a + b\\right) \\log{\\left(\\frac{\\theta_{2}}{\\theta_{1}} \\right)}}{\\theta_{1}}$"
      ],
      "text/plain": [
       "(-a + b)*log(theta_2/theta_1)/theta_1"
      ]
     },
     "execution_count": 6,
     "metadata": {},
     "output_type": "execute_result"
    }
   ],
   "source": [
    "from sympy import symbols, ln\n",
    "\n",
    "# Объявим символы\n",
    "theta_1, theta_2, a, b = symbols('theta_1 theta_2 a b')\n",
    "\n",
    "# Подынтегральное выражение\n",
    "expression = (1/theta_1) * ln(theta_2/theta_1)\n",
    "\n",
    "# Результат интегрирования\n",
    "result = expression * (b - a)\n",
    "result.simplify()"
   ]
  },
  {
   "cell_type": "markdown",
   "id": "d9c5d802",
   "metadata": {},
   "source": []
  },
  {
   "cell_type": "markdown",
   "id": "65a1a6e2",
   "metadata": {},
   "source": []
  },
  {
   "cell_type": "markdown",
   "id": "e56db27e",
   "metadata": {},
   "source": []
  },
  {
   "cell_type": "markdown",
   "id": "de0539fe",
   "metadata": {},
   "source": []
  },
  {
   "cell_type": "markdown",
   "id": "bee1cf74",
   "metadata": {},
   "source": []
  }
 ],
 "metadata": {
  "kernelspec": {
   "display_name": "Python 3",
   "language": "python",
   "name": "python3"
  },
  "language_info": {
   "codemirror_mode": {
    "name": "ipython",
    "version": 3
   },
   "file_extension": ".py",
   "mimetype": "text/x-python",
   "name": "python",
   "nbconvert_exporter": "python",
   "pygments_lexer": "ipython3",
   "version": "3.7.10"
  }
 },
 "nbformat": 4,
 "nbformat_minor": 5
}
