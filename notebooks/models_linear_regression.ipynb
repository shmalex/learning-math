{
 "cells": [
  {
   "cell_type": "code",
   "execution_count": 12,
   "id": "6de5c042",
   "metadata": {
    "ExecuteTime": {
     "end_time": "2024-01-29T08:37:03.190713Z",
     "start_time": "2024-01-29T08:37:03.185087Z"
    }
   },
   "outputs": [],
   "source": [
    "import pylab \n",
    "import numpy as np\n",
    "import pandas as pd\n",
    "import scipy.stats as stats\n",
    "from matplotlib import pyplot as plt"
   ]
  },
  {
   "cell_type": "markdown",
   "id": "070a20dc",
   "metadata": {},
   "source": [
    "# Definition"
   ]
  },
  {
   "cell_type": "markdown",
   "id": "1da7dc4b",
   "metadata": {},
   "source": [
    "Linear regression - LR is a form on supervised learning, model trained on labeled data. \n",
    "Most popular ML method has many real life applications. \n",
    "- easy to fit\n",
    "- easy to interpret\n",
    "\n",
    "It's important to know:\n",
    "- edge cases\n",
    "- different evaluation metrics\n",
    "\n",
    "The goal is to _Estimate_ a function $f(x)$ such that each feature has linear relationship to the target variable $y$\n",
    "$$y=X\\beta$$\n",
    "\n",
    "Where: \n",
    "- $X$ is matrix of predictor variables and \n",
    "- $\\beta$ is a vector of parameters that determines the _weight_ of each variable in predicting the target variable $y$"
   ]
  },
  {
   "cell_type": "markdown",
   "id": "6ff19694",
   "metadata": {},
   "source": [
    "## Fitting the model"
   ]
  },
  {
   "cell_type": "markdown",
   "id": "c24c35ab",
   "metadata": {},
   "source": [
    "The idea of fitting the LM is based on the concept of a residual: the distance between the real data point and model's prediction.\n",
    "\n",
    "$$X^{(i)}\\in\\mathbb{R}^d$$\n",
    "\n",
    "Linear regression estimates the $\\beta$ by minimizing the Residual Sum of Squares **RSS**:\n",
    "$$\\text{RSS}(\\beta)=(y-X\\beta)^T(y-X\\beta)$$\n",
    "\n",
    "**TSS** - Total Sum of Squares\\\n",
    "**ESS** - Explained Sum of Squares\\\n",
    "**RMSE** - Root Mean Squared Error\n",
    "\n",
    "\n",
    "$$\\text{TSS} = \\text{ESS} + \\text{RSS}$$\n",
    "\n",
    "$$R^2=1-\\tfrac{RSS}{TSS}$$\n",
    "\n",
    "\n",
    "$R^2$ - goodness of fit ranges `0..1` `represents the proportions of variability in the data explained by the model`\n",
    "\n",
    "**MSE** - mean squared error - measure the variance of the residuals, penalizes larger errors, more sensitive to outliers\\\n",
    "**MAE** - mean absolute error - measure the average of the residuals."
   ]
  },
  {
   "cell_type": "markdown",
   "id": "26162ab6",
   "metadata": {},
   "source": [
    "**What's the expected impactr on the $R^2$ when adding more features to a model?**\n",
    " - always increases the $R^2$, does not necessarily make for a better model\n",
    "More paramateres (features), when testing the $R^2$ should likely also be assessed with model complexity in mind.\n",
    "\n",
    "Metrics that take into account the number of features of linear regression models include\n",
    "**AIC** Akaike Information Criterion\n",
    "**BIC** Bayesian Information Criterion\n",
    "**Mallow's CP**\n",
    "**adjusted R^2**\n",
    "\n",
    "have to consider the model complexity in mo"
   ]
  },
  {
   "cell_type": "markdown",
   "id": "a5800fa7",
   "metadata": {},
   "source": [
    "## **AIC & BIC**"
   ]
  },
  {
   "cell_type": "markdown",
   "id": "bfe836c1",
   "metadata": {},
   "source": [
    " Both AIC and BIC provide a quantitative measure to evaluate and compare different models, enabling data scientists to make informed decisions."
   ]
  },
  {
   "cell_type": "markdown",
   "id": "a0adbe09",
   "metadata": {
    "ExecuteTime": {
     "end_time": "2024-02-07T13:30:46.037449Z",
     "start_time": "2024-02-07T13:30:46.032525Z"
    },
    "heading_collapsed": true
   },
   "source": [
    "### AIC"
   ]
  },
  {
   "cell_type": "markdown",
   "id": "ad937cd3",
   "metadata": {
    "hidden": true
   },
   "source": [
    " AIC - aims to estimate the relative quality of different models while penalizing for model complexity. The purpose of AIC is to find a model that maximizes the likelihood of the data while taking into account the number of parameters used.\n",
    " $$\\text{AIC} = -2\\log(L) + 2 k$$\n",
    "\n",
    "**L** represents the maximized likelihood of the model, which measures how well the model fits the data\\\n",
    "**k** represents the number of parameters in the model, including the intercept and any additional predictors\n",
    "\n",
    "The calculation of the Likelihood is difficult or with difficulties, the SSE can beused instead\n",
    "\n",
    "$$\\text{AIC} = n \\ln(\\tfrac{\\text{SSE}}{n})+2k$$\n",
    "\n",
    "**How AIC handles the smaller datasets?**\n",
    "The AIC has tendrncy to favor more complex models, especially when dealing with smaller datasets. To address these cases the corrected version o the AIC could be used or **AICc**\n",
    "\n",
    "$$\\text{AICc} = \\text{AIC} + (2 k (k + 1)) / (n – k – 1)$$\n",
    "\n",
    "k - represents the number of parameters in the model\\\n",
    "n - represents the sample size\\\n",
    "When we can’t determine the value of likelihood, we use SSE version of AIC as shown above.\n",
    "\n",
    "\n",
    "**AICc becomes larger** as the number of parameters increases relative to the sample size, effectively penalizing more complex models. By incorporating this correction, AICc provides a more accurate measure of model fit, particularly for smaller sample sizes. As the sample size increases, the correction term in AICc becomes negligible, and the original AIC can be used without the need for correction."
   ]
  },
  {
   "cell_type": "markdown",
   "id": "9e02befa",
   "metadata": {},
   "source": [
    "### BIC"
   ]
  },
  {
   "cell_type": "markdown",
   "id": "f849cfda",
   "metadata": {},
   "source": [
    "**The Bayesian Information Criterion (BIC)** is another model selection criterion that considers both model fit and complexity.\n",
    "\n",
    "BIC is **based on Bayesian principles** and provides a more stronger penalty for model complexity compared to AIC. The formula for BIC is as follows:\n",
    "\n",
    "$$BIC = -2\\log(L) + k\\log(n)$$\n",
    "\n",
    "In the formula, the terms $\\log(L)$ and $k$ have the same meaning as in AIC. Additionally, the term $\\log(n)$ represents the logarithm of the sample size (n). The $\\log(n)$ term in BIC introduces a stronger penalty for model complexity compared to AIC, as the penalty term scales with the sample size.\n",
    "\n",
    "The main difference between AIC and BIC lies in the **penalty term for model complexity**. While AIC penalizes complexity to some extent with the term 2 * k, BIC’s penalty increases logarithmically with the sample size, resulting in a more pronounced penalty. \n",
    "\n",
    "Therefore, BIC tends to favor simpler models compared to AIC, promoting a more parsimonious approach to model selection."
   ]
  },
  {
   "cell_type": "markdown",
   "id": "1f54e309",
   "metadata": {},
   "source": [
    "## $R^2$ or Coefficient of determination"
   ]
  },
  {
   "cell_type": "markdown",
   "id": "8a1ff697",
   "metadata": {},
   "source": [
    "$R^2$ is a statistical measure that represents the proportion of the variance for a dependent variable that's explained by an independent variable or variables in a regression model. \n",
    "\n",
    "**More accurattly $R^2$ is `one minus fraction of variance unexplained`**\n",
    "\n",
    "$R^2=1-\\tfrac{RSS}{TSS}=1-\\dfrac{\\sum{(y_i-\\hat{y_i})}}{\\sum{(y_i-\\bar{y_i})}},\\text{were } \\hat{y} \\text{ - predicted and  } \\bar{y} \\text{ - mean}$\n",
    "\n",
    "\n",
    "Adjusted $R^2$ is a modified version of $R^2$ that has been adjusted for the number of predictors in the model.\n",
    "\n",
    "Adjusted R-squared, a modified version of R-squared, adds precision and reliability by considering the impact of additional independent variables that tend to skew the results of R-squared measurements.\n",
    "\n"
   ]
  },
  {
   "cell_type": "markdown",
   "id": "f5887263",
   "metadata": {},
   "source": []
  },
  {
   "cell_type": "code",
   "execution_count": 20,
   "id": "4f792041",
   "metadata": {
    "ExecuteTime": {
     "end_time": "2024-02-07T13:27:15.578033Z",
     "start_time": "2024-02-07T13:27:15.229137Z"
    }
   },
   "outputs": [
    {
     "name": "stdout",
     "output_type": "stream",
     "text": [
      "AIC: 1587.6427984724191\n",
      "BIC: 1642.5877751731562\n"
     ]
    }
   ],
   "source": [
    "import pandas as pd\n",
    "import numpy as np\n",
    "from sklearn.linear_model import LinearRegression\n",
    "# Method for calculating AIC\n",
    "def calculate_aic(n, sse, k):\n",
    "    aic = n * np.log(sse / n) + 2 * k\n",
    "    return aic\n",
    "# Method for calculating BIC\n",
    "def calculate_bic(n, sse, k):\n",
    "    bic = n * np.log(sse / n) + k * np.log(n)\n",
    "    return bic\n",
    "# Load the Boston Housing Pricing Data\n",
    "url = \"https://raw.githubusercontent.com/selva86/datasets/master/BostonHousing.csv\"\n",
    "data = pd.read_csv(url)\n",
    "# Split the data into predictors (X) and target variable (y)\n",
    "X = data.drop(\"medv\", axis=1)  # Remove the target variable from predictors\n",
    "y = data[\"medv\"]\n",
    "# Fit linear regression model using scikit-learn\n",
    "reg = LinearRegression()\n",
    "reg.fit(X, y)\n",
    "# Calculate SSE\n",
    "y_pred = reg.predict(X)\n",
    "sse = np.sum((y - y_pred) ** 2)\n",
    "# Get number of parameters and sample size\n",
    "k = reg.coef_.size\n",
    "n = X.shape[0]\n",
    "# Calculate AIC and BIC\n",
    "aic = calculate_aic(n, sse, k)\n",
    "bic = calculate_bic(n, sse, k)\n",
    "print(\"AIC:\", aic)\n",
    "print(\"BIC:\", bic)"
   ]
  },
  {
   "cell_type": "markdown",
   "id": "cff486e7",
   "metadata": {},
   "source": [
    "**_How would linear regression be described and explained in layman’s terms?_**\n",
    "\n",
    "Linear regression is to find the best fitting line given a bunch of points.\\\n",
    "The distance to the line is the “error” - because ideally we prefer every point is on that line.\\\n",
    "Mathematically, we want a line that produces as small total error as possible.\\\n",
    "That’s what we do in linear regression."
   ]
  },
  {
   "cell_type": "markdown",
   "id": "723c05ef",
   "metadata": {},
   "source": [
    "**_What is an intuitive explanation of a multivariate regression?_**\n",
    "\n",
    "Normally regression only has one outcome (Y), and several predictor variables (X).\\\n",
    "In Multivariate regression, there are more than one outcomes (Y)."
   ]
  },
  {
   "cell_type": "markdown",
   "id": "f8e476a4",
   "metadata": {},
   "source": [
    "**_What is gradient descent method? Will gradient descent methods always converge to the same point?_**\n",
    "\n",
    "Gradient descent is an interative algorithm to find optimal solution. Sometimes, for example, in k-means clustering it will converge to different local optimals with different initializations. In regression, yes, it will always converge to the global optimal point."
   ]
  },
  {
   "cell_type": "markdown",
   "id": "9c471da6",
   "metadata": {},
   "source": [
    "**_What is the difference between linear regression and least squares?_**\n",
    "\n",
    "Linear regression is a statistical inference problem / machine learning model; and least squares describes one way to achieve the solution to the problem/ model. Alternatively, we can use MAE as measurement and gradient descent to find the solution to linear regression model."
   ]
  },
  {
   "cell_type": "markdown",
   "id": "4da4f6ac",
   "metadata": {},
   "source": [
    "# Statistical Perspective"
   ]
  },
  {
   "cell_type": "markdown",
   "id": "467a018e",
   "metadata": {},
   "source": [
    "1) Variables are normal distributed. Can check with histogram/ QQ plot. \\\n",
    " **What** if they are not normaly distributed, what are the ways to address that?\n",
    "2) Relationship is linear between independent and dependent variables (not polynomial etc.). Scatter plot is helpful in two dimensional case.\\\n",
    "Solution: _change the model to include polynomial terms._\n",
    "\n",
    "3) No linear dependency between predictors (no multi-collinearity). Use correlation/ covariance matrix to detect.\\\n",
    "Solution: _dimensional reduction (PCA), select one particular variable from highly correlated variable set, or ridge regression (without expecting the coefficient of one single variable explain much)_\n",
    "\n",
    "4) There is no correlation between error terms (no autocorrelation). This means, dependent variables (y) are independent of each other. Use residual plot or Durbin – Watson test.\\\n",
    "Solution: _time-series modelling_\n",
    "\n",
    "Last, homoscedasticity. It means the residual remains same as x changes. Scatter plot with x,y,fitting line, residuals is a good measurement.\n",
    "Solution: log transformation, box-cox transformation"
   ]
  },
  {
   "cell_type": "code",
   "execution_count": 15,
   "id": "ff4101f8",
   "metadata": {
    "ExecuteTime": {
     "end_time": "2024-01-29T13:43:26.274184Z",
     "start_time": "2024-01-29T13:43:26.260164Z"
    }
   },
   "outputs": [],
   "source": [
    "df = pd.read_csv('./data/titanic_train.csv')"
   ]
  },
  {
   "cell_type": "code",
   "execution_count": 16,
   "id": "02c458f9",
   "metadata": {
    "ExecuteTime": {
     "end_time": "2024-01-29T13:43:27.148566Z",
     "start_time": "2024-01-29T13:43:27.129269Z"
    }
   },
   "outputs": [
    {
     "data": {
      "text/html": [
       "<div>\n",
       "<style scoped>\n",
       "    .dataframe tbody tr th:only-of-type {\n",
       "        vertical-align: middle;\n",
       "    }\n",
       "\n",
       "    .dataframe tbody tr th {\n",
       "        vertical-align: top;\n",
       "    }\n",
       "\n",
       "    .dataframe thead th {\n",
       "        text-align: right;\n",
       "    }\n",
       "</style>\n",
       "<table border=\"1\" class=\"dataframe\">\n",
       "  <thead>\n",
       "    <tr style=\"text-align: right;\">\n",
       "      <th></th>\n",
       "      <th>PassengerId</th>\n",
       "      <th>Survived</th>\n",
       "      <th>Pclass</th>\n",
       "      <th>Name</th>\n",
       "      <th>Sex</th>\n",
       "      <th>Age</th>\n",
       "      <th>SibSp</th>\n",
       "      <th>Parch</th>\n",
       "      <th>Ticket</th>\n",
       "      <th>Fare</th>\n",
       "      <th>Cabin</th>\n",
       "      <th>Embarked</th>\n",
       "    </tr>\n",
       "  </thead>\n",
       "  <tbody>\n",
       "    <tr>\n",
       "      <th>0</th>\n",
       "      <td>1</td>\n",
       "      <td>0</td>\n",
       "      <td>3</td>\n",
       "      <td>Braund, Mr. Owen Harris</td>\n",
       "      <td>male</td>\n",
       "      <td>22.0</td>\n",
       "      <td>1</td>\n",
       "      <td>0</td>\n",
       "      <td>A/5 21171</td>\n",
       "      <td>7.2500</td>\n",
       "      <td>NaN</td>\n",
       "      <td>S</td>\n",
       "    </tr>\n",
       "    <tr>\n",
       "      <th>1</th>\n",
       "      <td>2</td>\n",
       "      <td>1</td>\n",
       "      <td>1</td>\n",
       "      <td>Cumings, Mrs. John Bradley (Florence Briggs Th...</td>\n",
       "      <td>female</td>\n",
       "      <td>38.0</td>\n",
       "      <td>1</td>\n",
       "      <td>0</td>\n",
       "      <td>PC 17599</td>\n",
       "      <td>71.2833</td>\n",
       "      <td>C85</td>\n",
       "      <td>C</td>\n",
       "    </tr>\n",
       "    <tr>\n",
       "      <th>2</th>\n",
       "      <td>3</td>\n",
       "      <td>1</td>\n",
       "      <td>3</td>\n",
       "      <td>Heikkinen, Miss. Laina</td>\n",
       "      <td>female</td>\n",
       "      <td>26.0</td>\n",
       "      <td>0</td>\n",
       "      <td>0</td>\n",
       "      <td>STON/O2. 3101282</td>\n",
       "      <td>7.9250</td>\n",
       "      <td>NaN</td>\n",
       "      <td>S</td>\n",
       "    </tr>\n",
       "    <tr>\n",
       "      <th>3</th>\n",
       "      <td>4</td>\n",
       "      <td>1</td>\n",
       "      <td>1</td>\n",
       "      <td>Futrelle, Mrs. Jacques Heath (Lily May Peel)</td>\n",
       "      <td>female</td>\n",
       "      <td>35.0</td>\n",
       "      <td>1</td>\n",
       "      <td>0</td>\n",
       "      <td>113803</td>\n",
       "      <td>53.1000</td>\n",
       "      <td>C123</td>\n",
       "      <td>S</td>\n",
       "    </tr>\n",
       "    <tr>\n",
       "      <th>4</th>\n",
       "      <td>5</td>\n",
       "      <td>0</td>\n",
       "      <td>3</td>\n",
       "      <td>Allen, Mr. William Henry</td>\n",
       "      <td>male</td>\n",
       "      <td>35.0</td>\n",
       "      <td>0</td>\n",
       "      <td>0</td>\n",
       "      <td>373450</td>\n",
       "      <td>8.0500</td>\n",
       "      <td>NaN</td>\n",
       "      <td>S</td>\n",
       "    </tr>\n",
       "  </tbody>\n",
       "</table>\n",
       "</div>"
      ],
      "text/plain": [
       "   PassengerId  Survived  Pclass  \\\n",
       "0            1         0       3   \n",
       "1            2         1       1   \n",
       "2            3         1       3   \n",
       "3            4         1       1   \n",
       "4            5         0       3   \n",
       "\n",
       "                                                Name     Sex   Age  SibSp  \\\n",
       "0                            Braund, Mr. Owen Harris    male  22.0      1   \n",
       "1  Cumings, Mrs. John Bradley (Florence Briggs Th...  female  38.0      1   \n",
       "2                             Heikkinen, Miss. Laina  female  26.0      0   \n",
       "3       Futrelle, Mrs. Jacques Heath (Lily May Peel)  female  35.0      1   \n",
       "4                           Allen, Mr. William Henry    male  35.0      0   \n",
       "\n",
       "   Parch            Ticket     Fare Cabin Embarked  \n",
       "0      0         A/5 21171   7.2500   NaN        S  \n",
       "1      0          PC 17599  71.2833   C85        C  \n",
       "2      0  STON/O2. 3101282   7.9250   NaN        S  \n",
       "3      0            113803  53.1000  C123        S  \n",
       "4      0            373450   8.0500   NaN        S  "
      ]
     },
     "execution_count": 16,
     "metadata": {},
     "output_type": "execute_result"
    }
   ],
   "source": [
    "df.head()"
   ]
  },
  {
   "cell_type": "code",
   "execution_count": 17,
   "id": "eede1bd2",
   "metadata": {
    "ExecuteTime": {
     "end_time": "2024-01-29T13:43:28.509746Z",
     "start_time": "2024-01-29T13:43:28.257045Z"
    }
   },
   "outputs": [
    {
     "data": {
      "image/png": "[encoded data removed]",
      "text/plain": [
       "<Figure size 640x480 with 1 Axes>"
      ]
     },
     "metadata": {},
     "output_type": "display_data"
    }
   ],
   "source": [
    "df['Age'].hist(bins=50)\n",
    "plt.show()"
   ]
  },
  {
   "cell_type": "code",
   "execution_count": 18,
   "id": "586f665c",
   "metadata": {
    "ExecuteTime": {
     "end_time": "2024-01-29T13:43:29.164661Z",
     "start_time": "2024-01-29T13:43:28.944042Z"
    }
   },
   "outputs": [
    {
     "data": {
      "image/png": "[encoded data removed]",
      "text/plain": [
       "<Figure size 640x480 with 1 Axes>"
      ]
     },
     "metadata": {},
     "output_type": "display_data"
    }
   ],
   "source": [
    "stats.probplot(df['Age'], dist=\"norm\", plot=pylab)\n",
    "pylab.show()"
   ]
  },
  {
   "cell_type": "markdown",
   "id": "e2ae6bdc",
   "metadata": {},
   "source": [
    "# source:\n",
    "https://yoyoinwanderland.github.io/Interview-Linear-Regression/ \\\n",
    "https://towardsdatascience.com/evaluation-metrics-model-selection-in-linear-regression-73c7573208be \\\n",
    "https://vitalflux.com/aic-vs-bic-for-regression-models-formula-examples/\\\n",
    "https://www.investopedia.com/ask/answers/012615/whats-difference-between-rsquared-and-adjusted-rsquared.asp\\\n",
    "https://en.wikipedia.org/wiki/Coefficient_of_determination"
   ]
  },
  {
   "cell_type": "code",
   "execution_count": null,
   "id": "ae2981c8",
   "metadata": {},
   "outputs": [],
   "source": []
  }
 ],
 "metadata": {
  "kernelspec": {
   "display_name": "py310",
   "language": "python",
   "name": "py310"
  },
  "language_info": {
   "codemirror_mode": {
    "name": "ipython",
    "version": 3
   },
   "file_extension": ".py",
   "mimetype": "text/x-python",
   "name": "python",
   "nbconvert_exporter": "python",
   "pygments_lexer": "ipython3",
   "version": "3.10.11"
  }
 },
 "nbformat": 4,
 "nbformat_minor": 5
}
