{
 "cells": [
  {
   "cell_type": "code",
   "execution_count": 361,
   "id": "c113b264",
   "metadata": {
    "ExecuteTime": {
     "end_time": "2024-03-25T08:50:15.067385Z",
     "start_time": "2024-03-25T08:50:15.061986Z"
    }
   },
   "outputs": [],
   "source": [
    "import numpy as np\n",
    "from matplotlib import pyplot as plt\n",
    "\n",
    "ln=np.log"
   ]
  },
  {
   "cell_type": "code",
   "execution_count": 362,
   "id": "0c3f6293",
   "metadata": {
    "ExecuteTime": {
     "end_time": "2024-03-25T08:50:15.333103Z",
     "start_time": "2024-03-25T08:50:15.327308Z"
    }
   },
   "outputs": [],
   "source": [
    "# OUR FUNCTION\n",
    "def f(th, x):\n",
    "    return np.log(1/th)*(th**x)"
   ]
  },
  {
   "cell_type": "code",
   "execution_count": 363,
   "id": "30b70650",
   "metadata": {
    "ExecuteTime": {
     "end_time": "2024-03-25T08:50:15.906558Z",
     "start_time": "2024-03-25T08:50:15.900414Z"
    }
   },
   "outputs": [],
   "source": [
    "def get_data (th, max_x, n):\n",
    "    return [f(th, x) for x in np.random.uniform(0, max_x, size=n)]"
   ]
  },
  {
   "cell_type": "code",
   "execution_count": 364,
   "id": "063a443d",
   "metadata": {
    "ExecuteTime": {
     "end_time": "2024-03-25T08:50:16.309643Z",
     "start_time": "2024-03-25T08:50:16.284378Z"
    }
   },
   "outputs": [],
   "source": [
    "N = 10000\n",
    "xs = list(range(1,N))\n",
    "f3 = [f(0.9, x) for x in xs]"
   ]
  },
  {
   "cell_type": "code",
   "execution_count": 365,
   "id": "0fc6c0ae",
   "metadata": {
    "ExecuteTime": {
     "end_time": "2024-03-25T08:50:17.533041Z",
     "start_time": "2024-03-25T08:50:17.524666Z"
    }
   },
   "outputs": [
    {
     "data": {
      "text/plain": [
       "0.9482446409204375"
      ]
     },
     "execution_count": 365,
     "metadata": {},
     "output_type": "execute_result"
    }
   ],
   "source": [
    "np.sum(f3)"
   ]
  },
  {
   "cell_type": "code",
   "execution_count": 366,
   "id": "1ad91595",
   "metadata": {
    "ExecuteTime": {
     "end_time": "2024-03-25T08:50:20.846180Z",
     "start_time": "2024-03-25T08:50:20.839281Z"
    }
   },
   "outputs": [],
   "source": [
    "f3[0] = f3[0] + (1-np.sum(f3))"
   ]
  },
  {
   "cell_type": "code",
   "execution_count": 367,
   "id": "7e2f7d66",
   "metadata": {
    "ExecuteTime": {
     "end_time": "2024-03-25T08:50:21.164693Z",
     "start_time": "2024-03-25T08:50:21.155722Z"
    }
   },
   "outputs": [
    {
     "data": {
      "text/plain": [
       "1.0"
      ]
     },
     "execution_count": 367,
     "metadata": {},
     "output_type": "execute_result"
    }
   ],
   "source": [
    "np.sum(f3)"
   ]
  },
  {
   "cell_type": "code",
   "execution_count": 368,
   "id": "3393ffc9",
   "metadata": {
    "ExecuteTime": {
     "end_time": "2024-03-25T08:50:23.404967Z",
     "start_time": "2024-03-25T08:50:22.638328Z"
    }
   },
   "outputs": [],
   "source": [
    "X1 = np.random.choice(xs, size=n*10, p=f3)"
   ]
  },
  {
   "cell_type": "code",
   "execution_count": 369,
   "id": "60b3e863",
   "metadata": {
    "ExecuteTime": {
     "end_time": "2024-03-25T08:50:23.412761Z",
     "start_time": "2024-03-25T08:50:23.408102Z"
    }
   },
   "outputs": [
    {
     "data": {
      "text/plain": [
       "10000000"
      ]
     },
     "execution_count": 369,
     "metadata": {},
     "output_type": "execute_result"
    }
   ],
   "source": [
    "len(X1)"
   ]
  },
  {
   "cell_type": "code",
   "execution_count": 370,
   "id": "3f36fb25",
   "metadata": {
    "ExecuteTime": {
     "end_time": "2024-03-25T08:50:24.558529Z",
     "start_time": "2024-03-25T08:50:24.534532Z"
    }
   },
   "outputs": [
    {
     "data": {
      "text/plain": [
       "9.5348743"
      ]
     },
     "execution_count": 370,
     "metadata": {},
     "output_type": "execute_result"
    }
   ],
   "source": [
    "np.mean(X1)"
   ]
  },
  {
   "cell_type": "code",
   "execution_count": 371,
   "id": "1a955c77",
   "metadata": {
    "ExecuteTime": {
     "end_time": "2024-03-25T08:50:26.954620Z",
     "start_time": "2024-03-25T08:50:26.947350Z"
    }
   },
   "outputs": [
    {
     "data": {
      "text/plain": [
       "0.9"
      ]
     },
     "execution_count": 371,
     "metadata": {},
     "output_type": "execute_result"
    }
   ],
   "source": [
    "th"
   ]
  },
  {
   "cell_type": "code",
   "execution_count": 373,
   "id": "8b754ee0",
   "metadata": {
    "ExecuteTime": {
     "end_time": "2024-03-25T08:51:14.035800Z",
     "start_time": "2024-03-25T08:51:14.028243Z"
    }
   },
   "outputs": [
    {
     "data": {
      "text/plain": [
       "21.854345326782852"
      ]
     },
     "execution_count": 373,
     "metadata": {},
     "output_type": "execute_result"
    }
   ],
   "source": [
    "np.log10(1/th)/np.log10(th)**2"
   ]
  },
  {
   "cell_type": "code",
   "execution_count": null,
   "id": "3ef23e16",
   "metadata": {},
   "outputs": [],
   "source": []
  },
  {
   "cell_type": "code",
   "execution_count": 296,
   "id": "94c68611",
   "metadata": {
    "ExecuteTime": {
     "end_time": "2024-03-24T19:09:36.081875Z",
     "start_time": "2024-03-24T19:09:36.073105Z"
    }
   },
   "outputs": [
    {
     "data": {
      "text/plain": [
       "9.4912215810299"
      ]
     },
     "execution_count": 296,
     "metadata": {},
     "output_type": "execute_result"
    }
   ],
   "source": [
    "1/ln(1/0.9)"
   ]
  },
  {
   "cell_type": "code",
   "execution_count": 297,
   "id": "c04bae45",
   "metadata": {
    "ExecuteTime": {
     "end_time": "2024-03-24T19:09:38.318942Z",
     "start_time": "2024-03-24T19:09:38.153644Z"
    }
   },
   "outputs": [
    {
     "data": {
      "text/plain": [
       "89.31452780075809"
      ]
     },
     "execution_count": 297,
     "metadata": {},
     "output_type": "execute_result"
    }
   ],
   "source": [
    "np.var(X1)"
   ]
  },
  {
   "cell_type": "code",
   "execution_count": 300,
   "id": "0ddbd26b",
   "metadata": {
    "ExecuteTime": {
     "end_time": "2024-03-24T19:11:09.568374Z",
     "start_time": "2024-03-24T19:11:09.560325Z"
    }
   },
   "outputs": [
    {
     "data": {
      "text/plain": [
       "90.08328710020768"
      ]
     },
     "execution_count": 300,
     "metadata": {},
     "output_type": "execute_result"
    }
   ],
   "source": [
    "1/(ln(1/0.9))**2"
   ]
  },
  {
   "cell_type": "code",
   "execution_count": 299,
   "id": "0f03b11c",
   "metadata": {
    "ExecuteTime": {
     "end_time": "2024-03-24T19:11:05.738180Z",
     "start_time": "2024-03-24T19:11:05.730000Z"
    }
   },
   "outputs": [
    {
     "data": {
      "text/plain": [
       "100.00000000000006"
      ]
     },
     "execution_count": 299,
     "metadata": {},
     "output_type": "execute_result"
    }
   ],
   "source": [
    "1/(1-0.9)**2"
   ]
  },
  {
   "cell_type": "code",
   "execution_count": 303,
   "id": "630eec52",
   "metadata": {
    "ExecuteTime": {
     "end_time": "2024-03-24T19:19:58.469967Z",
     "start_time": "2024-03-24T19:19:58.464621Z"
    }
   },
   "outputs": [],
   "source": [
    "th=.9"
   ]
  },
  {
   "cell_type": "code",
   "execution_count": 309,
   "id": "350b5b7c",
   "metadata": {
    "ExecuteTime": {
     "end_time": "2024-03-24T19:22:12.378675Z",
     "start_time": "2024-03-24T19:22:12.370127Z"
    }
   },
   "outputs": [
    {
     "data": {
      "text/plain": [
       "9.491221581029912"
      ]
     },
     "execution_count": 309,
     "metadata": {},
     "output_type": "execute_result"
    }
   ],
   "source": [
    "(\n",
    "    ln(1/th)/(ln(th)**2)\n",
    ")+(2*ln(1/th))/(ln(th)**3)"
   ]
  },
  {
   "cell_type": "code",
   "execution_count": 310,
   "id": "1d69a89e",
   "metadata": {
    "ExecuteTime": {
     "end_time": "2024-03-24T19:22:14.325638Z",
     "start_time": "2024-03-24T19:22:14.316443Z"
    }
   },
   "outputs": [
    {
     "data": {
      "text/plain": [
       "-180.1665742004157"
      ]
     },
     "execution_count": 310,
     "metadata": {},
     "output_type": "execute_result"
    }
   ],
   "source": [
    "    (2*ln(1/th))/(ln(th)**3)"
   ]
  },
  {
   "cell_type": "code",
   "execution_count": 354,
   "id": "a8f1c004",
   "metadata": {
    "ExecuteTime": {
     "end_time": "2024-03-25T08:30:12.589077Z",
     "start_time": "2024-03-25T08:30:12.560998Z"
    }
   },
   "outputs": [
    {
     "data": {
      "text/latex": [
       "$\\displaystyle \\frac{1}{\\theta^{2} \\log{\\left(\\theta \\right)}} - \\frac{1}{\\theta^{2} \\log{\\left(\\frac{1}{\\theta} \\right)}}$"
      ],
      "text/plain": [
       "1/(theta**2*log(theta)) - 1/(theta**2*log(1/theta))"
      ]
     },
     "execution_count": 354,
     "metadata": {},
     "output_type": "execute_result"
    }
   ],
   "source": [
    "from sympy import E, log\n",
    "\n",
    "# Define theta and n as symbols\n",
    "theta = symbols('theta')\n",
    "\n",
    "# Expected value of X, given earlier\n",
    "E_X = 1 / log(1/theta)\n",
    "\n",
    "# Expression for Fisher Information I(theta)\n",
    "I_theta = 1 / (theta**2 * log(theta)) - E_X / theta**2\n",
    "\n",
    "# Simplify Fisher Information expression\n",
    "I_theta_simplified = I_theta.simplify()\n",
    "\n",
    "# Asymptotic variance V(theta) = 1/I(theta) for a single observation, scale for n in final formula\n",
    "V_theta = 1 / I_theta_simplified\n",
    "\n",
    "I_theta_simplified"
   ]
  },
  {
   "cell_type": "code",
   "execution_count": 355,
   "id": "86878b9d",
   "metadata": {
    "ExecuteTime": {
     "end_time": "2024-03-25T08:30:14.978852Z",
     "start_time": "2024-03-25T08:30:14.950640Z"
    }
   },
   "outputs": [
    {
     "data": {
      "text/latex": [
       "$\\displaystyle \\frac{\\theta^{2} \\log{\\left(\\frac{1}{\\theta} \\right)} \\log{\\left(\\theta \\right)}}{\\log{\\left(\\frac{1}{\\theta} \\right)} - \\log{\\left(\\theta \\right)}}$"
      ],
      "text/plain": [
       "theta**2*log(1/theta)*log(theta)/(log(1/theta) - log(theta))"
      ]
     },
     "execution_count": 355,
     "metadata": {},
     "output_type": "execute_result"
    }
   ],
   "source": [
    "V_theta.simplify()"
   ]
  },
  {
   "cell_type": "code",
   "execution_count": null,
   "id": "fb9cd62a",
   "metadata": {},
   "outputs": [],
   "source": []
  },
  {
   "cell_type": "code",
   "execution_count": 357,
   "id": "90026782",
   "metadata": {
    "ExecuteTime": {
     "end_time": "2024-03-25T08:36:11.449686Z",
     "start_time": "2024-03-25T08:36:10.934977Z"
    }
   },
   "outputs": [
    {
     "data": {
      "text/latex": [
       "$\\displaystyle \\log{\\left(\\frac{1}{\\theta} \\right)} \\int\\limits_{0}^{\\infty} \\theta^{x} x\\, dx$"
      ],
      "text/plain": [
       "log(1/theta)*Integral(theta**x*x, (x, 0, oo))"
      ]
     },
     "execution_count": 357,
     "metadata": {},
     "output_type": "execute_result"
    }
   ],
   "source": [
    "from sympy import symbols, integrate, ln, oo\n",
    "\n",
    "# Define symbols\n",
    "x, theta = symbols('x theta')\n",
    "\n",
    "# PDF of the random variable X\n",
    "f_theta = ln(1/theta) * theta**x\n",
    "\n",
    "# Expected value E[X] = integral x*f(x) dx from 0 to infinity\n",
    "E_X = integrate(x * f_theta, (x, 0, oo))\n",
    "\n",
    "# Variance Var[X] = E[X^2] - (E[X])^2\n",
    "# First, compute E[X^2]\n",
    "E_X2 = integrate(x**2 * f_theta, (x, 0, oo))\n",
    "Var_X = E_X2 - E_X**2\n",
    "\n",
    "E_X"
   ]
  },
  {
   "cell_type": "code",
   "execution_count": 358,
   "id": "3b0515ac",
   "metadata": {
    "ExecuteTime": {
     "end_time": "2024-03-25T08:36:13.325223Z",
     "start_time": "2024-03-25T08:36:13.312489Z"
    }
   },
   "outputs": [
    {
     "data": {
      "text/latex": [
       "$\\displaystyle - \\log{\\left(\\frac{1}{\\theta} \\right)}^{2} \\left(\\int\\limits_{0}^{\\infty} \\theta^{x} x\\, dx\\right)^{2} + \\log{\\left(\\frac{1}{\\theta} \\right)} \\int\\limits_{0}^{\\infty} \\theta^{x} x^{2}\\, dx$"
      ],
      "text/plain": [
       "-log(1/theta)**2*Integral(theta**x*x, (x, 0, oo))**2 + log(1/theta)*Integral(theta**x*x**2, (x, 0, oo))"
      ]
     },
     "execution_count": 358,
     "metadata": {},
     "output_type": "execute_result"
    }
   ],
   "source": [
    "Var_X"
   ]
  },
  {
   "cell_type": "code",
   "execution_count": 359,
   "id": "77724387",
   "metadata": {
    "ExecuteTime": {
     "end_time": "2024-03-25T08:39:45.049111Z",
     "start_time": "2024-03-25T08:39:44.850162Z"
    }
   },
   "outputs": [
    {
     "data": {
      "text/latex": [
       "$\\displaystyle \\log{\\left(\\frac{1}{\\theta} \\right)} \\int\\limits_{0}^{\\infty} \\theta^{x}\\, dx$"
      ],
      "text/plain": [
       "log(1/theta)*Integral(theta**x, (x, 0, oo))"
      ]
     },
     "execution_count": 359,
     "metadata": {},
     "output_type": "execute_result"
    }
   ],
   "source": [
    "from sympy import solve, diff\n",
    "\n",
    "# Correcting the expected value and variance calculation by considering the nature of the pdf\n",
    "\n",
    "# First, verify if there's a mistake in the integration approach and correct it\n",
    "# Let's correct the PDF for integration: It seems the PDF might be incorrectly specified for direct integration in this form.\n",
    "# We might need to apply properties of the expected value and variance for this specific distribution if direct integration does not yield a result.\n",
    "# Trying to find an analytical solution or applying properties that could simplify the computation\n",
    "\n",
    "# Let's try to derive the moments from first principles given the nature of the distribution\n",
    "# Moment generating function approach might be necessary if direct integration fails\n",
    "# But first, ensure the pdf integrates to 1 over its support as a sanity check\n",
    "pdf_integral = integrate(f_theta, (x, 0, oo))\n",
    "\n",
    "# Compute derivatives of the moment generating function if necessary\n",
    "# However, given the specific form of pdf, direct computation of E[X] and Var[X] might need adjustment or using known results for distributions of similar forms\n",
    "\n",
    "pdf_integral"
   ]
  },
  {
   "cell_type": "code",
   "execution_count": 375,
   "id": "d82095c9",
   "metadata": {
    "ExecuteTime": {
     "end_time": "2024-03-25T08:55:08.154596Z",
     "start_time": "2024-03-25T08:55:07.009421Z"
    }
   },
   "outputs": [
    {
     "data": {
      "text/latex": [
       "$\\displaystyle \\log{\\left(\\frac{1}{\\theta} \\right)} \\int\\limits_{1}^{\\infty} \\theta^{x} x\\, dx$"
      ],
      "text/plain": [
       "log(1/theta)*Integral(theta**x*x, (x, 1, oo))"
      ]
     },
     "execution_count": 375,
     "metadata": {},
     "output_type": "execute_result"
    }
   ],
   "source": [
    "\n",
    "from sympy import symbols, integrate, ln, oo, simplify, diff\n",
    "\n",
    "# Define symbols\n",
    "x, theta = symbols('x theta')\n",
    "\n",
    "# Define the pdf\n",
    "f_theta = ln(1/theta)*theta**x\n",
    "\n",
    "# Compute the expected value E[X_i]\n",
    "E_X_i = integrate(x*f_theta, (x, 1, oo))\n",
    "\n",
    "# Compute the second moment E[X_i^2] for the variance calculation\n",
    "E_X_i_squared = integrate(x**2*f_theta, (x, 1, oo))\n",
    "\n",
    "# Variance Var[X_i] = E[X_i^2] - (E[X_i])^2\n",
    "Var_X_i = E_X_i_squared - E_X_i**2\n",
    "\n",
    "# Simplify the expressions\n",
    "E_X_i_simplified = simplify(E_X_i)\n",
    "Var_X_i_simplified = simplify(Var_X_i)\n",
    "\n",
    "E_X_i_simplified"
   ]
  },
  {
   "cell_type": "code",
   "execution_count": 376,
   "id": "a7b678c2",
   "metadata": {
    "ExecuteTime": {
     "end_time": "2024-03-25T08:55:10.221818Z",
     "start_time": "2024-03-25T08:55:10.208450Z"
    }
   },
   "outputs": [
    {
     "data": {
      "text/latex": [
       "$\\displaystyle \\left(- \\log{\\left(\\frac{1}{\\theta} \\right)} \\left(\\int\\limits_{1}^{\\infty} \\theta^{x} x\\, dx\\right)^{2} + \\int\\limits_{1}^{\\infty} \\theta^{x} x^{2}\\, dx\\right) \\log{\\left(\\frac{1}{\\theta} \\right)}$"
      ],
      "text/plain": [
       "(-log(1/theta)*Integral(theta**x*x, (x, 1, oo))**2 + Integral(theta**x*x**2, (x, 1, oo)))*log(1/theta)"
      ]
     },
     "execution_count": 376,
     "metadata": {},
     "output_type": "execute_result"
    }
   ],
   "source": [
    "Var_X_i_simplified"
   ]
  },
  {
   "cell_type": "code",
   "execution_count": 378,
   "id": "eca18ded",
   "metadata": {
    "ExecuteTime": {
     "end_time": "2024-03-25T08:55:51.208736Z",
     "start_time": "2024-03-25T08:55:50.113204Z"
    }
   },
   "outputs": [
    {
     "data": {
      "text/latex": [
       "$\\displaystyle \\log{\\left(\\frac{1}{\\theta} \\right)} \\int\\limits_{0}^{\\infty} \\theta^{x} x\\, dx$"
      ],
      "text/plain": [
       "log(1/theta)*Integral(theta**x*x, (x, 0, oo))"
      ]
     },
     "execution_count": 378,
     "metadata": {},
     "output_type": "execute_result"
    }
   ],
   "source": [
    "# Correct the PDF definition including the indicator function implicitly by setting proper limits\n",
    "# The PDF is already defined correctly for x > 0, so we just proceed with the calculations again.\n",
    "\n",
    "# Compute the expected value E[X_i] again correctly\n",
    "E_X_i_correct = integrate(x*f_theta, (x, 0, oo))\n",
    "\n",
    "# Compute the second moment E[X_i^2] for the variance calculation correctly\n",
    "E_X_i_squared_correct = integrate(x**2*f_theta, (x, 0, oo))\n",
    "\n",
    "# Variance Var[X_i] = E[X_i^2] - (E[X_i])^2, recalculated correctly\n",
    "Var_X_i_correct = E_X_i_squared_correct - E_X_i_correct**2\n",
    "\n",
    "# Simplify the expressions again correctly\n",
    "E_X_i_simplified_correct = simplify(E_X_i_correct)\n",
    "Var_X_i_simplified_correct = simplify(Var_X_i_correct)\n",
    "\n",
    "E_X_i_simplified_correct"
   ]
  },
  {
   "cell_type": "code",
   "execution_count": 379,
   "id": "0134c235",
   "metadata": {
    "ExecuteTime": {
     "end_time": "2024-03-25T08:55:51.761367Z",
     "start_time": "2024-03-25T08:55:51.751821Z"
    }
   },
   "outputs": [
    {
     "data": {
      "text/latex": [
       "$\\displaystyle \\left(- \\log{\\left(\\frac{1}{\\theta} \\right)} \\left(\\int\\limits_{0}^{\\infty} \\theta^{x} x\\, dx\\right)^{2} + \\int\\limits_{0}^{\\infty} \\theta^{x} x^{2}\\, dx\\right) \\log{\\left(\\frac{1}{\\theta} \\right)}$"
      ],
      "text/plain": [
       "(-log(1/theta)*Integral(theta**x*x, (x, 0, oo))**2 + Integral(theta**x*x**2, (x, 0, oo)))*log(1/theta)"
      ]
     },
     "execution_count": 379,
     "metadata": {},
     "output_type": "execute_result"
    }
   ],
   "source": [
    "Var_X_i_simplified_correct"
   ]
  },
  {
   "cell_type": "code",
   "execution_count": null,
   "id": "7d88e642",
   "metadata": {},
   "outputs": [],
   "source": []
  },
  {
   "cell_type": "code",
   "execution_count": 322,
   "id": "46b55f6e",
   "metadata": {
    "ExecuteTime": {
     "end_time": "2024-03-24T19:40:29.635809Z",
     "start_time": "2024-03-24T19:40:29.632574Z"
    }
   },
   "outputs": [],
   "source": [
    "from sympy import SingularityFunction, symbols, Function, integrate\n",
    "from sympy import symbols, expand_log, exp, log"
   ]
  },
  {
   "cell_type": "code",
   "execution_count": 333,
   "id": "2f7f400f",
   "metadata": {
    "ExecuteTime": {
     "end_time": "2024-03-24T19:48:27.395414Z",
     "start_time": "2024-03-24T19:48:27.389773Z"
    }
   },
   "outputs": [],
   "source": [
    "x, theta, tau  = symbols('x theta tau')"
   ]
  },
  {
   "cell_type": "code",
   "execution_count": 334,
   "id": "0385a296",
   "metadata": {
    "ExecuteTime": {
     "end_time": "2024-03-24T19:48:28.609765Z",
     "start_time": "2024-03-24T19:48:28.604462Z"
    }
   },
   "outputs": [],
   "source": [
    "x = symbols('x', integer=True)\n",
    "theta = symbols('theta', positive=True)"
   ]
  },
  {
   "cell_type": "code",
   "execution_count": 335,
   "id": "eefdc266",
   "metadata": {
    "ExecuteTime": {
     "end_time": "2024-03-24T19:48:31.011762Z",
     "start_time": "2024-03-24T19:48:31.005296Z"
    }
   },
   "outputs": [],
   "source": [
    "K = 1/log(theta)"
   ]
  },
  {
   "cell_type": "code",
   "execution_count": 342,
   "id": "18622846",
   "metadata": {
    "ExecuteTime": {
     "end_time": "2024-03-24T19:49:16.347256Z",
     "start_time": "2024-03-24T19:49:16.341571Z"
    }
   },
   "outputs": [],
   "source": [
    "f_theta_x = 1/log(theta) * theta**x"
   ]
  },
  {
   "cell_type": "code",
   "execution_count": 343,
   "id": "61210453",
   "metadata": {
    "ExecuteTime": {
     "end_time": "2024-03-24T19:49:17.210317Z",
     "start_time": "2024-03-24T19:49:17.148096Z"
    }
   },
   "outputs": [],
   "source": [
    "F_Theta_tau = integrate(f_theta_x, (x))"
   ]
  },
  {
   "cell_type": "code",
   "execution_count": 344,
   "id": "fb473914",
   "metadata": {
    "ExecuteTime": {
     "end_time": "2024-03-24T19:49:19.117515Z",
     "start_time": "2024-03-24T19:49:19.108620Z"
    }
   },
   "outputs": [
    {
     "data": {
      "text/latex": [
       "$\\displaystyle \\begin{cases} \\frac{\\theta^{x}}{\\log{\\left(\\theta \\right)}^{2}} & \\text{for}\\: \\log{\\left(\\theta \\right)}^{2} \\neq 0 \\\\\\frac{x}{\\log{\\left(\\theta \\right)}} & \\text{otherwise} \\end{cases}$"
      ],
      "text/plain": [
       "Piecewise((theta**x/log(theta)**2, Ne(log(theta)**2, 0)), (x/log(theta), True))"
      ]
     },
     "execution_count": 344,
     "metadata": {},
     "output_type": "execute_result"
    }
   ],
   "source": [
    "F_Theta_tau"
   ]
  },
  {
   "cell_type": "code",
   "execution_count": 345,
   "id": "7633bdfc",
   "metadata": {
    "ExecuteTime": {
     "end_time": "2024-03-24T19:49:20.781134Z",
     "start_time": "2024-03-24T19:49:20.775952Z"
    }
   },
   "outputs": [],
   "source": [
    "from sympy.stats import Normal, Expectation, Variance, Probability\n"
   ]
  },
  {
   "cell_type": "code",
   "execution_count": 346,
   "id": "d07952a0",
   "metadata": {
    "ExecuteTime": {
     "end_time": "2024-03-24T19:49:21.259364Z",
     "start_time": "2024-03-24T19:49:21.251489Z"
    }
   },
   "outputs": [
    {
     "data": {
      "text/plain": [
       "Exception(theta**x/log(theta))"
      ]
     },
     "execution_count": 346,
     "metadata": {},
     "output_type": "execute_result"
    }
   ],
   "source": [
    "Exception(f_theta_x)"
   ]
  },
  {
   "cell_type": "code",
   "execution_count": 347,
   "id": "36268141",
   "metadata": {
    "ExecuteTime": {
     "end_time": "2024-03-24T19:49:22.397988Z",
     "start_time": "2024-03-24T19:49:22.389215Z"
    }
   },
   "outputs": [
    {
     "data": {
      "text/latex": [
       "$\\displaystyle \\operatorname{Var}\\left(\\frac{\\theta^{x}}{\\log{\\left(\\theta \\right)}}\\right)$"
      ],
      "text/plain": [
       "Variance(theta**x/log(theta))"
      ]
     },
     "execution_count": 347,
     "metadata": {},
     "output_type": "execute_result"
    }
   ],
   "source": [
    "Variance(f_theta_x)"
   ]
  },
  {
   "cell_type": "markdown",
   "id": "772430a4",
   "metadata": {
    "ExecuteTime": {
     "end_time": "2024-03-24T21:11:57.606407Z",
     "start_time": "2024-03-24T21:11:57.593209Z"
    }
   },
   "source": [
    "Calculating Expectation and Variance\n",
    "For a geometric distribution with parameter 'p', the expected value and variance are:\n",
    "$\\mathbb{E}[X] = \\frac{1}{p}$\n",
    "$\\textsf{Var}[X] = \\frac{1-p}{p^2}$\n",
    "Substituting $p = 1 - \\theta$, we get:\n",
    "$\\mathbb{E}[X_i] = \\frac{1}{1-\\theta}$\n",
    "$\\textsf{Var}[X_i] = \\frac{\\theta}{(1-\\theta)^2}$\n",
    "Therefore, the expected value and variance of $X_i$ are:\n",
    "$\\mathbb{E}[X_i] = \\boxed{\\frac{1}{1-\\theta}}$\n",
    "$\\textsf{Var}[X_i] = \\boxed{\\frac{\\theta}{(1-\\theta)^2}}$"
   ]
  },
  {
   "cell_type": "code",
   "execution_count": 352,
   "id": "1a670a8c",
   "metadata": {
    "ExecuteTime": {
     "end_time": "2024-03-24T21:12:10.707616Z",
     "start_time": "2024-03-24T21:12:10.699511Z"
    }
   },
   "outputs": [
    {
     "data": {
      "text/plain": [
       "array([20,  6, 11, ...,  2,  7, 14])"
      ]
     },
     "execution_count": 352,
     "metadata": {},
     "output_type": "execute_result"
    }
   ],
   "source": [
    "X1"
   ]
  },
  {
   "cell_type": "code",
   "execution_count": 349,
   "id": "da6ca52b",
   "metadata": {
    "ExecuteTime": {
     "end_time": "2024-03-24T19:49:55.333955Z",
     "start_time": "2024-03-24T19:49:55.326094Z"
    }
   },
   "outputs": [
    {
     "data": {
      "text/plain": [
       "-0.4811888211315857"
      ]
     },
     "execution_count": 349,
     "metadata": {},
     "output_type": "execute_result"
    }
   ],
   "source": [
    "0.8**10/ln(0.8)"
   ]
  },
  {
   "cell_type": "code",
   "execution_count": 269,
   "id": "daf5c316",
   "metadata": {
    "ExecuteTime": {
     "end_time": "2024-03-24T19:01:50.770053Z",
     "start_time": "2024-03-24T19:01:50.762714Z"
    }
   },
   "outputs": [
    {
     "data": {
      "text/plain": [
       "20.083126271546313"
      ]
     },
     "execution_count": 269,
     "metadata": {},
     "output_type": "execute_result"
    }
   ],
   "source": [
    "(1/ln(1/0.8))**2"
   ]
  },
  {
   "cell_type": "code",
   "execution_count": 256,
   "id": "79847387",
   "metadata": {
    "ExecuteTime": {
     "end_time": "2024-03-24T18:57:46.831132Z",
     "start_time": "2024-03-24T18:57:46.821544Z"
    }
   },
   "outputs": [
    {
     "data": {
      "text/plain": [
       "20.00000000000001"
      ]
     },
     "execution_count": 256,
     "metadata": {},
     "output_type": "execute_result"
    }
   ],
   "source": [
    "0.8/(1-0.8)**2"
   ]
  },
  {
   "cell_type": "code",
   "execution_count": 77,
   "id": "3605e6bd",
   "metadata": {
    "ExecuteTime": {
     "end_time": "2024-03-24T18:15:27.909702Z",
     "start_time": "2024-03-24T18:15:27.906488Z"
    }
   },
   "outputs": [],
   "source": [
    "import numpy as np\n",
    "from scipy.stats import geom\n",
    "import matplotlib.pyplot as plt\n"
   ]
  },
  {
   "cell_type": "code",
   "execution_count": 106,
   "id": "b9f22513",
   "metadata": {
    "ExecuteTime": {
     "end_time": "2024-03-24T18:32:04.717471Z",
     "start_time": "2024-03-24T18:32:04.711069Z"
    }
   },
   "outputs": [],
   "source": [
    "p = 0.1\n",
    "mean, var, skew, kurt = geom.stats(p, moments='mvsk')"
   ]
  },
  {
   "cell_type": "code",
   "execution_count": 108,
   "id": "382239ee",
   "metadata": {
    "ExecuteTime": {
     "end_time": "2024-03-24T18:32:05.464069Z",
     "start_time": "2024-03-24T18:32:05.260194Z"
    }
   },
   "outputs": [
    {
     "data": {
      "image/png": "[encoded data removed]",
      "text/plain": [
       "<Figure size 640x480 with 1 Axes>"
      ]
     },
     "metadata": {},
     "output_type": "display_data"
    }
   ],
   "source": [
    "fig, ax = plt.subplots(1, 1)\n",
    "x = np.arange(geom.ppf(0.01, p),\n",
    "              geom.ppf(0.99, p))\n",
    "ax.plot(x, geom.pmf(x, p), 'bo', ms=8, label='geom pmf')\n",
    "ax.vlines(x, 0, geom.pmf(x, p), colors='b', lw=5, alpha=0.5)\n",
    "rv = geom(p)\n",
    "ax.vlines(x, 0, rv.pmf(x), colors='k', linestyles='-', lw=1,\n",
    "        label='frozen pmf')\n",
    "ax.legend(loc='best', frameon=False)\n",
    "plt.show()"
   ]
  },
  {
   "cell_type": "code",
   "execution_count": null,
   "id": "67f2d4c7",
   "metadata": {},
   "outputs": [],
   "source": []
  }
 ],
 "metadata": {
  "kernelspec": {
   "display_name": "py310",
   "language": "python",
   "name": "py310"
  },
  "language_info": {
   "codemirror_mode": {
    "name": "ipython",
    "version": 3
   },
   "file_extension": ".py",
   "mimetype": "text/x-python",
   "name": "python",
   "nbconvert_exporter": "python",
   "pygments_lexer": "ipython3",
   "version": "3.10.11"
  }
 },
 "nbformat": 4,
 "nbformat_minor": 5
}
