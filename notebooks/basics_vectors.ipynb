{
 "cells": [
  {
   "cell_type": "code",
   "execution_count": 1,
   "id": "4ae09cd1",
   "metadata": {
    "ExecuteTime": {
     "end_time": "2024-01-23T09:30:44.993083Z",
     "start_time": "2024-01-23T09:30:44.862033Z"
    }
   },
   "outputs": [],
   "source": [
    "import numpy as np"
   ]
  },
  {
   "cell_type": "code",
   "execution_count": 25,
   "id": "ab75e747",
   "metadata": {
    "ExecuteTime": {
     "end_time": "2024-01-23T09:52:30.566362Z",
     "start_time": "2024-01-23T09:52:30.560933Z"
    }
   },
   "outputs": [],
   "source": [
    "a = np.array([5, 10])\n",
    "b = np.array([20, 25])"
   ]
  },
  {
   "cell_type": "code",
   "execution_count": 26,
   "id": "a1753e18",
   "metadata": {
    "ExecuteTime": {
     "end_time": "2024-01-23T09:52:30.863417Z",
     "start_time": "2024-01-23T09:52:30.855517Z"
    }
   },
   "outputs": [
    {
     "data": {
      "text/plain": [
       "array([100, 250])"
      ]
     },
     "execution_count": 26,
     "metadata": {},
     "output_type": "execute_result"
    }
   ],
   "source": [
    "a*b"
   ]
  },
  {
   "cell_type": "code",
   "execution_count": 27,
   "id": "b5b0a2a2",
   "metadata": {
    "ExecuteTime": {
     "end_time": "2024-01-23T09:52:31.991556Z",
     "start_time": "2024-01-23T09:52:31.983090Z"
    }
   },
   "outputs": [
    {
     "data": {
      "text/plain": [
       "350"
      ]
     },
     "execution_count": 27,
     "metadata": {},
     "output_type": "execute_result"
    }
   ],
   "source": [
    "np.sum(a*b)"
   ]
  },
  {
   "cell_type": "markdown",
   "id": "68e1d682",
   "metadata": {},
   "source": [
    "${\\displaystyle \\langle a,b\\rangle }$ - inner product of 2 vectors\n",
    "\n",
    "${\\displaystyle \\langle a,b\\rangle }=\\text{scalar}$\n",
    "\n",
    "\n",
    "${\\displaystyle \\left|\\langle \\mathbf {u} ,\\mathbf {v} \\rangle \\right|^{2}\\leq \\langle \\mathbf {u} ,\\mathbf {u} \\rangle \\cdot \\langle \\mathbf {v} ,\\mathbf {v} \\rangle ,}$"
   ]
  },
  {
   "cell_type": "markdown",
   "id": "7fa5a615",
   "metadata": {},
   "source": [
    "${\\displaystyle \\left|\\langle \\mathbf {u} ,\\mathbf {v} \\rangle \\right|^{2}\\leq \\langle \\mathbf {u} ,\\mathbf {u} \\rangle \\cdot \\langle \\mathbf {v} ,\\mathbf {v} \\rangle ,}$\n",
    "\n",
    "abs(scalar)$^{2}$ $\\leq$ scalar $\\cdot$ scalar"
   ]
  },
  {
   "cell_type": "code",
   "execution_count": 29,
   "id": "5e1f7fea",
   "metadata": {
    "ExecuteTime": {
     "end_time": "2024-01-23T09:52:49.135750Z",
     "start_time": "2024-01-23T09:52:49.127166Z"
    }
   },
   "outputs": [
    {
     "data": {
      "text/plain": [
       "122500"
      ]
     },
     "execution_count": 29,
     "metadata": {},
     "output_type": "execute_result"
    }
   ],
   "source": [
    "np.abs(np.sum(a*b))**2"
   ]
  },
  {
   "cell_type": "code",
   "execution_count": 32,
   "id": "c519dd2a",
   "metadata": {
    "ExecuteTime": {
     "end_time": "2024-01-23T09:54:15.146357Z",
     "start_time": "2024-01-23T09:54:15.137770Z"
    }
   },
   "outputs": [
    {
     "data": {
      "text/plain": [
       "128125"
      ]
     },
     "execution_count": 32,
     "metadata": {},
     "output_type": "execute_result"
    }
   ],
   "source": [
    "np.sum(a*a) * np.sum(b*b)"
   ]
  },
  {
   "cell_type": "code",
   "execution_count": 33,
   "id": "2c7d78d7",
   "metadata": {
    "ExecuteTime": {
     "end_time": "2024-01-23T09:56:02.415297Z",
     "start_time": "2024-01-23T09:56:02.406813Z"
    }
   },
   "outputs": [
    {
     "data": {
      "text/plain": [
       "True"
      ]
     },
     "execution_count": 33,
     "metadata": {},
     "output_type": "execute_result"
    }
   ],
   "source": [
    "np.abs(np.sum(a*b))**2 <= np.sum(a*a) * np.sum(b*b)"
   ]
  },
  {
   "cell_type": "markdown",
   "id": "f7d6e485",
   "metadata": {},
   "source": [
    "L2 norm\n",
    "\n",
    "${\\displaystyle \\|\\mathbf {u} \\|:={\\sqrt {\\langle \\mathbf {u} ,\\mathbf {u} \\rangle }},}$\n",
    "\n",
    "$\\|\\mathbf{u}\\|$ - represents the that is the norm on the vector"
   ]
  },
  {
   "cell_type": "code",
   "execution_count": 34,
   "id": "847e501c",
   "metadata": {
    "ExecuteTime": {
     "end_time": "2024-01-23T10:00:53.038030Z",
     "start_time": "2024-01-23T10:00:53.030363Z"
    }
   },
   "outputs": [
    {
     "data": {
      "text/plain": [
       "11.180339887498949"
      ]
     },
     "execution_count": 34,
     "metadata": {},
     "output_type": "execute_result"
    }
   ],
   "source": [
    "np.sqrt(np.sum(a*a))"
   ]
  },
  {
   "cell_type": "code",
   "execution_count": null,
   "id": "cda6614b",
   "metadata": {},
   "outputs": [],
   "source": [
    "The notation |⟨u, v⟩|^2 represents the square of the absolute value of this scalar quantity."
   ]
  },
  {
   "cell_type": "code",
   "execution_count": null,
   "id": "7ef59f7a",
   "metadata": {},
   "outputs": [],
   "source": []
  },
  {
   "cell_type": "code",
   "execution_count": 21,
   "id": "1075fa95",
   "metadata": {
    "ExecuteTime": {
     "end_time": "2024-01-23T09:44:48.242652Z",
     "start_time": "2024-01-23T09:44:48.234279Z"
    }
   },
   "outputs": [
    {
     "data": {
      "text/plain": [
       "0"
      ]
     },
     "execution_count": 21,
     "metadata": {},
     "output_type": "execute_result"
    }
   ],
   "source": [
    "a = np.array([0,1])\n",
    "b = np.array([1,0])\n",
    "np.sum(a*b)"
   ]
  },
  {
   "cell_type": "code",
   "execution_count": 24,
   "id": "8e82760f",
   "metadata": {
    "ExecuteTime": {
     "end_time": "2024-01-23T09:45:14.884024Z",
     "start_time": "2024-01-23T09:45:14.875631Z"
    }
   },
   "outputs": [
    {
     "data": {
      "text/plain": [
       "4"
      ]
     },
     "execution_count": 24,
     "metadata": {},
     "output_type": "execute_result"
    }
   ],
   "source": [
    "a=a+1\n",
    "b=b+1\n",
    "np.sum(a*b)"
   ]
  },
  {
   "cell_type": "code",
   "execution_count": 23,
   "id": "b374ebaf",
   "metadata": {
    "ExecuteTime": {
     "end_time": "2024-01-23T09:44:57.474153Z",
     "start_time": "2024-01-23T09:44:57.465694Z"
    }
   },
   "outputs": [
    {
     "data": {
      "text/plain": [
       "array([2, 1])"
      ]
     },
     "execution_count": 23,
     "metadata": {},
     "output_type": "execute_result"
    }
   ],
   "source": [
    "b+1"
   ]
  },
  {
   "cell_type": "code",
   "execution_count": null,
   "id": "b9d2fbf3",
   "metadata": {},
   "outputs": [],
   "source": []
  },
  {
   "cell_type": "code",
   "execution_count": 20,
   "id": "7617f74c",
   "metadata": {
    "ExecuteTime": {
     "end_time": "2024-01-23T09:38:05.417325Z",
     "start_time": "2024-01-23T09:38:05.254295Z"
    }
   },
   "outputs": [
    {
     "data": {
      "image/png": "[encoded data removed]",
      "text/plain": [
       "<Figure size 640x480 with 1 Axes>"
      ]
     },
     "metadata": {},
     "output_type": "display_data"
    }
   ],
   "source": [
    "import matplotlib.pyplot as plt\n",
    "from mpl_toolkits.mplot3d import Axes3D\n",
    "import numpy as np\n",
    "\n",
    "soa = np.array([[0, 0, 0, 1, 1, 1],\n",
    "                [0, 0, 0, 1, 4, 6]])\n",
    "\n",
    "X, Y, Z, U, V, W = zip(*soa)\n",
    "fig = plt.figure()\n",
    "ax = fig.add_subplot(111, projection='3d')\n",
    "ax.quiver(X, Y, Z, U, V, W)\n",
    "ax.set_xlim([0, 6])\n",
    "ax.set_ylim([0, 6])\n",
    "ax.set_zlim([0, 6])\n",
    "plt.show()"
   ]
  },
  {
   "cell_type": "code",
   "execution_count": 15,
   "id": "46d97ba4",
   "metadata": {
    "ExecuteTime": {
     "end_time": "2024-01-23T09:35:32.988076Z",
     "start_time": "2024-01-23T09:35:32.981374Z"
    }
   },
   "outputs": [
    {
     "data": {
      "text/plain": [
       "0.0"
      ]
     },
     "execution_count": 15,
     "metadata": {},
     "output_type": "execute_result"
    }
   ],
   "source": [
    "min(min(X), min(U))"
   ]
  },
  {
   "cell_type": "code",
   "execution_count": null,
   "id": "e9215430",
   "metadata": {},
   "outputs": [],
   "source": []
  }
 ],
 "metadata": {
  "kernelspec": {
   "display_name": "py310",
   "language": "python",
   "name": "py310"
  },
  "language_info": {
   "codemirror_mode": {
    "name": "ipython",
    "version": 3
   },
   "file_extension": ".py",
   "mimetype": "text/x-python",
   "name": "python",
   "nbconvert_exporter": "python",
   "pygments_lexer": "ipython3",
   "version": "3.10.11"
  }
 },
 "nbformat": 4,
 "nbformat_minor": 5
}
