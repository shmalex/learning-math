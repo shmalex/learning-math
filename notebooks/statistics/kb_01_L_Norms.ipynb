{
 "cells": [
  {
   "cell_type": "markdown",
   "id": "532f1f91",
   "metadata": {},
   "source": [
    "# L norms"
   ]
  },
  {
   "cell_type": "markdown",
   "id": "77828730",
   "metadata": {},
   "source": [
    "$L^1$ норма это по сумма модулей двух функций, или еще называют Manhatton Distance"
   ]
  },
  {
   "cell_type": "markdown",
   "id": "86a4b820",
   "metadata": {},
   "source": [
    "Короче, норма - это такая мат. концепция, оценка результата функций, (сравненеие их) в рамках области самих функуций.\n",
    "\n",
    "Мы можем сравнить две функции в их же домене.\n",
    "\n",
    "Есть традиционные нормы такие как \n",
    "- Manhatton norm\n",
    "- Euclidian norm\n",
    "- "
   ]
  },
  {
   "cell_type": "markdown",
   "id": "facd5305",
   "metadata": {},
   "source": [
    "$\\|f\\|_p=\\left(\\int_D|f(x)|^pdx\\right)^{1/p}\\,p=[1,2,..]$"
   ]
  },
  {
   "cell_type": "markdown",
   "id": "7f69f6ff",
   "metadata": {},
   "source": []
  },
  {
   "cell_type": "code",
   "execution_count": 2,
   "id": "c718a34e",
   "metadata": {
    "ExecuteTime": {
     "end_time": "2024-03-25T15:58:39.288460Z",
     "start_time": "2024-03-25T15:58:39.280631Z"
    }
   },
   "outputs": [
    {
     "name": "stdout",
     "output_type": "stream",
     "text": [
      "The L1 norm of the vector [ 3 -4  2 -1] is 10\n"
     ]
    }
   ],
   "source": [
    "import numpy as np\n",
    "\n",
    "# Define a vector\n",
    "vector = np.array([3, -4, 2, -1])\n",
    "\n",
    "# Calculate the L1 norm (Manhattan norm)\n",
    "l1_norm = np.sum(np.abs(vector))\n",
    "\n",
    "print(f\"The L1 norm of the vector {vector} is {l1_norm}\")"
   ]
  },
  {
   "cell_type": "markdown",
   "id": "211e78cc",
   "metadata": {},
   "source": []
  },
  {
   "cell_type": "markdown",
   "id": "0cc52bb6",
   "metadata": {},
   "source": [
    "## $L^2$ norm or Total Variation Norm"
   ]
  },
  {
   "cell_type": "code",
   "execution_count": 3,
   "id": "453ee0fe",
   "metadata": {
    "ExecuteTime": {
     "end_time": "2024-03-25T15:58:40.554183Z",
     "start_time": "2024-03-25T15:58:40.312254Z"
    }
   },
   "outputs": [
    {
     "name": "stdout",
     "output_type": "stream",
     "text": [
      "The L1 norm of the difference between the functions over [0, 1] is 0.16666666666666666\n"
     ]
    }
   ],
   "source": [
    "import numpy as np\n",
    "from scipy.integrate import quad\n",
    "# Define the two functions\n",
    "def f(x):    return x**2\n",
    "def g(x):    return x\n",
    "# Define the function that represents the absolute difference between f and g\n",
    "def abs_diff(x):   return np.abs(f(x) - g(x))\n",
    "\n",
    "# Calculate the L1 norm of the difference between f and g over the interval [0, 1]\n",
    "l1_norm, _ = quad(abs_diff, 0, 1)\n",
    "print(f\"The L1 norm of the difference between the functions over [0, 1] is {l1_norm}\")"
   ]
  },
  {
   "cell_type": "markdown",
   "id": "3945d16e",
   "metadata": {},
   "source": [
    "## $L^2$ norm"
   ]
  },
  {
   "cell_type": "code",
   "execution_count": 4,
   "id": "0e486c08",
   "metadata": {
    "ExecuteTime": {
     "end_time": "2024-03-25T15:58:45.399016Z",
     "start_time": "2024-03-25T15:58:45.391298Z"
    }
   },
   "outputs": [
    {
     "name": "stdout",
     "output_type": "stream",
     "text": [
      "The L2 norm of the difference between the functions over [0, 1] is 0.1826\n"
     ]
    }
   ],
   "source": [
    "# Define the squared difference between f and g\n",
    "def squared_diff(x): return (f(x) - g(x))**2\n",
    "\n",
    "# Numerically integrate the squared difference over the interval [0, 1]\n",
    "integral_value, error_estimate = quad(squared_diff, 0, 1)\n",
    "\n",
    "# Take the square root of the integral to get the L2 norm\n",
    "l2_norm = np.sqrt(integral_value)\n",
    "\n",
    "print(f\"The L2 norm of the difference between the functions over [0, 1] is {l2_norm:.4f}\")"
   ]
  },
  {
   "cell_type": "markdown",
   "id": "516ca08e",
   "metadata": {},
   "source": [
    "## $L^3$ norm"
   ]
  },
  {
   "cell_type": "code",
   "execution_count": 6,
   "id": "bcf6576d",
   "metadata": {
    "ExecuteTime": {
     "end_time": "2024-03-25T16:03:28.431749Z",
     "start_time": "2024-03-25T16:03:28.424938Z"
    }
   },
   "outputs": [
    {
     "name": "stdout",
     "output_type": "stream",
     "text": [
      "The L3 norm of the difference between the functions over [0, 1] is 0.1926\n"
     ]
    }
   ],
   "source": [
    "def cubed_diff(x):  return np.abs(f(x) - g(x))**3\n",
    "\n",
    "# Numerically integrate the cubed difference over the interval [0, 1]\n",
    "integral_value, error_estimate = quad(cubed_diff, 0, 1)\n",
    "\n",
    "# Take the cube root of the integral to get the L3 norm\n",
    "l3_norm = np.cbrt(integral_value)\n",
    "\n",
    "print(f\"The L3 norm of the difference between the functions over [0, 1] is {l3_norm:.4f}\")\n"
   ]
  },
  {
   "cell_type": "code",
   "execution_count": null,
   "id": "f3115abd",
   "metadata": {},
   "outputs": [],
   "source": []
  }
 ],
 "metadata": {
  "kernelspec": {
   "display_name": "py310",
   "language": "python",
   "name": "py310"
  },
  "language_info": {
   "codemirror_mode": {
    "name": "ipython",
    "version": 3
   },
   "file_extension": ".py",
   "mimetype": "text/x-python",
   "name": "python",
   "nbconvert_exporter": "python",
   "pygments_lexer": "ipython3",
   "version": "3.10.11"
  }
 },
 "nbformat": 4,
 "nbformat_minor": 5
}
