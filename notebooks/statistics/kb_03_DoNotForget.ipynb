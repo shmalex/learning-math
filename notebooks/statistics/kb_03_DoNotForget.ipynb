{
 "cells": [
  {
   "cell_type": "markdown",
   "id": "8c3c7d24",
   "metadata": {},
   "source": [
    "$$\\require{cancel}$$\n",
    "$$\\require{enclose}$$\n"
   ]
  },
  {
   "cell_type": "markdown",
   "id": "21852a15",
   "metadata": {},
   "source": [
    "$X_i\\stackrel{iid}\\sim\\mathcal{N}(\\mu_X,\\sigma_X^2)$\\\n",
    "$\\bar{X}_n\\sim\\mathcal{N}(\\mu_X, \\frac{\\sigma_X^2}{n})$"
   ]
  },
  {
   "cell_type": "markdown",
   "id": "76b5a296",
   "metadata": {},
   "source": [
    "## Asymptotic Variance"
   ]
  },
  {
   "cell_type": "markdown",
   "id": "0362299e",
   "metadata": {},
   "source": [
    "$\\sqrt{n}(\\hat\\theta-\\theta)\\xrightarrow[n\\to\\infty]{\\text{(D)}}\\mathcal{N}(0,V(\\hat\\theta))$"
   ]
  },
  {
   "cell_type": "markdown",
   "id": "9ce4e6d0",
   "metadata": {},
   "source": [
    "$\n",
    "\\begin{align}\n",
    "\\text{Var}(\\bar{X}_n)&=\\text{Var}(\\sum_{i=0}^nX_i)\\\\\n",
    "&=\\dfrac{\\text{Var}(X_1+\\dots+X_n)}{n^2}\\\\\n",
    "&=n\\dfrac{\\text{Var}(X_1)}{n^2}\\\\\n",
    "&=\\dfrac{\\text{Var}(X_1)}{n}\\\\\n",
    "&=\\dfrac{\\sigma_X^2}{n}\n",
    "\\end{align}$"
   ]
  },
  {
   "cell_type": "markdown",
   "id": "b0e4e61a",
   "metadata": {},
   "source": [
    "$Y_i\\stackrel{iid}\\sim\\mathcal{N}(\\mu_Y,\\sigma_Y^2)$\n",
    "\n",
    "X and Y are independent"
   ]
  },
  {
   "cell_type": "markdown",
   "id": "b9f38259",
   "metadata": {},
   "source": [
    "$\\text{Var}(X)=\\mathbb{E}[(X^2)]-[\\mathbb{E}(X)]^2$"
   ]
  },
  {
   "cell_type": "markdown",
   "id": "8277112d",
   "metadata": {},
   "source": [
    "$\\begin{align}\n",
    "\\text{Var}(X-Y)&=\\mathbb{E}[(X-Y)^2]-[\\mathbb{E}(X-Y)]^2\\\\\n",
    "&=\\mathbb{E}[X^2-2XY+Y^2]-[\\mathbb{E}(X-Y)]^2\\\\\n",
    "&=\\left(\\mathbb{E}[X^2]-\\mathbb{E}[2XY]+\\mathbb{E}[Y^2]\\right)-\\left(\\mathbb{E}[X-Y]\\right)^2\\\\\n",
    "&=\\left(\\mathbb{E}[X^2]-2\\mathbb{E}[XY]+\\mathbb{E}[Y^2]\\right)-\\left(\\mathbb{E}[X-Y]\\right)^2\\\\\n",
    "&=\\left(\\mathbb{E}[X^2]-2\\mathbb{E}[XY]+\\mathbb{E}[Y^2]\\right)-\\left(\\mathbb{E}[X]- \\mathbb{E}[Y]\\right)^2\\\\\n",
    "&=\\left(\\mathbb{E}[X^2]-2\\mathbb{E}[XY]+\\mathbb{E}[Y^2]\\right)-\\left(\\mathbb{E}[X]^2-2\\mathbb{E}[X]\\mathbb{E}[Y]+\\mathbb{E}[Y]^2\\right)\\\\\n",
    "&=\\mathbb{E}[X^2]-2\\mathbb{E}[XY]+\\mathbb{E}[Y^2]-\\mathbb{E}[X]^2+2\\mathbb{E}[X]\\mathbb{E}[Y]-\\mathbb{E}[Y]^2\\\\\n",
    "&=\\mathbb{E}[X^2]-\\mathbb{E}[X]^2-2\\mathbb{E}[XY]+\\mathbb{E}[Y^2]+2\\mathbb{E}[X]\\mathbb{E}[Y]-\\mathbb{E}[Y]^2\\\\\n",
    "&=\\mathbb{E}[X^2]-\\mathbb{E}[X]^2+\\mathbb{E}[Y^2]-\\mathbb{E}[Y]^2+2\\mathbb{E}[X]\\mathbb{E}[Y]-2\\mathbb{E}[XY]\\\\\n",
    "&=\\mathbb{E}[X^2]-\\mathbb{E}[X]^2+\\mathbb{E}[Y^2]-\\mathbb{E}[Y]^2+2(\\mathbb{E}[X]\\mathbb{E}[Y]-\\mathbb{E}[XY])\\\\\n",
    "&=\\text{Var}(X)+\\text{Var}(Y)+2(\\mathbb{E}[X]\\mathbb{E}[Y]-\\mathbb{E}[XY])\\\\&\\quad, \\text{X and Y are independent} \\mathbb{E}[X]\\mathbb{E}[Y]=\\mathbb{E}[XY]\\\\\n",
    "&=\\text{Var}(X)+\\text{Var}(Y)+2(0)\\\\\n",
    "&=\\text{Var}(X)+\\text{Var}(Y)\\\\\n",
    "\\end{align}$"
   ]
  },
  {
   "cell_type": "markdown",
   "id": "fcd07a52",
   "metadata": {
    "ExecuteTime": {
     "end_time": "2024-04-08T10:56:36.681078Z",
     "start_time": "2024-04-08T10:56:36.666682Z"
    }
   },
   "source": [
    "X and Y are **Dependent**\n",
    "\n",
    "$\\text{Var}(A-B)=\\text{Var}(A)+\\text{Var}(B)-2\\text{Cov}(A,B)$"
   ]
  },
  {
   "cell_type": "markdown",
   "id": "e1fbc7e5",
   "metadata": {},
   "source": [
    "$$\n",
    "\\begin{align}\n",
    "\\text{cov}(X,Y)&=\\mathbb{E}[(X-\\mathbb{E}[X])(Y-\\mathbb{E}[Y])]\\\\\n",
    "&=\\mathbb{E}\\left[XY-X\\mathbb{E}[Y]-\\mathbb{E}[X]Y+\\mathbb{E}[X]\\mathbb{E}[Y]\\right]\\\\\n",
    "&=\\mathbb{E}[XY]-\\mathbb{E}[X]\\mathbb{E}[Y]-\\cancel{\\mathbb{E}[X]\\mathbb{E}[Y]}+\\cancel{\\mathbb{E}[X]\\mathbb{E}[Y]}\\\\\n",
    "&=\\mathbb{E}[XY]-\\mathbb{E}[X]\\mathbb{E}[Y]\n",
    "\\end{align}\n",
    "$$"
   ]
  },
  {
   "cell_type": "markdown",
   "id": "2be1e2e4",
   "metadata": {},
   "source": [
    "**Сходимость по вероятности** (сходимость по мере) - это значит что предел при стремлении размера выборки к бесконечности, абсолютной разницы между оценкой и истенным значением , будет меньше какого либо числа, большего нуля, с вероятностью 1.\n",
    "$$\\lim_{n\\to\\infty}\\mathbb{P}(|\\hat\\theta_n-\\theta|<\\epsilon)=1,\\quad\\epsilon>0$$\n",
    "- Является более слабой сходимостью, чем A.S сходимость.\n",
    "- При преобразовании случ. вел. СПВ сохраняется. \n",
    "$$Y_n=g(X_n)$$\n",
    "$$X_n\\xrightarrow [n \\to \\infty ]{\\text{a.s.}}a\\implies Y_n\\xrightarrow [n \\to \\infty ]{\\text{a.s.}}g(a), \\text{a.s. - amost surely}$$\n"
   ]
  },
  {
   "cell_type": "markdown",
   "id": "da7a3700",
   "metadata": {},
   "source": [
    "**Сходимость почти наверное** - значит что наша оценка будет равна истинному параметру, с вероятностью 1. тоесть вароятность что они не будут равны - нулевая.\n",
    "\n",
    "$$\\mathbb{P}(\\lim_{n\\to\\infty}\\hat\\theta_n=\\theta)=1$$"
   ]
  },
  {
   "cell_type": "markdown",
   "id": "54321029",
   "metadata": {},
   "source": [
    "**Сходимость по распределению**, слабая сходимость, важная в стат. выводе. Этот тип сходимости описывает поведение последовательности случ. величин, когда их распределение приближается к распределению некоторой целевой случайной величины.\\\n",
    "\n",
    "**В отличии от сходимости по вероятности, и сходимости почти наверное, которые фокусируются на поведении самих ВЕЛИЧИН, С.п.р. касается только их распределения**\n",
    "\n",
    "\n",
    "$$X_n\\to^dX$$\n",
    "$$\\lim_{n\\to\\infty}F_{X_n}(t)=F_X(t)$$\n",
    "\n",
    "В контексте статистических оценок, сходимость по вероятности часто является достаточной, чтобы утверждать, что метод оценки является консистентным. Однако сходимость почти наверное говорит о более сильной форме консистентности, указывая на то, что оценка будет сходиться к истинному значению параметра не только с высокой вероятностью, но и практически всегда.\n",
    "\n",
    "Вопрос - а сходимость по распределению и по вероятности не одно и тоже? Если распределению имеют одну и туже форму, возможно и оценка моментам будет та-же?\n",
    "\n",
    "\n",
    "\n",
    "Сходимость по вероятности **более сильное условие**, чем сходимость по распределению. Если $X_n$ сходится к $X$ по вероятности, то $X_n$ также сходится к $X$ по распределению. Однако **обратное неверно** — из сходимости по распределению не следует сходимость по вероятности."
   ]
  },
  {
   "cell_type": "code",
   "execution_count": 1,
   "id": "aad59b7d",
   "metadata": {
    "ExecuteTime": {
     "end_time": "2024-04-10T20:16:38.552681Z",
     "start_time": "2024-04-10T20:16:37.770583Z"
    }
   },
   "outputs": [],
   "source": [
    "import numpy as np\n",
    "from matplotlib import pyplot as plt"
   ]
  },
  {
   "cell_type": "code",
   "execution_count": 12,
   "id": "7ae12de0",
   "metadata": {
    "ExecuteTime": {
     "end_time": "2024-04-10T20:19:10.737057Z",
     "start_time": "2024-04-10T20:19:10.603404Z"
    }
   },
   "outputs": [
    {
     "data": {
      "text/plain": [
       "<AxesSubplot:>"
      ]
     },
     "execution_count": 12,
     "metadata": {},
     "output_type": "execute_result"
    },
    {
     "data": {
      "image/png": "[encoded data removed]",
      "text/plain": [
       "<Figure size 432x288 with 1 Axes>"
      ]
     },
     "metadata": {
      "needs_background": "light"
     },
     "output_type": "display_data"
    }
   ],
   "source": [
    "plt.subplot(2,2, 1)"
   ]
  },
  {
   "cell_type": "code",
   "execution_count": 6,
   "id": "70c86831",
   "metadata": {
    "ExecuteTime": {
     "end_time": "2024-04-10T20:15:43.519903Z",
     "start_time": "2024-04-10T20:15:43.353353Z"
    },
    "scrolled": false
   },
   "outputs": [
    {
     "data": {
      "image/png": "[encoded data removed]",
      "text/plain": [
       "<Figure size 640x480 with 1 Axes>"
      ]
     },
     "metadata": {},
     "output_type": "display_data"
    }
   ],
   "source": [
    "data = [1/i for i in range(1,100)]\n",
    "plt.plot(data)\n",
    "plt.show()"
   ]
  },
  {
   "cell_type": "code",
   "execution_count": 16,
   "id": "3a204fb6",
   "metadata": {
    "ExecuteTime": {
     "end_time": "2024-04-10T20:20:28.762690Z",
     "start_time": "2024-04-10T20:20:28.621539Z"
    }
   },
   "outputs": [
    {
     "data": {
      "image/png": "[encoded data removed]",
      "text/plain": [
       "<Figure size 432x288 with 1 Axes>"
      ]
     },
     "metadata": {
      "needs_background": "light"
     },
     "output_type": "display_data"
    }
   ],
   "source": [
    "data = [1/i for i in range(10000,10100)]\n",
    "plt.plot(data)\n",
    "plt.show()"
   ]
  },
  {
   "cell_type": "code",
   "execution_count": 17,
   "id": "11af5353",
   "metadata": {
    "ExecuteTime": {
     "end_time": "2024-04-10T20:22:14.896595Z",
     "start_time": "2024-04-10T20:22:14.889451Z"
    }
   },
   "outputs": [
    {
     "data": {
      "text/plain": [
       "2187"
      ]
     },
     "execution_count": 17,
     "metadata": {},
     "output_type": "execute_result"
    }
   ],
   "source": [
    "3**7"
   ]
  },
  {
   "cell_type": "code",
   "execution_count": 18,
   "id": "7f7724c1",
   "metadata": {
    "ExecuteTime": {
     "end_time": "2024-04-10T20:28:35.775480Z",
     "start_time": "2024-04-10T20:28:35.768871Z"
    }
   },
   "outputs": [
    {
     "data": {
      "text/plain": [
       "128"
      ]
     },
     "execution_count": 18,
     "metadata": {},
     "output_type": "execute_result"
    }
   ],
   "source": [
    "2**7"
   ]
  },
  {
   "cell_type": "code",
   "execution_count": 13,
   "id": "bc623eeb",
   "metadata": {
    "ExecuteTime": {
     "end_time": "2024-04-10T20:19:57.411201Z",
     "start_time": "2024-04-10T20:19:57.271034Z"
    }
   },
   "outputs": [
    {
     "data": {
      "image/png": "[encoded data removed]",
      "text/plain": [
       "<Figure size 432x288 with 1 Axes>"
      ]
     },
     "metadata": {
      "needs_background": "light"
     },
     "output_type": "display_data"
    }
   ],
   "source": [
    "data = [1/i for i in range(20000,30000)]\n",
    "plt.plot(data)\n",
    "plt.show()"
   ]
  },
  {
   "cell_type": "code",
   "execution_count": null,
   "id": "5060cc17",
   "metadata": {},
   "outputs": [],
   "source": []
  },
  {
   "cell_type": "markdown",
   "id": "32aa9c03",
   "metadata": {},
   "source": [
    "# Links"
   ]
  },
  {
   "cell_type": "markdown",
   "id": "072f0982",
   "metadata": {},
   "source": [
    "https://stackoverflow.com/questions/71937936/strikethrough-within-equation-in-jupyter-markdown\n",
    "\n",
    "https://en.wikipedia.org/wiki/Covariance\n",
    "\n",
    "https://tvims.nsu.ru/chernova/tv/lec/node53.html\n",
    "\n",
    "https://phys.msu.ru/rus/lectures/%D0%A2%D0%B5%D0%BE%D1%80%D0%B8%D1%8F%20%D0%B2%D0%B5%D1%80%D0%BE%D1%8F%D1%82%D0%BD%D0%BE%D1%81%D1%82%D0%B8%20%D0%B8%20%D0%BC%D0%B0%D1%82%D0%B5%D0%BC%D0%B0%D1%82%D0%B8%D1%87%D0%B5%D1%81%D0%BA%D0%B0%D1%8F%20%D1%81%D1%82%D0%B0%D1%82%D0%B8%D1%81%D1%82%D0%B8%D0%BA%D0%B0/docs/%D0%A1%D0%B5%D1%80%D0%B4%D0%BE%D0%B1%D0%BE%D0%BB%D1%8C%D1%81%D0%BA%D0%B0%D1%8F_%D0%A7%D1%83%D0%BB%D0%B8%D1%87%D0%BA%D0%BE%D0%B2_%D0%9F%D0%BE%D1%81%D0%BE%D0%B1%D0%B8%D0%B5_%D0%A2%D0%B5%D0%BE%D1%80%D0%B2%D0%B5%D1%80.pdf"
   ]
  },
  {
   "cell_type": "code",
   "execution_count": null,
   "id": "57a1dd47",
   "metadata": {},
   "outputs": [],
   "source": []
  }
 ],
 "metadata": {
  "kernelspec": {
   "display_name": "Python 3",
   "language": "python",
   "name": "python3"
  },
  "language_info": {
   "codemirror_mode": {
    "name": "ipython",
    "version": 3
   },
   "file_extension": ".py",
   "mimetype": "text/x-python",
   "name": "python",
   "nbconvert_exporter": "python",
   "pygments_lexer": "ipython3",
   "version": "3.7.10"
  }
 },
 "nbformat": 4,
 "nbformat_minor": 5
}
