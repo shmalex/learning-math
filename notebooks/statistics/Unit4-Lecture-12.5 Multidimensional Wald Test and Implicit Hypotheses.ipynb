{
 "cells": [
  {
   "cell_type": "markdown",
   "id": "176cbf69",
   "metadata": {},
   "source": [
    "# Multidimensional Wald Test and Implicit Hypotheses"
   ]
  },
  {
   "cell_type": "markdown",
   "id": "57340289",
   "metadata": {},
   "source": [
    "At the end of this lecture, you will be able to do the following:\n",
    "\n",
    "- Derive **Wald's test** using the properties of multivariate Gaussians.\n",
    "\n",
    "- Perform Wald's test for a family of hypothesis testing questions.\n",
    "\n",
    "- Use an asymptotically normal estimator to test **implicit hypotheses** involving an unknown parameter.\n",
    "\n",
    "**Note**: While we only focus on the MLE in this lecture, the methods discussed in this lecture can be generalized to all asymptotically normal estimators, such as the sample mean.\n",
    "\n",
    "Also, as a motivating example for this, see one of the later recitations on the chi-squared goodness of fit test."
   ]
  },
  {
   "cell_type": "code",
   "execution_count": null,
   "id": "9f0df0ec",
   "metadata": {},
   "outputs": [],
   "source": []
  }
 ],
 "metadata": {
  "kernelspec": {
   "display_name": "py310",
   "language": "python",
   "name": "py310"
  },
  "language_info": {
   "codemirror_mode": {
    "name": "ipython",
    "version": 3
   },
   "file_extension": ".py",
   "mimetype": "text/x-python",
   "name": "python",
   "nbconvert_exporter": "python",
   "pygments_lexer": "ipython3",
   "version": "3.10.11"
  }
 },
 "nbformat": 4,
 "nbformat_minor": 5
}
