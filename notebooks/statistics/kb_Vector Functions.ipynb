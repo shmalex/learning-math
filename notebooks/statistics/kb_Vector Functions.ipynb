{
 "cells": [
  {
   "cell_type": "markdown",
   "id": "bd65c76d",
   "metadata": {},
   "source": [
    "$$\\require{cancel}$$"
   ]
  },
  {
   "cell_type": "code",
   "execution_count": 2,
   "id": "fdd582e6",
   "metadata": {
    "ExecuteTime": {
     "end_time": "2024-05-07T12:49:18.489469Z",
     "start_time": "2024-05-07T12:49:17.590448Z"
    }
   },
   "outputs": [],
   "source": [
    "from knowledge import show_graph, showg, load, save, append"
   ]
  },
  {
   "cell_type": "code",
   "execution_count": 3,
   "id": "5a4b9709",
   "metadata": {
    "ExecuteTime": {
     "end_time": "2024-05-07T12:49:45.482356Z",
     "start_time": "2024-05-07T12:49:45.477912Z"
    }
   },
   "outputs": [],
   "source": [
    "d = dict()"
   ]
  },
  {
   "cell_type": "markdown",
   "id": "77eb01f1",
   "metadata": {
    "ExecuteTime": {
     "end_time": "2024-05-07T12:48:07.085383Z",
     "start_time": "2024-05-07T12:48:07.081209Z"
    }
   },
   "source": [
    "# Вектор-функция"
   ]
  },
  {
   "cell_type": "code",
   "execution_count": 8,
   "id": "fa737777",
   "metadata": {
    "ExecuteTime": {
     "end_time": "2024-05-07T13:20:47.130794Z",
     "start_time": "2024-05-07T13:20:47.125357Z"
    }
   },
   "outputs": [],
   "source": [
    "d['Вектор-функция'] = ['Вектор',\"Скаляр\"]\n",
    "d['Производная'] = ['Вектор-функция']\n",
    "d['Вторая производная'] = ['Вектор-функция']"
   ]
  },
  {
   "cell_type": "markdown",
   "id": "0f6b72fd",
   "metadata": {},
   "source": [
    "Значение фукнции:\n",
    "- Векторы\n",
    "\n",
    "Аргументы функции:\n",
    "- скалярная перменная\n",
    "- m скалярных переменных\n",
    "- векторная перменная\n",
    "\n",
    "Вектор функции могут иметь предел\n",
    "\n",
    "## Производная вектор-функции по параметру\n",
    "\n",
    "производная вектора по параметру\n",
    "\n",
    "$\\displaystyle\\frac{\\partial}{\\partial t}r(t)=\\lim_{h\\to 0}$\n",
    "\n",
    "Мы применяем производную к каждому элементу вектора по отдельности."
   ]
  },
  {
   "cell_type": "markdown",
   "id": "4e7cf70a",
   "metadata": {},
   "source": [
    "Пример:\n",
    "\n",
    "Допустим у нас есть вектор-функция $r(t)=[t^2, 2t, 3]$\n",
    "\n",
    "чтобы найти ее производную, мы найдем производную каждого элемента вектора t:\n",
    "- производная первого элемента $\\dfrac{\\partial(t^2)}{\\partial t}=2t$\n",
    "- производная второго элемента $\\dfrac{\\partial (2t)}{\\partial t}=2$\n",
    "- производная третьего элемента $\\dfrac{\\partial (3)}{\\partial t}=0$\n",
    "\n",
    "Таким образом, производная вектор-фукнции $r(t)$ будет\n",
    "$r'(t)=[2t,2,0]$\n",
    "\n",
    "Где\n",
    "- $r'(t)$ - это вектров скорости объекта в момент t\n",
    "- первый элемент $2t$ - это скорость по оси x\n",
    "- второй элемент $2$ - это постоянная скорость объекта по оси y.\n",
    "- третий элемент $0$ - означает, что объект не движется по оси Z"
   ]
  },
  {
   "cell_type": "markdown",
   "id": "f07b2545",
   "metadata": {},
   "source": [
    "Пример:\n",
    "\n",
    "$p(t) = [sin(t), cos(t), t^3]$\n",
    "\n",
    "производная $sin(t)'=cos(t)$\n",
    "производная $cos(t)'=-sin(t)$\n",
    "производная $t^3'=3t^{2-1}'=3t^2$\n",
    "\n",
    "итого \n",
    "$p'(t)=[cos(t), -sin(t), 3t^2]$"
   ]
  },
  {
   "cell_type": "markdown",
   "id": "59955af5",
   "metadata": {},
   "source": [
    "# Двойная производная вектора: возвращение к теме"
   ]
  },
  {
   "cell_type": "markdown",
   "id": "b56aeea1",
   "metadata": {},
   "source": [
    "- двойная производная это вектор состоящий из второй производной каждого элемента испходного вектора-функции\n",
    "- чтобы найти двойную производную, нужно просто взять производную от производной вектор-функции\n",
    "\n",
    "Пример:\n",
    "Возьмем вектора $p(t) = [sin(t), cos(t), t^3]$, его первая производная равна $p'(t)=[cos(t), -sin(t), 3t^2]$. найдем вторую производную $p''(t)=$?\n",
    "\n",
    "- вторая производная $sin(t)''=cos(t)'=-sin(t)$\n",
    "- вторая производная $cos(t)''=-sin(t)'=-cos(t)$\n",
    "- вторая производная $(t^3)\"=(3t^{3-1})'=(3t^2)'=6t$\n",
    "\n",
    "Итого у нас получается $t=[-sin(t),-cos(t),6t]$\n",
    "\n",
    "какой физический смысла второй производной?\n",
    "С точки зрения физики, двойная производная это ускорение по осям"
   ]
  },
  {
   "cell_type": "markdown",
   "id": "3a18c8b1",
   "metadata": {},
   "source": []
  },
  {
   "cell_type": "markdown",
   "id": "b728b774",
   "metadata": {},
   "source": []
  },
  {
   "cell_type": "code",
   "execution_count": 7,
   "id": "9c6ee2da",
   "metadata": {
    "ExecuteTime": {
     "end_time": "2024-05-07T13:03:06.245787Z",
     "start_time": "2024-05-07T13:03:06.240806Z"
    }
   },
   "outputs": [],
   "source": [
    "save(d, 'kb_vf')"
   ]
  }
 ],
 "metadata": {
  "kernelspec": {
   "display_name": "Python 3",
   "language": "python",
   "name": "python3"
  },
  "language_info": {
   "codemirror_mode": {
    "name": "ipython",
    "version": 3
   },
   "file_extension": ".py",
   "mimetype": "text/x-python",
   "name": "python",
   "nbconvert_exporter": "python",
   "pygments_lexer": "ipython3",
   "version": "3.7.10"
  }
 },
 "nbformat": 4,
 "nbformat_minor": 5
}
