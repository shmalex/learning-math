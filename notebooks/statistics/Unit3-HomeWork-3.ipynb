{
 "cells": [
  {
   "cell_type": "markdown",
   "id": "143b658e",
   "metadata": {},
   "source": [
    "есть пара распределений $(P,Q)$ подсчитать KL дивергенцию"
   ]
  },
  {
   "cell_type": "markdown",
   "id": "4d450f66",
   "metadata": {
    "heading_collapsed": true
   },
   "source": [
    "# 1. (a)"
   ]
  },
  {
   "cell_type": "markdown",
   "id": "afc0d030",
   "metadata": {
    "hidden": true
   },
   "source": [
    "$\\mathbf{P}= \\mathcal{N}(a, \\sigma ^2), \\quad \\mathbf{Q}= \\mathcal{N}(b, \\sigma ^2), \\quad a, b \\in \\mathbb {R},\\,  \\sigma ^2 > 0.$\n",
    "\n",
    "$KL(P, Q)=\\int_E p(x) \\ln(\\frac{p(x)}{q(x)})$\n",
    "\n",
    "\n",
    "$p(x)=\\dfrac{1}{\\sqrt{2\\pi\\sigma^2}} e^{-\\dfrac{1}{2\\sigma^2}(x-a)^2}$\n",
    "\n",
    "$q(x)=\\dfrac{1}{\\sqrt{2\\pi\\sigma^2}} e^{-\\dfrac{1}{2\\sigma^2}(x-b)^2}$"
   ]
  },
  {
   "cell_type": "markdown",
   "id": "fff462ae",
   "metadata": {
    "hidden": true
   },
   "source": [
    "\n",
    "\n",
    "$=\\int_x \\dfrac{1}{\\sqrt{2\\pi\\sigma^2}} e^{-\\dfrac{1}{2\\sigma^2}(x-a)^2} \\ln\\left[\\frac{\\dfrac{1}{\\sqrt{2\\pi\\sigma^2}} e^{-\\dfrac{(x-a)^2}{2\\sigma^2}}}{\\dfrac{1}{\\sqrt{2\\pi\\sigma^2}} e^{-\\dfrac{(x-b)^2}{2\\sigma^2}}}\\right]$\n",
    "\n",
    "сокращаем $\\dfrac{1}{\\sqrt{2\\pi\\sigma^2}}$ и пользуемся свойством логарифма\n",
    "\n",
    "$=\\int_x \\dfrac{1}{\\sqrt{2\\pi\\sigma^2}} e^{-\\dfrac{(x-a)^2}{2\\sigma^2}} \\left[\\ln\\left(\n",
    "        e^{-\\dfrac{(x-a)^2}{2\\sigma^2}}\\right) -\\ln\\left(\n",
    "        { e^{-\\dfrac{(x-b)^2}{2\\sigma^2}}}\\right)\\right]$"
   ]
  },
  {
   "cell_type": "markdown",
   "id": "56602192",
   "metadata": {
    "hidden": true
   },
   "source": [
    "воспользуемся правилось логарифма $\\ln(b^x)=x\\cdot\\ln(b)$\n",
    "\n",
    "$=\\int_x \\dfrac{1}{\\sqrt{2\\pi\\sigma^2}} e^{-\\dfrac{(x-a)^2}{2\\sigma^2}} \n",
    "    \\left[(-\\dfrac{(x-a)^2}{2\\sigma^2})\\ln(e)\\\n",
    "    -(-\\dfrac{(x-b)^2}{2\\sigma^2})\\ln(e)\\right]$\n",
    "\n",
    "\n",
    "$\\ln(e) = 1$\n",
    "\n",
    "$=\\int_x \\dfrac{1}{\\sqrt{2\\pi\\sigma^2}} e^{-\\dfrac{(x-a)^2}{2\\sigma^2}} \n",
    "    \\left[(-\\dfrac{(x-a)^2}{2\\sigma^2})\\\n",
    "    -(-\\dfrac{(x-b)^2}{2\\sigma^2})\\right]$\\\n",
    "$=\\int_x \\dfrac{1}{\\sqrt{2\\pi\\sigma^2}} e^{-\\dfrac{(x-a)^2}{2\\sigma^2}} \n",
    "    \\left[\n",
    "    (-\\dfrac{(x-a)^2}{2\\sigma^2})+\\dfrac{(x-b)^2}{2\\sigma^2}\\right]$\\\n",
    "$=\\int_x \\dfrac{1}{\\sqrt{2\\pi\\sigma^2}} e^{-\\dfrac{(x-a)^2}{2\\sigma^2}} \n",
    "    \\left[\n",
    "    \\dfrac{(x-b)^2}{2\\sigma^2}-\\dfrac{(x-a)^2}{2\\sigma^2}\\right]$\n",
    "\n",
    "вынесем $\\dfrac{1}{2\\sigma^2}$ за скобки\n",
    "\n",
    "$KL(P, Q)=\\int_E f_P(x) \\ln(\\frac{f_P(x)}{f_Q(x)})$"
   ]
  },
  {
   "cell_type": "markdown",
   "id": "55f98d8d",
   "metadata": {
    "hidden": true
   },
   "source": [
    "\n",
    "$=\\int_x \\dfrac{1}{\\sqrt{2\\pi\\sigma^2}} e^{-\\dfrac{(x-a)^2}{2\\sigma^2}} \n",
    "    \\dfrac{1}{2\\sigma^2}\n",
    "        \\left[(x-b)^2-(x-a)^2\\right]$\n",
    "    \n",
    "возведем в квадра $(x-b)^2-(x-a)^2=$\n",
    "\n",
    "$=x^2-2bx+b^2-x^2+2xa-a^2$\\\n",
    "\n",
    "добавим \n",
    "\n",
    "$=-2bx+b^2+2xa-a^2+(\\color{red}{2ab}-\\color{blue}{2ab}+\\color{green}{a^2}-\\color{orange}{a^2})$\\"
   ]
  },
  {
   "cell_type": "markdown",
   "id": "a373763a",
   "metadata": {
    "hidden": true
   },
   "source": [
    "перераспределим так чтобы было $(a-b)^2$\n",
    "\n",
    "$=-2bx+2xa+\\color{red}{2ab}-\\color{orange}{2a^2}+\\color{green}{a^2}\\color{blue}{-2ab}+b^2$\n",
    "\n",
    "где $\\color{green}{a^2}\\color{blue}{-2ab}+b^2=\\color{darkgreen}{(a-b)^2}$\n",
    "\n",
    "$=-2bx+2xa+\\color{red}{2ab}-\\color{orange}{2a^2}+\\color{darkgreen}{(a-b)^2}$\n",
    "\n",
    "перестановка\n"
   ]
  },
  {
   "cell_type": "markdown",
   "id": "2320847a",
   "metadata": {
    "hidden": true
   },
   "source": [
    "$=2(xa-xb-\\color{orange}{aa}+\\color{red}{ab})+\\color{darkgreen}{(a-b)^2}$\n",
    "\n",
    "нам нужно получить выражение (a-b)(x-a) чтобы это сделать можно подчеркнуть каждую переменную пару\n",
    "\n",
    "$=2(\\underline{x}\\bar{a}-\\underline{x}b-\\color{orange}{\\underline{\\underline{a}}a}+\\color{red}{\\underline{\\underline{a}}b})+\\color{darkgreen}{(a-b)^2} <=>(\\bar{a}-b)(\\underline{x}-\\underline{\\underline{a}})$\n",
    "\n",
    "из этих отметок видно как можно заметить нужно нам выражение\n",
    "\n",
    "$=2(a-b)(x-a)+(a+b)^2$"
   ]
  },
  {
   "cell_type": "markdown",
   "id": "4e8a4b4c",
   "metadata": {
    "hidden": true
   },
   "source": [
    "$=\\int_x \\dfrac{1}{\\sqrt{2\\pi\\sigma^2}} e^{-\\dfrac{(x-a)^2}{2\\sigma^2}} \n",
    "    \\left[\n",
    "    \\dfrac{2(a-b)(x-a)+(a+b)^2}{2\\sigma^2}\\right]$"
   ]
  },
  {
   "cell_type": "markdown",
   "id": "fcc23050",
   "metadata": {
    "hidden": true
   },
   "source": [
    "что мы может сказать об этом выражение.\n",
    "\n",
    "по впервых - $\\int_x \\dfrac{1}{\\sqrt{2\\pi\\sigma^2}} e^{-\\dfrac{(x-a)^2}{2\\sigma^2}} $ есть ни что иное как pmf функции распределения $P$\n",
    "\n",
    "и мы умножаем pmf на функцию от переменно X на всем пространстве $E$ модели \n",
    "\n",
    "значи это есть ожидание от варажения в квадратных скобках"
   ]
  },
  {
   "cell_type": "markdown",
   "id": "b14a0633",
   "metadata": {
    "hidden": true
   },
   "source": [
    "$=\\int_x \\dfrac{1}{\\sqrt{2\\pi\\sigma^2}} e^{-\\dfrac{(x-a)^2}{2\\sigma^2}} \n",
    "    \\left[\n",
    "    \\dfrac{2(a-b)(x-a)+(a+b)^2}{2\\sigma^2}\\right]$\n",
    "$=\\mathbb{E}_P[\\dfrac{2(a-b)(x-a)+(a+b)^2}{2\\sigma^2}]$\n",
    "\n",
    "можно вынести $2\\sigma^2$ за пределы ожидания\n",
    "\n",
    "$=\\dfrac{1}{2\\sigma^2}\\mathbb{E}_P[2(a-b)(x-a)+(a+b)^2]$\n",
    "\n",
    "Давайте рассмотрим ожидание подробней $\\mathbb{E}_P[(X-a)] = 0$  потому что наша модель welldefined и данные соответсвуют модели $\\mathbf{P}= \\mathcal{N}(a, \\sigma ^2)$.\n",
    "\n",
    "\n",
    "$=\\dfrac{1}{2\\sigma^2}\\mathbb{E}_P[(a+b)^2]$\n",
    "\n",
    "Ожидание от константы есть константа\n",
    "$=\\dfrac{(a+b)^2}{2\\sigma^2}$"
   ]
  },
  {
   "cell_type": "markdown",
   "id": "5a340c53",
   "metadata": {
    "hidden": true
   },
   "source": []
  },
  {
   "cell_type": "markdown",
   "id": "3f80cd8d",
   "metadata": {
    "ExecuteTime": {
     "end_time": "2024-03-29T21:25:09.701441Z",
     "start_time": "2024-03-29T21:25:09.693635Z"
    },
    "hidden": true
   },
   "source": [
    "Другое решение\n",
    "\n",
    "$\\mathbf{P}= \\mathcal{N}(a, \\sigma ^2), \\quad \\mathbf{Q}= \\mathcal{N}(b, \\sigma ^2), \\quad a, b \\in \\mathbb {R},\\,  \\sigma ^2 > 0.$\\\n",
    "$\\quad=\\displaystyle  \\mathbb E_{\\mathbf{P}} \\left[ \\ln \\left( \\frac{\\frac{1}{\\sqrt{2 \\pi }} \\exp \\left( - \\frac{-(X - a)^2}{2\\sigma ^2} \\right)}{\\frac{1}{\\sqrt{2 \\pi }} \\exp \\left( - \\frac{(X - b)^2}{2\\sigma ^2} \\right)} \\right) \\right]$\\\n",
    "$\\quad=\\displaystyle  \\mathbb E_{\\mathbf{P}} \\left[ -\\frac{(X - a)^2}{2 \\sigma ^2} + \\frac{(X-b)^2}{2 \\sigma ^2}\\right]$\\\n",
    "$\\quad=\\displaystyle  \\frac{1}{2 \\sigma ^2} \\mathbb E_{\\mathbf{P}} \\left[ 2 (a - b)(X - a) + (a - b)^2 \\right]$\\\n",
    "$\\quad=\\displaystyle  \\frac{(a-b)^2}{2 \\sigma ^2},$\n",
    "\n",
    "поому что $\\mathbb E_{\\mathbf{P}}[(X - a)] = 0$"
   ]
  },
  {
   "cell_type": "markdown",
   "id": "8e43c331",
   "metadata": {
    "hidden": true
   },
   "source": []
  },
  {
   "cell_type": "markdown",
   "id": "b33db9b1",
   "metadata": {
    "heading_collapsed": true
   },
   "source": [
    "# 1. (B)"
   ]
  },
  {
   "cell_type": "markdown",
   "id": "dbe808ad",
   "metadata": {
    "hidden": true
   },
   "source": [
    "$\\mathbf{P}= \\textsf{Ber}(a), \\quad \\mathbf{Q}= \\textsf{Ber}(b), \\quad a, b \\in (0, 1)$"
   ]
  },
  {
   "cell_type": "markdown",
   "id": "35136a22",
   "metadata": {
    "hidden": true
   },
   "source": [
    "$$KL(P,Q)= \\sum_{\\color{red}{x\\in E}} f_P(x) \\ln\\left(\\frac{f_P(x)}{f_Q(x)}\\right)$$\n",
    "\n",
    "$p_P(x) = {{\\begin{cases}q=1-p&{\\text{if }}x=0\\\\p&{\\text{if }}x=1\\end{cases}}}$\\\n",
    "$q_P(x) = {{\\begin{cases}q=1-p&{\\text{if }}x=0\\\\p&{\\text{if }}x=1\\end{cases}}}$"
   ]
  },
  {
   "cell_type": "markdown",
   "id": "84e36017",
   "metadata": {
    "ExecuteTime": {
     "end_time": "2024-03-30T09:04:29.436892Z",
     "start_time": "2024-03-30T09:04:29.422794Z"
    },
    "hidden": true
   },
   "source": [
    "важно помнить что KL считаетс по простнству E а не по выборке!!!!\n",
    "\n",
    "для удобства можно обозначит $X\\sim P$, и $Y\\sim Q$ таким образом наши верогятности будут использовать конкретные распределение через переменные"
   ]
  },
  {
   "cell_type": "markdown",
   "id": "03ecca06",
   "metadata": {
    "hidden": true
   },
   "source": [
    "$\\displaystyle  \\mathbf{P}(X = 0) \\ln \\frac{\\mathbf{P}(X = 0)}{\\mathbf{P}(Y = 0)} + \\mathbf{P}(X = 1) \\ln \\frac{\\mathbf{P}(X = 1)}{\\mathbf{P}(Y=1)}$\\\n",
    "$\\displaystyle  a \\ln \\frac{a}{b} + (1-a) \\ln \\frac{1-a}{1-b}.$\n",
    "\n",
    "дальше уже не возможно упростить"
   ]
  },
  {
   "cell_type": "markdown",
   "id": "284b946b",
   "metadata": {
    "heading_collapsed": true
   },
   "source": [
    "# 1 (c)"
   ]
  },
  {
   "cell_type": "markdown",
   "id": "f8b1a04e",
   "metadata": {
    "hidden": true
   },
   "source": [
    "$P = \\textsf{Unif}([0, \\theta _1]), \\quad Q = \\textsf{Unif}([0, \\theta _2]), \\quad 0 < \\theta _1 < \\theta _2.$"
   ]
  },
  {
   "cell_type": "markdown",
   "id": "43f5353f",
   "metadata": {
    "hidden": true
   },
   "source": [
    "первым делом введем переменные\n",
    "\n",
    "$X\\sim\\textsf{Unif}([0, \\theta _1])$ и $Y\\sim\\textsf{Unif}([0, \\theta _2])$"
   ]
  },
  {
   "cell_type": "markdown",
   "id": "c1cdda1b",
   "metadata": {
    "hidden": true
   },
   "source": [
    "\n",
    "важно заметить что у нас явно указано что $\\theta_1 < \\theta_2$ это значит что есть подмножество  $S=\\theta_1<x<\\theta_2$ в которой $Y\\in S$ а вот $X\\notin S$ тоесть $S$ не поддерживает $P$ значит вероятность того что $P(X \\in S)=0$\n",
    "\n",
    "распишетм KL\n",
    "\n",
    "$KL(P, Q)=\\int_E p(x) \\ln(\\frac{p(x)}{q(x)})$\\\n",
    "$=\\frac{1}{\\theta_1}\\ln\\left(\\dfrac{\\frac{1}{\\theta_1}}{\\frac{1}{\\theta_2}}\\right)$\\\n",
    "$=\\frac{1}{\\theta_1}\\ln\\left(\\dfrac{\\theta_2}{\\theta_1}\\right)$\n",
    "\n",
    "вспомним что KL это срденее от логарифма по распределению $P$\n",
    "\n",
    "$KL(P,Q)=\\mathbb{E}\\left[\\ln(\\dfrac{\\theta_2}{\\theta_1})\\right] = \\int_{x\\in E}\\frac{1}{\\theta_1}\\ln(\\dfrac{\\theta_2}{\\theta_1})=$\n",
    "\n",
    "Мы знаем что x находиться в области от 0 до $\\theta_1$\\\n",
    "\n",
    "$\\int_{0}^{\\theta_1}\\frac{1}{\\theta_1}\\ln(\\dfrac{\\theta_2}{\\theta_1})=$\n",
    "А еще мы видем что интегрируемое выражение не зависит от $X$ это значит что сам интеграл будет равен - подинтегральному варажение умноженому на занимаемую области. (высота * ширена)\n",
    "\n",
    "\n",
    "$\\left(\\frac{1}{\\theta_1}\\ln(\\dfrac{\\theta_2}{\\theta_1})\\right)(\\theta_1-0)$\\\n",
    "$=\\left(\\frac{\\theta_1}{\\theta_1}\\ln(\\dfrac{\\theta_2}{\\theta_1})\\right)$\\\n",
    "$=\\ln(\\dfrac{\\theta_2}{\\theta_1})$"
   ]
  },
  {
   "cell_type": "markdown",
   "id": "98129901",
   "metadata": {
    "hidden": true
   },
   "source": [
    "Если мы попробуем подсчитать $KL(Q,P)$то у нас возникнит сложноть. потому что тогда интегрирование будет по области в которой вероятность $P(X=1/\\theta_1)=0$ и наш интеграл будет содержать деление на ноль,что дает нам положительную бесконечность. \n",
    "\n",
    "Так как у нас 2 области то у нас будет сумма интегралов.\n",
    "\n",
    "$\\displaystyle  \\int _{0}^{\\theta _1} \\frac{1}{\\theta _2}\\ln \\frac{1/\\theta _2}{1/\\theta _1} dx+ \\int _{\\theta _1}^{\\theta _2} \\frac{1}{\\theta _2}\\ln \\frac{1/\\theta _2}{0} dx$"
   ]
  },
  {
   "cell_type": "markdown",
   "id": "dfe9ee8c",
   "metadata": {},
   "source": [
    "# 4 (d)"
   ]
  },
  {
   "cell_type": "markdown",
   "id": "411bf83f",
   "metadata": {},
   "source": [
    "$P = \\textsf{Exp}(\\lambda ), \\quad Q = \\textsf{Exp}(\\mu ), \\quad \\lambda , \\mu \\in (0, \\infty ).$\n",
    "\n",
    "$KL(P,Q)=?$\n",
    "\n",
    "\n",
    "Сначало добавляем переменные \n",
    "\n",
    "$X\\sim P;Y\\sim Q$\n",
    "\n",
    "Вспомним pdf\n",
    "\n",
    "$f_\\lambda(x)=\\lambda e^{-x\\lambda}, x>0$\n",
    "\n",
    "Это непрерывная функция \n",
    "\n",
    "\n",
    "$\\int_{0}^\\infty \\lambda e^{-\\lambda x} \\ln(\\frac{\\lambda e^{-\\lambda x}}{\\mu e^{-\\mu x}})dx$\n",
    "\n",
    "расзложем логарифм на разницу\n",
    "\n",
    "$\\int_{0}^\\infty \\lambda e^{-\\lambda x} (\\ln(\\lambda e^{-\\lambda x}) - \\ln(\\mu e^{-\\mu x}))dx$\n",
    "\n",
    "упростим логарифмы\n",
    "\n",
    "$\\ln(\\lambda e^{-\\lambda x}) = \\ln(\\lambda) + \\ln(e^{-\\lambda x}) = \\ln(\\lambda)-\\lambda x$\\\n",
    "$\\ln(\\mu e^{-\\mu x}) = \\ln(\\mu) + \\ln(e^{-\\mu x}) = \\ln(\\mu)-\\mu x$\n",
    "\n",
    "\n",
    "это есть ожидание\n",
    "\n",
    "$\\mathbb{E}[\\ln(\\lambda)-\\lambda x - \\ln(\\mu) +\\mu x]$\n",
    "по свойству линейности вынесем  все что не зависит от x за ожидание\\\n",
    "$=\\mathbb{E}[-\\lambda x  +\\mu x]+\\ln(\\lambda)- \\ln(\\mu)$\n",
    "по свойству линейности вынесем  получим два слогаемых ожидания\\\n",
    "$=\\mathbb{E}[-\\lambda x] + \\mathbb{E}[\\mu x]+\\ln(\\lambda)- \\ln(\\mu)$\n",
    "\n",
    "мы знаем что $\\mathbb{E}[x]=\\frac{1}{\\lambda}$\n",
    "\n",
    "тогда $=-\\lambda\\frac{1}{\\lambda} + \\mu\\frac{1}{\\lambda}+\\ln(\\lambda)- \\ln(\\mu)$\\\n",
    "$=-1 + \\frac{\\mu}{\\lambda}+\\ln(\\lambda)- \\ln(\\mu)$\\\n",
    "$=\\ln(\\lambda)- \\ln(\\mu)+ \\frac{\\mu}{\\lambda}-1$\\\n",
    "$=\\ln(\\frac{\\lambda}{\\mu})+ \\frac{\\mu}{\\lambda}-1$"
   ]
  },
  {
   "cell_type": "markdown",
   "id": "9649554f",
   "metadata": {},
   "source": []
  },
  {
   "cell_type": "markdown",
   "id": "d445f51d",
   "metadata": {},
   "source": []
  },
  {
   "cell_type": "markdown",
   "id": "bd51dc08",
   "metadata": {},
   "source": []
  },
  {
   "cell_type": "markdown",
   "id": "a8ed741a",
   "metadata": {},
   "source": []
  }
 ],
 "metadata": {
  "kernelspec": {
   "display_name": "py310",
   "language": "python",
   "name": "py310"
  },
  "language_info": {
   "codemirror_mode": {
    "name": "ipython",
    "version": 3
   },
   "file_extension": ".py",
   "mimetype": "text/x-python",
   "name": "python",
   "nbconvert_exporter": "python",
   "pygments_lexer": "ipython3",
   "version": "3.10.11"
  }
 },
 "nbformat": 4,
 "nbformat_minor": 5
}
