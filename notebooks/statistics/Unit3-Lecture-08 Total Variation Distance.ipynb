{
 "cells": [
  {
   "cell_type": "markdown",
   "id": "5a525a56",
   "metadata": {},
   "source": []
  },
  {
   "cell_type": "markdown",
   "id": "a40e632d",
   "metadata": {},
   "source": [
    "## *Total Variation Distance, Kullback-Leibler (KL) divergence, and the Maximum Likelihood Principle*\\"
   ]
  },
  {
   "cell_type": "markdown",
   "id": "d2902843",
   "metadata": {},
   "source": [
    "At the end of this lecture, you will be able to do the following:\n",
    "\n",
    "- Describe properties of the total variation distance and Kullback-Leibler (KL) divergence .\n",
    "\n",
    "- Compute the total variation distance and KL divergence between two distributions.\n",
    "\n",
    "- Derive the maximum likelihood principle using the KL divergence.\n",
    "\n",
    "- Define and compute the likelihood of a discrete distribution.\n",
    "\n",
    "\n",
    "The Unit 3 slides below, which are for the next 5 lectures , are also available in the resource tab at the top of this course site."
   ]
  },
  {
   "cell_type": "markdown",
   "id": "06bbe860",
   "metadata": {},
   "source": []
  },
  {
   "cell_type": "markdown",
   "id": "d697bdd7",
   "metadata": {},
   "source": [
    "Define stat model $(E, \\{ \\mathbf{P}_\\theta \\} _{\\theta \\in \\mathbb {R}})$, $\\theta ^* \\in \\mathbb {R}$\n",
    "\n",
    "$\\theta^*$ - true parameter\n",
    "\n",
    "Мы не можем найти точное значние $\\theta$ потому что в любом случае будет какая-то разница. но мы можем найти такое $\\theta$ которая будет близка к $\\theta^*$. тогда и вероятности будут иметь \"разницу\"\n",
    "\n",
    "точно можно сказать что $\\theta^*$ хороший параметр если для все событий $A$ из пространства $E$, разница между вероятностью $\\mathbf{P}_\\theta$ и $\\mathbf{P}_\\theta^{*}$ будет минимальна.\n",
    "\n",
    "$$\\big |\\,\\mathbf{P}_{\\theta }(A)-\\mathbf{P}_{\\theta '}(A)\\,\\big |\\, \\text{is small for all} A \\subset E$$"
   ]
  },
  {
   "cell_type": "markdown",
   "id": "de653f82",
   "metadata": {},
   "source": [
    "##### Total Vrariation Distance"
   ]
  },
  {
   "cell_type": "markdown",
   "id": "f076feb4",
   "metadata": {},
   "source": [
    "Вот такое предление TVD\n",
    "\n",
    "$$\\text {TV}(\\mathbf{P}_{\\theta }, \\mathbf{P}_{\\theta '})={\\max _{A \\subset E}}\\, \\big |\\mathbf{P}_{\\theta }(A)-\\mathbf{P}_{\\theta '}(A)\\big |\\,$$\n",
    "\n",
    "мы тут понимаем что если max очень маленький то тогда и весь набор $A$ будет давать низкую разницу вероятностей."
   ]
  },
  {
   "cell_type": "markdown",
   "id": "946c712b",
   "metadata": {},
   "source": [
    "##### Проблема"
   ]
  },
  {
   "cell_type": "markdown",
   "id": "8acc20c5",
   "metadata": {},
   "source": [
    "чтобы найти максимум - значит мы пройти через все элементы поднабора $A$ из $E$, а в слечае если перпеменная непрерывная - то вообще писец!"
   ]
  },
  {
   "cell_type": "markdown",
   "id": "6d251daa",
   "metadata": {},
   "source": [
    "##### Решение"
   ]
  },
  {
   "cell_type": "markdown",
   "id": "2b2bb7c5",
   "metadata": {},
   "source": [
    "Если расммотреть TVD для дискретных величин, то можно определить TVD как \n",
    "\n",
    "Для диксретных переменных\n",
    "\n",
    "$$\\text {TV}(\\mathbf{P}, \\mathbf{Q}) = \\frac{1}{2} \\, \\sum _{x \\in E} \\big|p_{\\theta}(x) - p_{\\theta'}(x)\\big|.$$\n",
    "\n",
    "По итогу мы значительно снижаем свою проблему - во прервых мы можем рассматривать теперь выборки из $E$ и считать TVD.\n",
    "\n",
    "Для непрерывных:\n",
    "\n",
    "$$\\text {TV}(\\mathbf{P}, \\mathbf{Q}) = \\frac{1}{2} \\, {\\color{blue}{\\int }} _{x \\in E} \\big|p_\\theta(x) - p_{\\theta'}(x)\\big|~ \\text {d}x.$$"
   ]
  },
  {
   "cell_type": "markdown",
   "id": "74f2441d",
   "metadata": {},
   "source": [
    "вообще TV(P,Q) это L1 норма между двумя функциями\n",
    "[тут детали](3_008.1_LNorms.ipynb)"
   ]
  },
  {
   "cell_type": "markdown",
   "id": "71ac3bac",
   "metadata": {},
   "source": [
    "##### ${\\color{darkred}{\\text{Вопрос о сравнении}}}$"
   ]
  },
  {
   "cell_type": "markdown",
   "id": "1bde8c26",
   "metadata": {},
   "source": [
    "короче вопроc в том что хер мы что сможем полезного получить с этим ТВД. потому что \n",
    "- веротности от [0..1] соотв ТВД ораничен 0.5 \n",
    "- как сравнить дискретную (бернули) и непрерывную (normal) ?никак, потому что вероятность непрерывного значния в точке равно нулю!"
   ]
  },
  {
   "cell_type": "markdown",
   "id": "6250dada",
   "metadata": {},
   "source": [
    "### Свойства TVD"
   ]
  },
  {
   "cell_type": "markdown",
   "id": "da3f815b",
   "metadata": {},
   "source": [
    "1) Симметричность\\\n",
    "что значить что \n",
    "\n",
    "$$\\text {TV}(\\mathbf{P}_{\\theta }, \\mathbf{P}_{\\theta '})=\\text {TV}(\\mathbf{P}_{\\theta '}, \\mathbf{P}_{\\theta})\\,$$\n",
    "\n",
    "2) Положительное\\\n",
    "ну тут понятно - мы берем модуль разницы\n",
    "\n",
    "3) Определенность\\\n",
    "Если $\\text {TV}(\\mathbf{P}_{\\theta }, \\mathbf{P}_{\\theta '})=0$ значит параметры равны\n",
    "\n",
    "4) Треугольное неравенство\\\n",
    "как бы длинна одной стороны которче чем сумма двух других сторон, из одно и того же теугольника\\\n",
    "$\\|a\\pm b\\|\\le\\|a\\|+\\|b\\|$ норма суммы вектором меньше чем сумма норма этих векторов\n",
    "соотв\\\n",
    "$\\text {TV}(\\mathbf{P}_{\\theta }, \\mathbf{P}_{\\theta '})\\leq \\text {TV}(\\mathbf{P}_{\\theta }, \\mathbf{P}_{\\theta ''})+\\text {TV}(\\mathbf{P}_{\\theta ''}, \\mathbf{P}_{\\theta '})\\,$\n",
    "5) верхняя граница\\\n",
    "$\\text {TV}(\\mathbf{P}_{\\theta }, \\mathbf{P}_{\\theta '})\\le1$"
   ]
  },
  {
   "cell_type": "markdown",
   "id": "4d1a7ab9",
   "metadata": {},
   "source": [
    "Мысль в том что наш kiss example хорошо работает, мы оцениваем по простой оценке."
   ]
  },
  {
   "cell_type": "markdown",
   "id": "7aff45b6",
   "metadata": {},
   "source": [
    "#### примеры 8.9\n",
    "ok"
   ]
  },
  {
   "cell_type": "markdown",
   "id": "b05086e5",
   "metadata": {},
   "source": [
    "#### Некоторые определения"
   ]
  },
  {
   "cell_type": "markdown",
   "id": "11a05ac8",
   "metadata": {},
   "source": [
    "**Support of Random Variable** - набор всех значние которе может принимать $X$\n",
    "**Disjoin Support** - если две r.v. принимают значния которые не прересекаются\n",
    "\n",
    "К примеру $\\text{bern}(p)$ и $\\text{bern}(p)+a$\n",
    "\n",
    "проблема в том что для disjoin TVD = 1 и даже если наши вероятности чуть чуть чуть не воспрадают - то всеравно будет 1.\\\n",
    "Даже если у нас будет бесконечное число данных. изза того что деискретные вероятности не совпадают, то TVD =1\n",
    "\n",
    "\n",
    "......................"
   ]
  },
  {
   "cell_type": "markdown",
   "id": "4b54e97a",
   "metadata": {},
   "source": [
    "And that's actually the principle behind pretty much every statistical method that we're going to talk about.\n",
    "\n",
    "If you have a function that is minimized at the parameter you're looking for, try to estimate that function, and minimize the estimator instead."
   ]
  },
  {
   "cell_type": "markdown",
   "id": "24c16417",
   "metadata": {},
   "source": [
    "## Kullback-Leibler (KL) divergence a.k.a relative entropy a.k.a  / $L^1$ norm\n",
    "### Relative Entropy  - RE"
   ]
  },
  {
   "cell_type": "markdown",
   "id": "526a6029",
   "metadata": {},
   "source": [
    "$$\\text {KL}(\\mathbf{P}, \\mathbf{Q}) = \\sum _{x \\in E} p(x) \\ln \\left( \\frac{p(x)}{q(x)} \\right),\\text{\n",
    "where the sum is only over the support of } P$$.\n",
    "\n",
    "$$\\text {KL}(\\mathbf{P}, \\mathbf{Q}) = {\\color{blue}{\\int }} _{x \\in E} p(x) \\ln \\left( \\frac{p(x)}{q(x)} \\right) dx,$$"
   ]
  },
  {
   "cell_type": "markdown",
   "id": "12f43502",
   "metadata": {},
   "source": [
    "KL будет работать только \"где суммирование проводится только по носителю распределения 𝑃\". В общем идея в том что если вероятность $p(x)$=0 тогда у нас будет логарифм от нуля - а он не определен, и нас будут проблемы. также нет смысла что-то суммировать если вероятность этого будет ноль!\n",
    "\n",
    "\n",
    "$\\text{KL}(\\mathbf{P}, \\mathbf{Q}) \\neq \\text{KL}(\\mathbf{Q}, \\mathbf{P})$\n",
    "\n",
    "\n",
    "\n"
   ]
  },
  {
   "cell_type": "markdown",
   "id": "bc04d97f",
   "metadata": {},
   "source": [
    "### Свойства relative entropy  / $L^1$ norm"
   ]
  },
  {
   "cell_type": "markdown",
   "id": "9294016c",
   "metadata": {},
   "source": [
    "1) не симметрично!\\\n",
    "$\\text {KL}(\\mathbf{P}, \\mathbf{Q})\\ne\\text {KL}(\\mathbf{Q}, \\mathbf{P})$\n",
    "2) Non Negative\\\n",
    "$\\text {KL}(\\mathbf{P}, \\mathbf{Q})\\ge0$ для докозательства мы используем знание того что log - вогнутая функция, и тогда мы используя Jensen's Inequality может сказать что $\\mathbb{E}[\\log(X)]\\le\\log(\\mathbb{E}[X])$\n",
    "[видео](https://www.youtube.com/watch?v=GDJFLfmyb20) на самом деле в интернете доказывают это свойство через неравенство Гиббса.\n",
    "мы может это решить след убразом \\\n",
    "мы знаем формулу KL для непрерывныого E\\\n",
    "$$\\text {KL}(\\mathbf{P}, \\mathbf{Q}) = {\\int } _{E}f \\ln \\left( \\frac{f}{f'} \\right) dx,$$\n",
    "возмем отризацие KL $-\\text{KL}=-\\int_E$\n",
    "$$-\\text {KL}(\\mathbf{P}, \\mathbf{Q}) =- {\\int } _{E}f \\ln \\left( \\frac{f}{f'} \\right) dx$$\n",
    "это минус в правой части уйдет в логарифм, за счет того что мы поменяем делимое и делитель местами\\\n",
    "$$-\\text {KL}(\\mathbf{P}, \\mathbf{Q}) = {\\int } _{E}f \\ln \\left( \\frac{f'}{f} \\right) dx$$\n",
    "рассмотрим полученное выражение как обычную pdf. значит мы берем среднее от оцениваемого события $\\log(\\frac{f'}{f})$ и оно будет меньше логарифма от среднего (Jansen's inequality)\\\n",
    "$$ {\\int } _{E}f \\ln \\left( \\frac{f'}{f} \\right) =\\mathbb{E}_\\theta \\left[\\ln \\left( \\frac{f'}{f} \\right)\\right]\\le\\ln \\left( \\mathbb{E}_\\theta\\left[\\frac{f'}{f}\\right] \\right) $$\n",
    "\n",
    "$$\\ln \\left( \\mathbb{E}_\\theta\\left[\\frac{f'}{f}\\right] \\right)\\equiv\\log\\left(\\int_E f * \\frac{f'}{f}\\right)$$\n",
    "соотв мы рассмотрим этот log ожидания и в процессе - f и 1/f сократиться и в итоге получиться просто интеграял от f'.\n",
    "$$=\\log\\int_E f'=\\log(1)=0$$\n",
    "интеграл от f' равен 1 - это как просто сумма вероятностей по всему пространству $E$\\\n",
    "получаетс что наше отрицательное оджидание от $\\log(\\frac{f'}{f})$ будет меньше 0. а значит положительное KL больше либо равно 0\n",
    "$$\\mathbb{E}_\\theta \\left[\\ln \\left( \\frac{f'}{f} \\right)\\right]\\leqslant0$$ $$\\Rightarrow-\\text{KL}\\leqslant0$$ $$\\Rightarrow \\text{KL}\\geqslant0$$\n",
    "\n",
    "3) Определенность\\\n",
    "$\\text {KL}(\\mathbf{P}, \\mathbf{Q})=0$ Тогда $\\mathbf{P}=\\mathbf{Q}$\n",
    "4) Не удовлетворяет правилу треугольного неравенства\\\n",
    "$\\text {KL}(\\mathbf{P}, \\mathbf{Q})\\nleq\\text {KL}(\\mathbf{Q}, \\mathbf{A})+\\text {KL}(\\mathbf{A}, \\mathbf{Q})$\n",
    "\n",
    "\n",
    "**KL - ЭТО НЕ РАССТОЯНИЕ!** но это нам и не нужно, все что нам нужно так это то чтобы KL \"касался координатной оси X когда $\\theta=\\theta^*$\""
   ]
  },
  {
   "cell_type": "markdown",
   "id": "04d90716",
   "metadata": {},
   "source": [
    "#### интересные факты про KL  / $L^1$ norm"
   ]
  },
  {
   "cell_type": "markdown",
   "id": "e9c7f243",
   "metadata": {},
   "source": [
    "- The KL divergence  can be written as an expectation with respect to the distribution .\\\n",
    "\\\n",
    "из равненеия выше, мы видим что \n",
    "$$\\text {KL}(P_{\\theta ^*}, P_{\\theta }) = \\displaystyle \\sum _{x \\in E} p_{\\theta ^*}(x) \\ln \\left(\\frac{p_{\\theta ^*}(x)}{p_{\\theta }(x)}\\right) = \\mathbb {E}_{\\theta ^*}\\left[\\ln \\left(\\frac{p_{\\theta ^*}(X)}{p_{\\theta }(X)}\\right)\\right]$$ \\\n",
    "то есть это и есть ождание по отношению к $\\theta ^*$\\\n",
    "Notation: Here we use the notation $\\mathbb {E}_{\\theta ^*}$ to denote the expectation with respect to the distribution $P_{\\theta ^*}$.\n",
    "- In general, it is easier to build an estimator for the KL divergence than it is to build an estimator for the total variation distance.\\\n",
    "\\\n",
    "The total variation distance is not an expectation with respect to either of the probability measures. Therefore there is no natural way to estimate it without requiring an estimate of the true parameter $\\theta ^*$. The KL divergence, by contrast, is an expectation of some function with respect to one of the probability measures. This means that it can be estimated naturally by replacing the expectation with a sample average. Note that this application of the law of large numbers does not require knowledge of the true parameter value, only a random sample generated from the true distribution."
   ]
  },
  {
   "cell_type": "markdown",
   "id": "031bb791",
   "metadata": {},
   "source": [
    "### Оценка KL / relative entropy / $L^1$ norm"
   ]
  },
  {
   "cell_type": "markdown",
   "id": "856bb7ca",
   "metadata": {},
   "source": [
    "Начальный оргумент состоит в том что $\\theta$ это переменная, а вот $\\theta^*$ - фиксированная точка/константа. мы не знает $\\theta^*$\n",
    "\n",
    "так как KL не симметрична, мы в итоге выбираем работать с $\\text {KL}(\\theta^*, \\theta)$ и никак иначе\n",
    "\n",
    "напомним себе что если X это r.v. с pmf $p(x)$ тогда $\\mathbb{E}[X]=\\sum _{x \\in E} xp(x)$"
   ]
  },
  {
   "cell_type": "markdown",
   "id": "2166f870",
   "metadata": {},
   "source": [
    "$$\\text{KL}(\\mathbb{P}_{\\theta^*},\\mathbb{P}_\\theta)= \\sum _{x \\in E} p_{\\theta^*}(x) \\log\\left[\\frac{p_{\\theta^*}(x)}{p_{\\theta^*}(x)}\\right]\\\\\n",
    "=\\mathbb{E}_{\\theta^*}\\log\\left[\\frac{p_{\\theta^*}(x)}{p_{\\theta^*}(x)}\\right]\\,\\text{by linearity of expectation}\\\\\n",
    "=\\mathbb{E}_{\\theta^*}\\left[\\log(p_{\\theta^*}(x)) - \\log(p_{\\theta}(x))\\right]\\\\\n",
    "=\\mathbb{E}_{\\theta^*}\\left[\\log(p_{\\theta^*}(x))\\right] - \\mathbb{E}_{\\theta^*}\\left[\\log(p_{\\theta}(x))\\right]\n",
    "$$"
   ]
  },
  {
   "cell_type": "markdown",
   "id": "d915ea9f",
   "metadata": {},
   "source": [
    "$\\mathbb{E}_{\\theta^*}\\left[\\log(p_{\\theta^*}(x))\\right]$\\\n",
    "Заметим что первая часть это ожидание зависит от $\\theta^*$ т.е. от константы. \\\n",
    "А если мы хотим минимизировать функцию при это результат функции смещается на константу. то при минимизации нам это смещение не важно. мы может его потом учесть, после того как найдем минимум. отсюда сдел. что можно просто убрать эту константу.\n",
    "\n",
    "Тогда у нас получается \n",
    "$$\\text{KL}(\\mathbb{P}_{\\theta^*},\\mathbb{P}_\\theta)= \\text{const}-$\\mathbb{E}_{\\theta^*}\\left[\\log(p_{\\theta}(x))\\right]$$\n"
   ]
  },
  {
   "cell_type": "markdown",
   "id": "0230c013",
   "metadata": {},
   "source": [
    "Вспомним что если переменная рандомная то и функция от нее будет рандомной переменной. $X$ r.v. $h(X)$-r.v.\n",
    "\n",
    "значит мы можем применить LLN который говорит нам что срееднее значение большой выборки сойдется к истенной средней этой функции\n",
    "\n",
    "$Y_n\\,\\xrightarrow [n \\to \\infty ]{\\text{a.s.}/\\mathbb{P}} \\mathbb{E}[Y], \\text{ie} \n",
    "\\,\\,\\,\\, \\frac{1}{n}\\sum _{x=1}^n h(x_i)\\,\\xrightarrow [n \\to \\infty ]{\\text{a.s.}/\\mathbb{P}} \\mathbb{E}[h(x)]$\n",
    "\n",
    "также чисто по поределение $\\mathbb{E}$ можно заменить $\\mathbb{E}_{\\theta^*}\\left[\\log(p_{\\theta}(x))\\right]$ на $\\frac{1}{n}\\sum _{i=1}^n\\log(p_\\theta(x))$\n",
    "\n",
    "У нас есть данные, у нас есть $X_i$, есть наблюдение из $\\theta^*$ и может высчитать их среднее\n",
    "\n",
    "В соотв с этим заменим \n",
    "$\\mathbb{E}_{\\theta^*}\\left[\\log(p_\\theta(x))\\right]$ на  $\\frac{1}{n}\\sum _{i=1}^n\\log(p_\\theta(x))$\n",
    "\n",
    "Итого у нас получается что \n",
    "$$\\hat{\\text{KL}}(\\mathbb{P}_{\\theta^*},\\mathbb{P}_\\theta)= \\text{const}-$\\frac{1}{n}\\sum _{i=1}^n\\log(p_\\theta(x))$$\n"
   ]
  },
  {
   "cell_type": "markdown",
   "id": "66cecc6c",
   "metadata": {},
   "source": [
    "### Примеры"
   ]
  },
  {
   "cell_type": "markdown",
   "id": "24d8d4d8",
   "metadata": {},
   "source": [
    "#### 1 Finding a Minimizer of KL Divergence"
   ]
  },
  {
   "cell_type": "markdown",
   "id": "2c8a73ac",
   "metadata": {},
   "source": [
    "\n",
    "мы хотим минимизировать $KL$ между $\\mathbb{P}_{\\theta^*}$ и $\\mathbb{P}_\\theta$,\n",
    "\n",
    "формально мы хотим посчитать это \n",
    "$$\\min _{\\theta \\in \\mathbb {R}} \\text {KL}(P_{\\theta ^*}, P_{\\theta })$$\n",
    "\n",
    "Но на самом деле нас не так интересует чему именно равен этот минимум. Мы хотим знать значние $\\theta$ которое минимизирует $KL$. \n",
    "Тогда мы назовем $\\theta$ минимайзер.\n",
    "\n",
    "Давайте предположим что существет уникальный минимайзер для проблемы оптимизации выше. другими словами - \n",
    "если существует $m$ который равен минимуму KL, значит существуется одна точка $\\theta_\\min$ в которой\n",
    "$$m = \\text {KL}(P_{\\theta ^*}, P_{\\theta _{\\min } }).$$\n",
    "\n",
    "вопрос - к чему тогда будет стремиться $\\theta_\\min$?\n",
    "\n",
    "Овтвет - понятно что к $\\theta^*$. из свойств KL мы знаем что она обладает свойством **\"Определенности\"** что значит что если $\\text {KL}(P_{\\theta ^*}, P_{\\theta _{\\min } })=0$ Тогда $P_{\\theta ^*}= P_{\\theta _{\\min } }$ тогда $\\theta ^*=\\theta _{\\min }$\n"
   ]
  },
  {
   "cell_type": "markdown",
   "id": "b3bc3f83",
   "metadata": {},
   "source": [
    "#### 2 Can we Minimize KL Divergence Directly?"
   ]
  },
  {
   "cell_type": "markdown",
   "id": "23bfa86e",
   "metadata": {},
   "source": [
    "допусти у нас есть данные $X_1,\\dots,X_2$ iid. мы их используем для создания оценщика $\\hat\\theta_n$\n",
    "\n",
    "Вопросы - можно ли подсчтать $\\hat{\\text{KL}}(\\mathbb{P}_{\\hat\\theta_n},\\mathbb{P}_\\frac{1}{2})$ без того что мы знаемт $\\theta^*$?\n",
    "\n",
    "Ответ - Да можем.  у нас есть все данные для произведения подскчетов. формально  - мы может подсчитать KL только если мы знаем P и Q. и наш оценщик $\\hat\\theta_n$ не знависит от $\\theta^*$.\n",
    "\n",
    "\n",
    "Вопрос- можно ли подсчтать $\\hat{\\text{KL}}(\\mathbb{P}_{\\theta^*},\\mathbb{P}_\\frac{1}{2})$ ?\n",
    "\n",
    "Ответ - нет потому что нам не известно распределение $\\mathbb{P}_{\\theta^*}$ и не важно сколько данных мы соберем"
   ]
  },
  {
   "cell_type": "markdown",
   "id": "6ee0f4cb",
   "metadata": {},
   "source": [
    "#### 3 Finding the Minimizer for an Approximation of KL Divergence"
   ]
  },
  {
   "cell_type": "code",
   "execution_count": null,
   "id": "a829da12",
   "metadata": {},
   "outputs": [],
   "source": []
  },
  {
   "cell_type": "markdown",
   "id": "18c7a721",
   "metadata": {
    "heading_collapsed": true
   },
   "source": [
    "### Maximum Likelihood"
   ]
  },
  {
   "cell_type": "markdown",
   "id": "42b4bf50",
   "metadata": {
    "hidden": true
   },
   "source": [
    "$$\\hat{\\text{KL}}(\\mathbb{P}_{\\theta^*},\\mathbb{P}_\\theta)= \\text{constant}\\, - \\, \\frac{1}{n}\\sum _{i=1}^n\\log(p_\\theta(x))$$"
   ]
  },
  {
   "cell_type": "markdown",
   "id": "92277330",
   "metadata": {
    "hidden": true
   },
   "source": [
    "_заметка $\\Leftrightarrow$ значит что это таже проблема._ \\\n",
    "нам нужно минимизировать это выражение, саму константа мы не может минимизировать, убираем ее. а сумму можем. \n",
    "$$\\min_{\\theta \\in \\Theta}- \\, \\frac{1}{n}\\sum _{i=1}^n\\log(p_\\theta(x_i))$$\n",
    "\n",
    "смылс минимизации такой же как максимизация отрицательного значение функции.\n",
    "$$\\min_{\\theta \\in \\Theta}\\hat{\\text{KL}}(\\mathbb{P}_{\\theta^*},\\mathbb{P}_\\theta)\\Leftrightarrow\\max_{\\theta \\in \\Theta} \\, \\frac{1}{n}\\sum _{i=1}^n\\log(p_\\theta(x_i))$$\n",
    "\n",
    "$\\frac{1}{n}$ - это всего лишь константа и не нуждается в максимезации, уберем ее\n",
    "\n",
    "$$\\Leftrightarrow\\max_{\\theta \\in \\Theta} \\, \\sum _{i=1}^n\\log(p_\\theta(x_i))$$\n",
    "\n",
    "из свойста логарифмор мы знаем что  $\\log(a)+\\log(b)+\\log(c)=\\log(abc)$ соотв:\n",
    "$$\\Leftrightarrow\\sum _{i=1}^n\\log(p_\\theta(x_i))=\\log \\prod_{i=1}^n p_\\theta(x_i))$$\n",
    "\n",
    "Наше выражение превратилось в \n",
    "$$\\Leftrightarrow\\max_{\\theta \\in \\Theta} \\,\\log \\prod_{i=1}^n p_\\theta(x_i))$$"
   ]
  },
  {
   "cell_type": "markdown",
   "id": "e639fa90",
   "metadata": {
    "hidden": true
   },
   "source": [
    "Наша проблема сошлась к тому что бы максимизировать логарифм произведения. посмотрим как себя ведет логарифм - это вогнутая функция, постоянно увеличивающаяся и не прерывная.\n",
    "\n",
    "Если число большое, то и логарифм от этого числа большой. а значит наша задача это **максимизировать число в логарифме**\n",
    "\n",
    "\n",
    "$$\\Leftrightarrow\\max_{\\theta \\in \\Theta} \\, \\prod_{i=1}^n p_\\theta(x_i)$$ ураааааааААААААААААААААААААА\n",
    "\n",
    "это называется **Likelihood function** и мы ее максимизируем относительно $\\theta$"
   ]
  },
  {
   "cell_type": "markdown",
   "id": "3b2a7d27",
   "metadata": {},
   "source": [
    "### Примеры"
   ]
  },
  {
   "cell_type": "markdown",
   "id": "36260c79",
   "metadata": {},
   "source": [
    "#### 1. Deriving the Maximum Likelihood Estimator"
   ]
  },
  {
   "cell_type": "markdown",
   "id": "c441f3c8",
   "metadata": {},
   "source": [
    "предположим что $\\theta_\\min$ это минимизатор функции\n",
    "$$f(\\theta ) := - \\displaystyle \\frac{1}{n} \\sum _{i = 1}^ n \\ln (p_\\theta (X_ i))$$\n",
    "\n",
    "Вопрос - какие из след функций тоже минимизируются посредством $\\theta_\\min$?\n",
    "\n",
    "1) $g_1(\\theta ) = - \\prod _{i = 1}^ n p_\\theta (X_ i)$\n",
    "2) $g_2(\\theta ) = 25 - \\prod _{i = 1}^ n p_\\theta (X_ i)$\n",
    "3) $g_3(\\theta ) = h(\\theta ^*) - \\prod _{i = 1}^ n p_\\theta (X_ i)$ where $h$ is a function of $\\theta^*$ that does not depend on $\\theta$\n",
    "4) $g_4(\\theta ) = \\theta ^* - \\prod _{i = 1}^ n p_\\theta (X_ i)$\n",
    "\n",
    "Ответ"
   ]
  },
  {
   "cell_type": "markdown",
   "id": "c7ee1c28",
   "metadata": {},
   "source": [
    "- Первая функция - это произведение всех вероятностней возникновнеия Xi. тоесть из оригинального уравненеия убрали $\\frac{1}{n}$ которая просто масштабирует функцию. получается что $nf(\\theta)$ и $f(\\theta)$ (если умножить на $n$ то сократиться $\\frac{1}{n}$) у них один и тотже минимайзер.\\\n",
    "Также воспользовались свойством логарифма \"сумма логарифмов есть логарифм произведения\". А так как LN это непрарвыно возрастающая функция, то и соотв что с LN что без - минимайзер тот же. . \n",
    "- Вторая функция. - тоже самое, только +25, тоже не влияет на результат. $\\min _{\\theta \\in \\mathbb {R}} C + g(\\theta )\\, \\Leftrightarrow\\, \\min _{\\theta \\in \\mathbb {R}} + g(\\theta )$ и не зависит от $\\theta$\n",
    "- Третья - тут у нас что-то зависящее от $\\theta^*$, вообще мы знаем что $\\theta^*$ это константа, получается что когда мы перебираем все свои данные, то констата не влияет на MLE\\\n",
    "- четвертая - все тоже самое что и третья, только без функции.\n"
   ]
  },
  {
   "cell_type": "markdown",
   "id": "462d4033",
   "metadata": {},
   "source": []
  },
  {
   "cell_type": "code",
   "execution_count": null,
   "id": "ac5cbdd6",
   "metadata": {},
   "outputs": [],
   "source": []
  },
  {
   "cell_type": "markdown",
   "id": "aa8ea02d",
   "metadata": {
    "heading_collapsed": true
   },
   "source": [
    "# Likelihood of a Discrete Distribution"
   ]
  },
  {
   "cell_type": "markdown",
   "id": "57912f72",
   "metadata": {
    "hidden": true
   },
   "source": [
    "У нас есть модель вида $(E, \\{ P_\\theta \\} _{\\theta \\in \\Theta })$ дискретная модель.\\\n",
    "Пусть $p_\\theta$ это PMF к $P_\\theta$\\\n",
    "Пусть у нас есть выборка длинной $n$ $X_1, \\ldots , X_ n \\stackrel{iid}{\\sim } P_{\\theta ^*}$ где $\\theta^*$ не известный нам параметр.\n",
    "\n",
    "Тогда Likelihood это функция которая \n",
    "$$\\\n",
    "$L_ n: E^ n \\times \\Theta$ \n",
    "\n",
    "$(x_1, \\ldots , x_ n, \\theta )\\mapsto \\prod _{i = 1}^ n p_\\theta (x_ i).$\n",
    "\n",
    "\n",
    "Где:\n",
    "- $L_n$ логарифмическая функция правдоподобия используется для оценки параметров вероятностной модели. Индекс $n$ может указывать на зависимость этой функции от размера выборки.\n",
    "- $E^n$: Этот символ может представлять n-мерное евклидово пространство, где $n$ обозначает размерность пространства. В контексте статистических моделей, $E^n$ может означать пространство всех возможных выборок или наблюдений размера $n$.\n",
    "- $\\times$: Знак умножения в этом контексте не означает арифметическое умножение. Он используется для обозначения декартова произведения двух множеств, что подразумевает формирование всех возможных пар элементов из этих двух множеств.\n",
    "- $\\Theta$: Этот символ обычно используется для обозначения пространства параметров модели. В статистике и машинном обучении параметры модели — это переменные, которые модель пытается определить или оценить, чтобы лучше соответствовать данным.\n",
    "- $x_1,\\dots,x_n$ - это наблядаемые данные, или значение перменных $X_1,\\dots,X_n$.\n",
    "\n",
    "\n",
    "Что можно сказать про это $L_n$?\n",
    "- функция зависит от $\\theta$ и меняется с ней.\n",
    "- это joint pmf из $n$ i.i.d. выборка из разпределения $P_\\theta$.  Потому что $X_i$ незавимимы соотв PMF это произведение их вероятностей. А joint pmf  это $P(X_1 = x_1, \\ldots , X_ n = x_ n) = \\prod _{i = 1}^ n p_\\theta (x_ i).$\n",
    "- Это функция от выборки $X_1=x_1,\\dots,X_n=x_n$ и тогда мы можем выщитать $L_n(x_1,\\dots,x_n, \\theta)$\n",
    "- для фиксированной выборки $X_1=x_1,\\dots,X_n=x_n$, $L_n$ это функция с параметром $\\theta$, где $\\theta$ распространяется сквозь все возможные значение пространства-параметров $\\Theta$\n",
    "- Результат функции всегда можно обновить с появлением новых данных. что это значит - к примеру у нас была выборка $L_1(x_1, x_2,x_3;\\theta)$ и собрали еще данных $x_4, x_5$ - мо можем просто перемножить первый результат на новые подсчеты $L_3(x_1, x_2,x_3,x_4, x_5;\\theta)=L_1(x_1, x_2,x_3;\\theta)\\cdot L_1(x_4, x_5;\\theta)$ потому что в по своей сути это перемножение вероятностией возникновения всех доступных данных $L_ n(x_1, \\ldots , x_ n, \\theta ) = \\prod _{i = 1}^ n p_\\theta (x_ i)$ \n",
    "- Отсюда можно добавить что likelihood симметрична - она не зависит от порядка собранных данных.\n",
    "- Если убрать хоть один элемент данных - то $L_n$ измениться.\n",
    "\n",
    "\n"
   ]
  },
  {
   "cell_type": "markdown",
   "id": "4a25539d",
   "metadata": {
    "heading_collapsed": true,
    "hidden": true
   },
   "source": [
    "## важно"
   ]
  },
  {
   "cell_type": "markdown",
   "id": "cd136908",
   "metadata": {
    "hidden": true
   },
   "source": [
    "Чем больше наше $L_n$ это значит что у нас есть данные $(x_1,\\dots,x_n)$ и их нельзя изменить, они нам просто даны.\n",
    "\n",
    "В $L_n$ мы может изменять $\\theta$ - к примеру, - мы берем два кандидата на значние $\\theta$, мы можем подсчитать, какой из них, скорее всего создал те данные, которые у нас есть.\\\n",
    "$(x_1,\\dots,x_1, \\theta_1)$ и $(x_1,\\dots,x_1, \\theta_2)$ \n",
    "\n",
    "по факту нам нужен набор из $\\{\\theta_1,\\dots,\\theta_m\\}$ и на должны выбрать тот $\\theta_i$ который дает $$\\theta=\\text{argmax}_{\\theta \\in \\Theta'}(L((x_1,\\dots,x_1, \\theta_1))$$"
   ]
  },
  {
   "cell_type": "markdown",
   "id": "9092e392",
   "metadata": {
    "heading_collapsed": true,
    "hidden": true
   },
   "source": [
    "## Likelihood of a Bernoulli Statistical Model"
   ]
  },
  {
   "cell_type": "markdown",
   "id": "0077385d",
   "metadata": {
    "hidden": true
   },
   "source": [
    "Предположем что $X_1, \\ldots , X_ n \\stackrel{iid}{\\sim } \\text {Ber}(p^*)$ для некоторого не известного $p^*\\in (0,1)$.\n",
    "Предположем что $(E, \\{ \\text {Ber}(p)\\} _{p \\in \\Theta })$ обозначает статистическую-модель.\n",
    "\n",
    "Какова $L_n$ для этой модели?\n",
    "\n",
    "Мы можем сказать что возможно наблюдаться след значения $E=\\{0,1\\}$ с разными вероятностями\\\n",
    "$f(x) =\n",
    "\\begin{cases}\n",
    "    p \\quad \\text {if} \\,  \\,  x= 1 \\\\\n",
    "1 - p \\quad \\text {if} \\,  \\,  x= 0\n",
    "\\end{cases}$\n",
    "\n",
    "Тогда $L_n = \\prod_{i=1}^np_\\theta(x_i) = p^{\\sum_i x_i} (1-p)^{n-\\sum_i x_i}$\\\n",
    "что можно читать как $p^{\\text{в степени что равны 1}}$ умножить на $p^{n-\\text{в степени что равны 1}}$\n",
    "\n",
    "Это же выражение можно записать и по другому, более можно (нет):\\\n",
    "$L_ n(x_1, \\ldots , x_ n, p) = \\prod _{i = 1}^ n \\left( x_ i p + (1 - x_ i) (1 - p) \\right)$"
   ]
  },
  {
   "cell_type": "markdown",
   "id": "34528897",
   "metadata": {
    "heading_collapsed": true,
    "hidden": true
   },
   "source": [
    "## Likelihood of a Poisson Statistical Model\n"
   ]
  },
  {
   "cell_type": "markdown",
   "id": "7305646d",
   "metadata": {
    "hidden": true
   },
   "source": [
    "Допустим что $X_1, \\ldots , X_ n \\stackrel{iid}{\\sim } \\text {Poiss}(\\lambda ^*)$ для некоторой не известной $\\lambda ^* \\in (0,\\infty )$. \n",
    "Допустим у нас есть стат модель $(E, \\{ \\text {Poiss}(\\lambda )\\} _{\\lambda \\in \\Theta })$\n",
    "\n",
    "какой же будет наименьший $E$? \n",
    "\n",
    "$E=\\mathbb {N} \\cup \\{ 0\\}$, потому что $\\mathbb{N} = \\{1, 2, \\ldots \\}$\n",
    "\n",
    "Пространство параметров $\\Theta$ можно описать как $(0, \\infty)$\n",
    "\n",
    "\n",
    "И тогда модель можно описать как \n",
    "\n",
    "$(E, \\{ \\text {Poiss}(\\lambda )\\} _{\\lambda \\in (a, \\infty )})$"
   ]
  },
  {
   "cell_type": "markdown",
   "id": "34009a96",
   "metadata": {
    "hidden": true
   },
   "source": [
    "докажем MLE для Poisson"
   ]
  },
  {
   "cell_type": "markdown",
   "id": "c5e8745e",
   "metadata": {
    "hidden": true
   },
   "source": [
    "$p_X(x)=\\frac{\\lambda^x e^{-\\lambda}}{x!}$\n",
    "\n",
    "подсчитаем MLE\\\n",
    "$L(x_1,x_2,\\dots,x_n,\\lambda)=\\mathbb{P}_\\lambda(X_1=x_1,X_2=x_2,\\dots,X_n=x_n)$\n",
    "мы знаем что $X_i$ независимые переменные, и тогда их вероятности можно перемножать\n",
    "$L(x_1,x_2,\\dots,x_n,\\lambda)=\\mathbb{P}_\\lambda(X_1=x_1)\\mathbb{P}_\\lambda(X_2=x_2)\\mathbb{P}_\\lambda(X_n=x_n)$\\\n",
    "$L(\\theta)=\\prod_{i=1}^n\\frac{\\theta^{x_i} e^{-\\theta}}{x_i!}$\n",
    "\n",
    "\n",
    "нужно избравиться от произведения\n",
    "\n",
    "$L(\\theta)=\\frac{\\theta^{x_1} e^{-\\theta}}{x_1!}\\cdot\\frac{\\theta^{x_2} e^{-\\theta}}{x_2!}\\cdot\\dots\\cdot\\frac{\\theta^{x_n} e^{-\\theta}}{x_n!}$\n",
    "\n",
    "$e^{-\\theta}$ - можно выписать отдельно и сложить все степени потому они не зависят от $x_i$\n",
    "\n",
    "$L(\\theta)=e^{-n\\theta}\\frac{\\theta^{x_1}}{x_1!}\\cdot\\frac{\\theta^{x_2}}{x_2!}\\cdot\\dots\\cdot\\frac{\\theta^{x_n} }{x_n!}$\n",
    "\n",
    "$\\theta^{x_i}$ - сложем все степени. и получиться сумма всех $x_i$ или $S_n$\n",
    "\n",
    "$L(\\theta)=\\frac{e^{-n\\theta}\\cdot\\theta^{\\sum_i{x_i}}}{x_1!\\cdot x_2!\\cdot\\,\\dots\\, \\cdot x_n!}$"
   ]
  },
  {
   "cell_type": "markdown",
   "id": "3bd32902",
   "metadata": {
    "hidden": true
   },
   "source": [
    "Возмем логарифм для всего выражение\n",
    "\n",
    "$$\\ln(L(\\theta))=\\ln\\left(\\prod_{i=1}^n\\frac{\\theta^{x_i} e^{-\\theta}}{x_i!}\\right)$$\n",
    "\n",
    "воспльзуемся правилом логарифма - произведение в логарифме = самма логарифмов\n",
    "\n",
    "$$=\\sum_{i=1}^n\\ln\\left(\\frac{\\theta^{x_i} e^{-\\theta}}{x_i!}\\right)$$\n",
    "\n",
    "применим тоже правило еще раз\n",
    "\n",
    "$$=\\sum_{i=1}^n\\left(\\ln(\\theta^{x_i})+ \\ln(e^{-\\theta})-\\ln(x_i!)\\right)$$\n",
    "\n",
    "$$=\\sum_{i=1}^n\\left(x_i\\ln(\\theta)-\\theta-\\ln(x_i!)\\right)$$\n",
    "\n",
    "можно вынести $\\theta$ за сумму.\n",
    "\n",
    "$$=-n\\theta \\sum_{i=1}^n\\left(x_i\\ln(\\theta)-\\theta-\\ln(x_i!)\\right)$$\n",
    "\n",
    "и можно разбить сумму на две\n",
    "\n",
    "$$=-n\\theta +\\sum_{i=1}^n(x_i\\ln(\\theta)) -\\sum_{i=1}^n\\ln(x_i!)$$\n",
    "\n",
    "\n",
    "вынесем $\\ln(\\theta)$ за сумму\n",
    "\n",
    "$$=-n\\theta +\\ln(\\theta)\\sum_{i=1}^nx_i -\\sum_{i=1}^n\\ln(x_i!)$$\n",
    "\n",
    "\n",
    "Чтобы получить максимум нам нужно взять производную и ее приравнять к нулю.\n",
    "\n",
    "$$\\frac{\\partial}{\\partial\\theta}\\ln L(x_1,\\dots,x_n;\\theta)=0$$\\\n",
    "$$\\frac{\\partial}{\\partial\\theta}\\left(-n\\theta +\\ln(\\theta)\\sum_{i=1}^nx_i-\\sum_{i=1}^n\\ln(x_i!)\\right)=0$$\n",
    "\n",
    "применимые правила производных\\\n",
    "$cx'=c\\cdot1=c$\\\n",
    "$(ln(x)с)'=\\frac{1}{x}с$ правило производной логарифма\n",
    "\n",
    "$$-n +\\frac{1}{\\theta}\\sum_{i=1}^nx_i=0$$\n",
    "\n",
    "решим его для $\\theta$\n",
    "\n",
    "$$\\hat\\theta=\\frac{1}{n}\\sum_{i=1}^nx_i$$\n",
    "\n",
    "Отсюда можно сделать вывод что оценщик $\\hat\\theta$ - это обычный естесвенный оценщик - среднее значение данных\n",
    "\n",
    "Proof asymptotic vairance"
   ]
  },
  {
   "cell_type": "markdown",
   "id": "7c83586f",
   "metadata": {
    "heading_collapsed": true,
    "hidden": true
   },
   "source": [
    "## Likelihood of a Exponential"
   ]
  },
  {
   "cell_type": "markdown",
   "id": "0a3dc995",
   "metadata": {
    "hidden": true
   },
   "source": [
    "$f(x;\\theta)=\\theta e^{-\\theta x},\\, x>0$\n",
    "\n",
    "$L(\\theta)=\\prod_{i=1}^n\\theta e^{-\\theta x}$\n",
    "\n",
    "$L(\\theta)=\\theta e^{-\\theta x_1}\\cdot,\\dots,\\cdot\\theta e^{-\\theta x_n}$\n",
    "\n",
    "$L(\\theta)=\\theta^n e^{-\\theta \\sum x_i}$\n",
    "\n",
    "Возмем логарифм для всего выражение\n",
    "\n",
    "\n",
    "$\\ln L(\\theta)=\\ln(\\theta^n e^{-\\theta \\sum x_i})$\\\n",
    "$=\\ln(\\theta^n) + \\ln(e^{-\\theta \\sum x_i})$\\\n",
    "$=n\\ln(\\theta) + (-\\theta \\sum x_i\\ln(e))$ ln(e) = 1\\\n",
    "$=n\\ln(\\theta) -\\theta \\sum x_i\\cdot1$\n",
    "\n",
    "Чтобы получить максимум, возмем производную и приравняем к 0\n",
    "Что такое производная, это типа скорость изменения функции, а что такое максимум в терминах скорости, это значит что скорость уже не растет. А значит что скорость потом падает. значит скорость в максимуме была нулевой, а потом изменила свой знак на минус.\n",
    "\n",
    "$\\frac{\\partial}{\\partial\\theta}\\ln L(\\theta)=\\frac{\\partial}{\\partial\\theta}n\\ln \\theta - \\frac{\\partial}{\\partial\\theta}\\theta\\sum{x_i}$\n",
    "\n",
    "\n",
    "$n$ и $\\sum{x_i}$ это константы и они выноситься.\\\n",
    "\n",
    "$\\frac{\\partial}{\\partial\\theta}\\ln L(\\theta)=n\\frac{\\partial}{\\partial\\theta}\\ln \\theta - \\sum{x_i}\\frac{\\partial}{\\partial\\theta}\\theta$\n",
    "\n",
    "свойство логарифма $\\frac{\\partial}{\\partial\\theta}\\log(x)=\\frac{1}{x}$\\\n",
    "свойство производной $\\frac{\\partial}{\\partial x}x=1$\n",
    "\n",
    "$\\frac{\\partial}{\\partial\\theta}\\ln L(\\theta)=\\frac{n}{\\theta} - \\sum{x_i}\\cdot1=\\frac{n}{\\theta} - \\sum{x_i} \\,\\,\\,\\, (1)$\n",
    "\n",
    "Чтобы подсчитать максимум, приравняем к нулю $\\frac{\\partial}{\\partial\\theta}\\ln L(\\theta)=0$\\\n",
    "$\\frac{n}{\\theta} - \\sum{x_i}=0$\\\n",
    "$\\theta = \\frac{n}{\\sum{x_i}}$\n",
    "\n",
    "\n",
    "теперь мы должны проверить если что-то атм\n",
    "\n",
    "производное от $(1)$\n",
    "\n",
    "$\\frac{\\partial^2}{\\partial^2\\theta}\\ln L(\\theta)=\\frac{\\partial}{\\partial\\theta}(\\frac{n}{\\theta} - \\sum{x_i})=$\n",
    "$-\\frac{n}{\\theta^2} <0$\n",
    "\n",
    "отлично, оно отрицательное\n",
    "\n",
    "тогда вывод что  MLE для $\\theta$ равно:\n",
    "\n",
    "$\\hat\\theta=\\frac{n}{\\sum{x_i}} = \\frac{1}{\\frac{\\sum{x_i}}{n}} = \\frac{n}{\\bar{X}}$"
   ]
  },
  {
   "cell_type": "code",
   "execution_count": null,
   "id": "f4921c2f",
   "metadata": {
    "hidden": true
   },
   "outputs": [],
   "source": []
  },
  {
   "cell_type": "markdown",
   "id": "d945f3bb",
   "metadata": {},
   "source": [
    "# ULRS\n",
    "https://www.youtube.com/watch?v=9_eZHt2qJs4\n",
    "\n",
    "https://www.youtube.com/watch?v=q0AkK8aYbLY\n",
    "\n",
    "https://www.youtube.com/watch?v=vAGid8ZGM-Q\n",
    "\n",
    "https://www.statlect.com/fundamentals-of-statistics/Poisson-distribution-maximum-likelihood"
   ]
  },
  {
   "cell_type": "code",
   "execution_count": null,
   "id": "659509e1",
   "metadata": {},
   "outputs": [],
   "source": []
  }
 ],
 "metadata": {
  "kernelspec": {
   "display_name": "Python 3",
   "language": "python",
   "name": "python3"
  },
  "language_info": {
   "codemirror_mode": {
    "name": "ipython",
    "version": 3
   },
   "file_extension": ".py",
   "mimetype": "text/x-python",
   "name": "python",
   "nbconvert_exporter": "python",
   "pygments_lexer": "ipython3",
   "version": "3.7.10"
  }
 },
 "nbformat": 4,
 "nbformat_minor": 5
}
