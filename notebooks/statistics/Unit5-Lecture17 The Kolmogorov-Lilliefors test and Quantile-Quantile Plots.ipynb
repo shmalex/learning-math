{
 "cells": [
  {
   "cell_type": "code",
   "execution_count": null,
   "id": "526a1c24",
   "metadata": {},
   "outputs": [],
   "source": []
  },
  {
   "cell_type": "code",
   "execution_count": null,
   "id": "3bad0401",
   "metadata": {},
   "outputs": [],
   "source": []
  },
  {
   "cell_type": "code",
   "execution_count": null,
   "id": "386cfda0",
   "metadata": {},
   "outputs": [],
   "source": []
  },
  {
   "cell_type": "code",
   "execution_count": null,
   "id": "f7583fcc",
   "metadata": {},
   "outputs": [],
   "source": []
  },
  {
   "cell_type": "markdown",
   "id": "dc559fad",
   "metadata": {},
   "source": [
    "# 4. Introduction to Quantile-Quantile (QQ) Plots"
   ]
  },
  {
   "cell_type": "markdown",
   "id": "06b5f67e",
   "metadata": {},
   "source": [
    "- Ploting quantilies GoF test\n",
    "- сравнение если $F_n^{-1}$ близко к $F^{-1}$"
   ]
  }
 ],
 "metadata": {
  "kernelspec": {
   "display_name": "py310",
   "language": "python",
   "name": "py310"
  },
  "language_info": {
   "codemirror_mode": {
    "name": "ipython",
    "version": 3
   },
   "file_extension": ".py",
   "mimetype": "text/x-python",
   "name": "python",
   "nbconvert_exporter": "python",
   "pygments_lexer": "ipython3",
   "version": "3.10.11"
  }
 },
 "nbformat": 4,
 "nbformat_minor": 5
}
