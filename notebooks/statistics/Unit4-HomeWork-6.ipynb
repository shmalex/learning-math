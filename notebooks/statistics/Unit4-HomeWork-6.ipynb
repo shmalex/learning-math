{
 "cells": [
  {
   "cell_type": "markdown",
   "id": "aa8b62f1",
   "metadata": {},
   "source": [
    "# 1 Правда или нет?!"
   ]
  },
  {
   "cell_type": "markdown",
   "id": "5917d206",
   "metadata": {},
   "source": [
    "Допустил следующее: \n",
    "\n",
    "\n",
    "В соотв с определенной модельню ${P_\\theta}_{\\theta\\in\\Theta}$, пара гипотез $H_0: \\theta\\in\\Theta_0$ и $H_1:\\theta\\in\\Theta_1$ и 0.05 уровень теста $\\psi_{0.05}$ след формы.\n",
    "\n",
    "$$\\psi_\\alpha=\\mathbb{1}(T_n>c_\\alpha), T_n=T_n(X_1,\\dots,X_n), c_\\alpha\\mathbb{R}$\n",
    "\n",
    "мы получили выборку $x_1,\\dots,x_n$ и подсчитали p-Value будет 0.01. Тут T_n это тест статистика, и $c_\\alpha$ это порог константы.\n",
    "\n",
    "Для каждой из след груп высказываний, выберети одну которую обязательно истинна. "
   ]
  },
  {
   "cell_type": "code",
   "execution_count": null,
   "id": "80e13e25",
   "metadata": {},
   "outputs": [],
   "source": []
  }
 ],
 "metadata": {
  "kernelspec": {
   "display_name": "py310",
   "language": "python",
   "name": "py310"
  },
  "language_info": {
   "codemirror_mode": {
    "name": "ipython",
    "version": 3
   },
   "file_extension": ".py",
   "mimetype": "text/x-python",
   "name": "python",
   "nbconvert_exporter": "python",
   "pygments_lexer": "ipython3",
   "version": "3.10.11"
  }
 },
 "nbformat": 4,
 "nbformat_minor": 5
}
