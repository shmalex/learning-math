{
 "cells": [
  {
   "cell_type": "markdown",
   "id": "b4fc524a",
   "metadata": {},
   "source": [
    "## Objectives\n",
    "\n",
    "At the end of this lecture, you will be able to do the following:\n",
    "\n",
    "- Reformulate experimental questions in terms of a **hypothesis test** by specifying an appropriate **null hypothesis** and an **alternative hypothesis** .\n",
    "\n",
    "- **Design** statistical **tests** to decide between a null and alternative hypothesis.\n",
    "\n",
    "- Understand the types of error of a test\n",
    "\n",
    "- Compute the power function of a test\n",
    "\n",
    "- Design statistical tests with a specific level or asymptotic level.\n",
    "\n",
    "- Apply a test to a given sample to determine whether or not the null hypothesis should be rejected.\n",
    "\n",
    "- Compute a test from a confidence interval\n",
    "\n",
    "- Compute and interpret the p-value associated to a statistical test."
   ]
  },
  {
   "cell_type": "markdown",
   "id": "73463530",
   "metadata": {},
   "source": [
    "## 3. Null and alternative hypotheses\n"
   ]
  },
  {
   "cell_type": "markdown",
   "id": "93f4e694",
   "metadata": {},
   "source": [
    "Какое ожидание в скорой ER - Emergency Room\n",
    "\n",
    "что в среднем в скорой ожидают помощи 30 минут.\n",
    "\n",
    "А кто-то из пациентов говорит - там на много дольше нужно ждать\n",
    "\n",
    "Мы как статистика пошли проверять это жалобы.\n",
    "\n",
    "мы пошли собрали выборку $X_1,\\dots,X_n$ какого-то значительного размера и все наблюдения независимы.\n",
    "\n",
    "Из эти данных мы можем вычислисть $\\mathbb{E}[X_1]=\\mu$\n",
    "\n",
    "Мы хотим знать если на самом деле $\\mu > 30$\n",
    "\n",
    "\n",
    "В терминах статистической гипотезы это перводится в термины \n",
    "$$H_0: \\mu \\le 30\\quad \\text{null hypothesis}$$\n",
    "$$H_1: \\mu > 30\\quad \\text{alternative hypothesis}$$"
   ]
  },
  {
   "cell_type": "markdown",
   "id": "1afb26a5",
   "metadata": {},
   "source": [
    "### статистическая формализация"
   ]
  },
  {
   "attachments": {
    "image-2.png": {
     "image/png": "[encoded data removed]"
    }
   },
   "cell_type": "markdown",
   "id": "3e0bdf33",
   "metadata": {},
   "source": [
    "\n",
    "Предположим выборку $X_1,\\dots,X_n$ iid случайная переменная и в нашем примере это время ожидания приема.\n",
    "\n",
    "Статистическая модель $(E,(\\mathbb{P}_\\theta)_{\\theta\\in\\Theta})$ - где $(\\mathbb{P}_\\theta)$ это семейство распределений индексированная абстрактным пространством $\\Theta$. В этом пространстве находится одна единственная истинная $\\theta^*$. Мы разделим  это пространство на две **партиции/части**\n",
    "\n",
    "**Партиция** - это два непересекающихся набора, объединение которых составлять весь $\\Theta$:\n",
    "\n",
    "Пуст $\\Theta_0$ и $\\Theta_1$ являются партициями/частями $\\Theta$\n",
    "\n",
    "И вопрос который мы ставим - где находится $\\theta^*$ в первой или во второй партиции? Этот вопрос выливается в нулевую и альтернативную гипотизы, каждая из которых заявляет что иcтинный параметр находится в их партиции.\n",
    "\n",
    "![image-2.png](attachment:image-2.png)Конечно на нашем рисунке нам птичка на хвосте принесла информацию где находится параметр, но на практике такого не бывает.\n",
    "\n",
    "Учтем две гипотезы \n",
    "${{\\begin{cases}\n",
    "H_0:\\theta\\in\\Theta_o\\\\\n",
    "H_1:\\theta\\in\\Theta_1\\\\\n",
    "\\end{cases}}}$\n",
    "\n",
    "Где $H_0$ это Нулевая гипотеза и $H_1$ это альтернативная гипотеза. У них разные названия, потому что они играют разные роли, ассиметричные роли, в статистических тестах гипотез\n",
    "\n",
    "Мы говорим что тестируем $H_0$ против $H_1$\n",
    "\n",
    "**ВАЖНО - чтобы наши гипотезы создавали две партиции**"
   ]
  },
  {
   "cell_type": "markdown",
   "id": "26e99547",
   "metadata": {},
   "source": [
    "## 4. Different types of hypotheses"
   ]
  },
  {
   "cell_type": "markdown",
   "id": "64a195bd",
   "metadata": {
    "ExecuteTime": {
     "end_time": "2024-03-30T12:51:04.453008Z",
     "start_time": "2024-03-30T12:51:04.445565Z"
    }
   },
   "source": [
    "Будем обсуждать типы гипотез. в целом все вроде бы похоже, но природа у них разная."
   ]
  },
  {
   "cell_type": "markdown",
   "id": "c4a4b605",
   "metadata": {},
   "source": [
    "введем математическую нотацию для гипотиз\n",
    "\n",
    "Для $k=0\\,(H_0)$ или $k=1\\,(H_1)$ получается что это $k$ это как ссылна на гипотезу $H_k$ таким образом мы просто обозначаем через $k$ сразу и $H_0$ и $H_1$.\n",
    "\n",
    "- $\\Theta_k$ это простая гипотиза если $\\Theta_k=\\{\\theta_k\\}$- тоесть это одно число, или набор из одного элемента.\n",
    "- $\\Theta_k$ - копмозитная гипотеза если $\\Theta_k$ имеел след форму\n",
    "\n",
    "$$\\Theta_k=\\{\\theta:\\theta>\\theta_k\\},\\quad \\Theta_k=\\{\\theta:\\theta<\\theta_k\\}, \\quad\\Theta_k=\\{\\theta:\\theta\\neq\\theta_k\\}, $$\n",
    "\n",
    "Первый варианта это значит $\\Theta_k$ состоит из набора в котором $\\theta$ больше чем $\\theta_k$ из простой гипотезы. тоесть это набор множестве чисел которые больше, меньше или не равно $\\theta_k$.\n",
    "\n",
    "Это пример трех композитных гепотих которые у нас могут быть.\n",
    "\n",
    "\n",
    "В заквисимости какая у нас композиция - от этого зависит какой у нас тест **\"One sided\" \"Two Sided\"**\n",
    "\n",
    "\n",
    "${{\n",
    "\\begin{align}\n",
    "\\quad\\text{Two-sided}\\quad\\quad\\quad&\\quad\\quad\\quad\\quad\\text{One-sided}\\\\\n",
    "\\begin{cases}\n",
    "H_0:\\theta=\\Theta_0\\\\\n",
    "H_1:\\theta\\neq\\Theta_0\\\\\n",
    "\\end{cases}\\quad\\quad&\n",
    "\\begin{cases}\n",
    "H_0:\\theta\\leq\\Theta_0\\\\\n",
    "H_1:\\theta>\\Theta_0\\\\\n",
    "\\end{cases}\n",
    "\\begin{cases}\n",
    "H_0:\\theta\\geq\\Theta_o\\\\\n",
    "H_1:\\theta<\\Theta_0\\\\\n",
    "\\end{cases}\n",
    "\\end{align}}}$\n",
    "\n"
   ]
  },
  {
   "cell_type": "markdown",
   "id": "d70eabd8",
   "metadata": {},
   "source": [
    "Разберем пример.\n",
    "\n",
    "1) Время ожидания ER\n",
    "$$\\begin{cases}\n",
    "H_0:\\mu\\le30\\\\\n",
    "H_1:\\mu>30\\\\\n",
    "\\end{cases}$$\n",
    "\n",
    "- Pассмотрим к какому типу относятся гипотезы\\\n",
    "В это случае $H_0$ - так как $\\mu$ равно всему что меньше 30. Значит она принадлежит набору из множества числе - **композитная**\\\n",
    "В это случае $H_1$ - так как $\\mu$ тоже  **композитная** так как ей соотв. набор из множества значений\n",
    "\n",
    "- \"One sided\" или \"Two Sided\" ?\\\n",
    "Так как $H_1$ говорит (хотя достаточно посмотреть на любоую из них) нам что $\\mu$ находится ТОЛЬКО с одной стороны то это **\"One sided\"** тест\n",
    "\n",
    "2) Kiss example\n",
    "$$\\begin{cases}\n",
    "H_0:p=.5\\\\\n",
    "H_1:p\\neq.5\\\\\n",
    "\\end{cases}$$\n",
    "\n",
    "- Рассмотрим к какому типу относятся гипотезы\n",
    "\n",
    "В это случае $H_0$ - так как $p$ равно конкретному числу, тогда это - **простая** гипотеза\n",
    "В это случае $H_1$ - так как $p$ равна всему чему угодно кроме конкретного одного числа - **композитная** гипотеза.\n",
    "\n",
    "- \"One sided\" или \"Two Sided\" ?\\\n",
    "так как $H_1$ равна чемуто по обе стороны от 0.5 - то это считается **Tow Sided**\n"
   ]
  },
  {
   "cell_type": "markdown",
   "id": "11ae7c1d",
   "metadata": {},
   "source": [
    "## 5. Statistical modelling"
   ]
  },
  {
   "cell_type": "markdown",
   "id": "2bc25d5b",
   "metadata": {},
   "source": [
    "Это реальная тема из статистики. Мы должны научиться конвертить проблемы в статистические формулировки.\n",
    "\n",
    "Как работают клинические есть **котрольные группы**, которые получают плацебо.\n",
    "Есть **тестовые группы** которые получают лекарство. \n",
    "\n",
    "к примеру мы дали круппе людей лекарство которое должно снизить их LDL среди пациентов у которых LDL выше 200 mg/dL."
   ]
  },
  {
   "cell_type": "markdown",
   "id": "6dc163f3",
   "metadata": {},
   "source": [
    "### Разберемся с нотацией."
   ]
  },
  {
   "cell_type": "markdown",
   "id": "fd13b816",
   "metadata": {},
   "source": [
    "Пусть $\\mu_d>0$ (d - drug) обозначает ожидаемое уменьшение LDL для пациентов которые принимали лекарство.\n",
    "\n",
    "Пусть $\\mu_c>0$ (c - control) обозначает ожидаемое уменьшение LDL для пациентов которые принимали плацебо.\n",
    "\n",
    "Hypothesis testing problem:\n",
    "$$\n",
    "\\begin{cases}\n",
    "H_0: \\mu_d\\le\\mu_c\\,\\text{читается как \"не лучше\"}\\\\\n",
    "H_1: \\mu_d>\\mu_c\n",
    "\\end{cases}\n",
    "$$\n",
    "\n",
    "\n",
    "Мы наблюдаем две независымые выборки\n",
    "\n",
    "- $X_1,\\dots,X_n\\stackrel{iid}{\\sim }\\mathcal{N}(\\mu_d,\\sigma^2_d) $ для тестовой группы\n",
    "- $X_1,\\dots,X_n\\stackrel{iid}{\\sim }\\mathcal{N}(\\mu_c,\\sigma^2_c) $ для контрольной группы\n",
    "\n",
    "такой тест называется \"двух выборочный тест\" (a/b testing)\n",
    "\n",
    "Это двух-сторонний текст. "
   ]
  },
  {
   "cell_type": "markdown",
   "id": "b8cdf510",
   "metadata": {},
   "source": [
    "План\n",
    "1 - рассмотрим ситуаци (группы)\\\n",
    "2 - определим гипотезы\\\n",
    "3 - определим выборки - как собираем данные\\\n",
    "4 - определим скольки сторонние тест"
   ]
  },
  {
   "cell_type": "markdown",
   "id": "e9858d63",
   "metadata": {},
   "source": [
    "### Вопросики"
   ]
  },
  {
   "cell_type": "markdown",
   "id": "3395df71",
   "metadata": {},
   "source": [
    "#### 1\n",
    "к примеру нам нужно протестирповать средство от кашля. мы берем 2n людей и даем один плацебо, другим лекарство.\n",
    "\n",
    "мы подсчитываем количество кашлей в единицу времени. \n",
    "мы считаем что кашель распределен Пуасон\n",
    "\n",
    "$X_1, \\ldots , X_ n \\sim \\text {Poiss}(\\mu _{\\text {drug}})$\\\n",
    "$Y_1, \\ldots , Y_ n \\sim \\text {Poiss}(\\mu _{\\text {control}})$\n",
    "\n",
    "что тут есть неизвестное?\n",
    "И $\\mu _{\\text {drug}}$ и $\\mu _{\\text {control}}$ нам не известны и мы их хотим узнать\n",
    "\n",
    "Что обозначает это выражение $\\mu _{\\text {drug}} < \\mu _{\\text {control}}$?\n",
    "\n",
    "Это значит что лекарство эффективней плацебо.\n"
   ]
  },
  {
   "cell_type": "markdown",
   "id": "34f1d9ac",
   "metadata": {
    "heading_collapsed": true
   },
   "source": [
    "### Предположения"
   ]
  },
  {
   "cell_type": "markdown",
   "id": "a1197fd8",
   "metadata": {
    "hidden": true
   },
   "source": [
    "#### 2 высота людей.\n",
    "\n",
    "данные опросов показывают что в 1920 году были ростом 5.5 фит.\n",
    "\n",
    "в 2020 году мы не можем опросить столько людей и вот наша стратегия для сбора данных.\n",
    "\n",
    "\"Выбрать 1 млн людей, с заменой(для упрощения), случайно и записать их рост. $X_i$ ранд. пер. соотв росту $i$ опрошенного. предположим что рост одного не зависит от другого и нашим данным соотв нижележащее распределение\n",
    "\n",
    "Какие мат свойства есть у выборки $X_1,\\dots,X_n$ сделанные в нашем стратегии сбора данных?\n",
    "\n",
    "- the random variable $X_1,\\dots,X_n$ are iid \\\n",
    "это верно потому что мы предполагаем что высота людей **независит друг от друга**. Соотвественно имеет смысл накладывать ожидание на $X_i$ что они **взаимо-независемы**. Мало того - мы заявили что **ожидаем подлежающее распределение** для выборки - это тоже самое что сказать что $X_i$ **идентично распределены**\n",
    "\n",
    "- $X_1,\\dots,X_n$ are independent, but may not all have the same distribution.\\\n",
    "Это не верно. потому что противоречит iid\n",
    "- $X_1,\\dots,X_n$ all have the same distribution, but some of them are correlated.\\\n",
    "Это не верно. потому что противоречит iid\n",
    "\n",
    "Суть состоит в том что мы накладываем \"обязательство/Ожидания\" на данные, и это ожидания нам выдают право рассуждать над этими данными."
   ]
  },
  {
   "cell_type": "markdown",
   "id": "2995a666",
   "metadata": {
    "hidden": true
   },
   "source": [
    "#### 3 - продолжаем \n",
    "Мы решил выборать миллион человек, пометили каждого его номеров. \n",
    "Пусть $X_i$ обозначает высоту $i$го опрошенного.\n",
    "Дополнительно к нашим предположениям о природе $X_i$ мы еще предположим что \n",
    "- $X_i$ Гаусово распределение\n",
    "- $\\text{Var}(X_i) = 1.3$\n",
    "\n",
    "Эти предположения были \"унаследованы\" из данных опроса 1920 года\n",
    "\n",
    "Установив эти предположения, мы сошлись со следующим протоколом для ответа на вопрос.\n",
    "\n",
    "Если $\\mu=\\mathbb{E}[X_i]>5.5$ тогда мы ответим что \"да в 2018 люди выше чем 1920\". или Нет.\n",
    "\n",
    "Тогда какие из заявление о наших новых предположениям верны?\n",
    "\n",
    "\n",
    "- They place restrictions on the different possible distributions that $X_1,\\dots,X_n$ could follow.\\ \n",
    "Конечно наши данные могли бы следовать разным распределениям. Но мы конкретно/специфично установили, что они сделуют $N(\\mu,1.3)$ и не сможет выбрать другую модель, кроме этой. В наше модели средняя не известна, но дисперсия - известна. И мы может выбирать модели в соотв с этми органичением. Грубо говоря у нас свобода только выбирасть Среднее, а не дисперсию или форму распределения.\n",
    "\n",
    "\n",
    "- For the purposes of hypothesis testing, they allow us to interpret the question of interest as a very specific mathematical question about the mean of . Верно\\\n",
    "Изначальный вопрос звучал как \"were people in the US taller in 1920 or 2018?\" не явлется точным математичсикм определенным вопросом. Ноднако, делая предположения, как мы сделали выше, мы может сфокусироваться на определенных свойствах $X_1,\\dots,X_n$ которые мы сможет тщательно проверить.\\\n",
    "Но более точный вопросы на которым теперь хотим найти ответ \"Правда ли что неизвестный параметр $\\mu$ который описывает среднюю высотю людей 2018 года больше черз 5.5. фиит или меньше 5.5 фит?\n",
    "Мы конечно не сможем ответить на этот вопрос напрямую. потому что у нас нет возможности измерить рост всех людей в США. Наоборот, мы будет использовать выборку в 1 млн человек чтобы сделать статистический вывод, с количественно ошибкой, каким должен быть ответ."
   ]
  },
  {
   "cell_type": "markdown",
   "id": "5350ca97",
   "metadata": {
    "hidden": true
   },
   "source": [
    "#### 4 Hypothesis Testing vs. Parameter Estimation (Optional)\n",
    "продолжаем\n",
    "\n",
    "мы знаем что рост людей в 1920 году мыл распределена приблизительно как Гаусово с 5.5 средник и дисперсией 1.3. В дополнение к тому что $X_1, \\ldots , X_{10^6}$ iid мы еще предполагаем что\n",
    "- Высота $X_1, \\ldots , X_{10^6}$ 2018 также распределено гаусово.\n",
    "- и дисперсия = 1.3\n",
    "\n",
    "так как мы ни сделали ни одного предположения о том что $\\mu := \\mathbb {E}[X_1]$ мы будем отсноситься к $\\mu$ как не известному параметру.\n",
    "\n",
    "Наша цель научиться отвечать на вопросы похожий на след. \n",
    "\n",
    "**Is $\\mu>5.5$ or is $\\mu\\le5.5$**?\n",
    "\n",
    "\n",
    "Это есть простой пример **hypothesis testin**\n",
    "\n",
    "Какие из следующих утверждений относительно **проверки гипотез**, как показано выше, и **оценки параметров**, как обсуждалось в предыдущих лекциях, являются верными?\n",
    "\n",
    "- In the above hypothesis testing set-up and in the models in the previous lectures on parameter estimation, we make the assumption that our data is iid from some unknown distribution.\\\n",
    "- В приведенной выше схеме проверки гипотез и в моделях из предыдущих лекций по оценке параметров мы предполагаем, что наши данные взяты из некоторого неизвестного распределения. **Верно** \\\n",
    "В этой Юните оценки параметров, для все статистических моделей мы предполагаем что наша выборка состоит из iid r.v. \n",
    "- When carrying out parameter estimation, we are interested in coming up with an estimator $\\mu$ that we want to be close to the true parameter $\\mu$. **Верно** Главная цель оценки параметров это прийти к некоторой аппроксимации для неизвестного истенного параметра использую выборку $X_1, \\ldots , X_ n$\n",
    "- When performing hypothesis testing (as above), we are **not** necessarily interested in finding an estimator for $\\mu$. Rather, our goal is to decide whether or not the true parameter $\\mu$ lies in a certain region. **Верно**\\\n",
    "Наш вопрос стоит след. образом **Is $\\mu>5.5$ or is $\\mu\\le5.5$**. Чтобы ответить на этот вопрос, нам не обязательность придумать оценку для истинного параметра. Будет достаточно определить лежи ли или нет - $\\mu$ в определенном участке. в нашем случает $(5.5, \\infty)$\n",
    "\n",
    "- When performing hypothesis testing, our main goal is to come up with a good approximation of the true parameter. **Не Верно**\n",
    "Как подробно говорилось в предыдущем пункте, это не является целью тестирование гипотезы. Наобором мы хотим решить если параметр обладает определенными характеристиками - лежит ли от в определенном регионе или нет."
   ]
  },
  {
   "cell_type": "markdown",
   "id": "fe4566bf",
   "metadata": {},
   "source": [
    "### Two Sample vs. One Sample Tests\n",
    "### Тесты с двумя выборками против тестов с одной выборкой"
   ]
  },
  {
   "cell_type": "markdown",
   "id": "8f287be8",
   "metadata": {},
   "source": [
    "В **Одна выборка** - это тест гипотетезы того что один **не известный** параметр $\\mu$ сравнивается с **известным** значением эталонного параметра.\n",
    "К примеру высота людей, - создается одна выборка, и она сравнивается с данными уже известными нам из прошлого, средняя которых выступает как эталонное значение.\n",
    "\n",
    "**Тесты с двумя выборками**  это тест когда у нас две неизвестных, которые сравниваются друг с другом. К примеру - клинические испытания, где мы хотим узнать значения двух средних.\n",
    "\n",
    "Какие из следудующих являются **Тесты с двумя выборками**?\n",
    "\n",
    "- Какую сторону предпочитают люди когда целуются. Вопрос - на какую сторону вы наклоняете голову?\\\n",
    "что бы ответить на этот вопрос нужно выбрать параметр - это бернули меремеинная, у которой один параметро $p$ и плучив этот параметр, мы сможет сказать где находится средняя относительно середины. Тоесть у нас один параметр известен 0.5, а другой нет $p$ - одна выборка\n",
    "- Выборка из студентов часть из коротых предпочитаются чиспы одного вкуса, а другие другого. Вопрос - вы предпочитаете один вкус или другой?\\\n",
    "Это похоже на задачу выше, раз мы даем 2 выбора - то каждый будет соотв. выбирать либо один, либо другой вкусы. Это опять сводиться к бернули с один параметром =>  одна выборка.\n",
    "- Вася должен выбрать между двумя дорогами до работы - метро или автобус?. Чтобы решить он выбрал 112 персон их коллег которые жили в том-же районе. и назадл им два вороса \"какой метом они предпочитают\" \"сколько времени у них занимает\". Наш вопрос \"чем быстрее добраться до работу Автобус или Метро\"?/\n",
    "Мы создает две выборки, и в каждой из них нам не известно какой будет средней, который мы должны сравнить $\\mu _{\\text {bus}} > \\mu _{\\text {subway}}$ или $\\mu _{\\text {subway}} > \\mu _{\\text {bus}}$. - две выборки.\n"
   ]
  },
  {
   "cell_type": "markdown",
   "id": "9d7e7485",
   "metadata": {},
   "source": [
    "## Asymmetry in the hypotheses\n"
   ]
  },
  {
   "cell_type": "markdown",
   "id": "6d88496b",
   "metadata": {},
   "source": [
    "главный вопрос - а как нам решить что \"нулл\" а что \"альтернативная\" гипотезы. можно конечно их называть $H_1$ и $H_0$. но это не вариант.\n",
    "\n",
    "Reject $H_0$ - мы ищем доказательство чтобы отклонить $H_0$ в данных. что лекарство - насамом деле лучше работает чем плацебо.\n",
    "\n",
    "$$\\begin{cases}\n",
    "H_0:\\text{Status quo, prior assumption}\\\\\n",
    "H_1:\\text{научное открытие чтоб лекарство работает}\n",
    "\\end{cases}$$\n",
    "\n",
    "**Lack of evidence** - это не значит что $H_0$ истенно. это говорит только о том что у нас недостаточно доказательств чтобы отвернуть $H_0$. Суд  говорит что подсудимый \"виновный\" или \"не виновен\". и если суд постановил что подсудимы \"не виновен\" это не значит что ты святой человек, это значит что у нас нет достаточно доказательст чтобы объявить его виновным. \n",
    "\n",
    "**\"Innocent until proven guilty\"**\n",
    "\n",
    "в примере лекарство - если мы говорим что говорим что \"лекарство не лучше чем плацебо\" - это значит у нас недостаточно доказательств что лекарство лучше, но это не значит что лекарство хуже.\n",
    "\n",
    "\n",
    "1) Время ожидания в ER\n",
    "$$\\begin{cases}\n",
    "H_0:\\mu \\le 30\\\\\n",
    "H_1:\\mu > 30\n",
    "\\end{cases}$$\n",
    "Status Que: - разницы нет что в ER разнициы нет.\\\n",
    "Alternative - разница существует.\n",
    "2) Kiss\n",
    "$$\\begin{cases}\n",
    "H_0:p=.5\\\\\n",
    "H_1:p\\neq.5\n",
    "\\end{cases}$$\n",
    "Status Quo: не существует предпочтения.\\\n",
    "Alternative - собрать данные чтобы показать что есть разница.\n",
    "3) Clinical Trials\n",
    "$$\\begin{cases}\n",
    "H_0:\\mu_d\\le\\mu_c\\\\\n",
    "H_1:p\\mu_d>\\mu_c\n",
    "\\end{cases}$$\n",
    "Status Quo: лекарство не лучше чем плацебо\n",
    "Alternative - собрать данные чтобы показать что лекарство лучше.\n"
   ]
  },
  {
   "cell_type": "markdown",
   "id": "82c26976",
   "metadata": {},
   "source": [
    "1) $\\Theta_0$ и $\\Theta_1$ должны быть подмножество $\\Theta$ - потому что мы пытаем решить если $\\theta^*$ это определенная область $\\Theta$ а точнее одно из $\\Theta_0$ или $\\Theta_1$\n",
    "\n",
    "2) $\\Theta_0$ и $\\Theta_1$ не должны пересекаться. $\\Theta _0\\cap \\Theta _1=\\emptyset$ - в тесте гипотез мы пытаемся определить если $\\theta^* \\in \\Theta_0$. И мы не хотим чтобы $\\theta^*$ могло лежать в обоих регинах одновременно.\n",
    "\n",
    "3) $\\Theta_0$ и $\\Theta_1$ не составляют все прострство выборки  $\\Theta$. потому что могуть быть тест в которых пространство выборки может быть задано $\\Theta =\\{ (\\mu _1,\\mu _2):\\mu _1\\in \\mathbb {R},\\, \\mu _2\\in \\mathbb {R}\\} =\\mathbb {R}^2$. А нелевая гипотеза это точка, а альтернативная гипотеза лежит на одном участке от нулевой гипотезы.\\\n",
    "$\\displaystyle  \\{ (\\mu _1,\\mu _2):\\mu _1=\\mu _2\\} \\qquad \\text {a line in }\\mathbb {R}^2$\n",
    "$\\displaystyle  \\{ (\\mu _1,\\mu _2):\\mu _1>\\mu _2\\} \\qquad \\text {the region on one side of the line }\\mu _1=\\mu _2 \\, \\text {in} \\,  \\mathbb {R}^2,$\n",
    "\n",
    "4) $H_0$ и $H_1$ играют асимметричную роли. Наша цель в тесте гипотез это использовать данные чтобы определить так или иначе мы должны отклонить $H_0$\n",
    "\n",
    "Вне зависимости от данных, мы никогда не **\"принимаем нулевую гипотезу\"**, мы либо ее **Отвергаем** либо не **не в состоянии отклонить** ее. "
   ]
  },
  {
   "cell_type": "markdown",
   "id": "962f47be",
   "metadata": {},
   "source": []
  }
 ],
 "metadata": {
  "kernelspec": {
   "display_name": "py310",
   "language": "python",
   "name": "py310"
  },
  "language_info": {
   "codemirror_mode": {
    "name": "ipython",
    "version": 3
   },
   "file_extension": ".py",
   "mimetype": "text/x-python",
   "name": "python",
   "nbconvert_exporter": "python",
   "pygments_lexer": "ipython3",
   "version": "3.10.11"
  }
 },
 "nbformat": 4,
 "nbformat_minor": 5
}
