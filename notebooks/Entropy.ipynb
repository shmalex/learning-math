{
 "cells": [
  {
   "cell_type": "code",
   "execution_count": 1,
   "id": "1368da30",
   "metadata": {
    "ExecuteTime": {
     "end_time": "2024-01-26T15:16:15.580125Z",
     "start_time": "2024-01-26T15:16:15.451235Z"
    }
   },
   "outputs": [],
   "source": [
    "import numpy as np"
   ]
  },
  {
   "cell_type": "markdown",
   "id": "987e2a8e",
   "metadata": {},
   "source": [
    "Entropy is a measure of disorder in a system.\n",
    "\n"
   ]
  },
  {
   "cell_type": "code",
   "execution_count": null,
   "id": "01bf28e4",
   "metadata": {},
   "outputs": [],
   "source": [
    "def "
   ]
  }
 ],
 "metadata": {
  "kernelspec": {
   "display_name": "py310",
   "language": "python",
   "name": "py310"
  },
  "language_info": {
   "codemirror_mode": {
    "name": "ipython",
    "version": 3
   },
   "file_extension": ".py",
   "mimetype": "text/x-python",
   "name": "python",
   "nbconvert_exporter": "python",
   "pygments_lexer": "ipython3",
   "version": "3.10.11"
  }
 },
 "nbformat": 4,
 "nbformat_minor": 5
}
